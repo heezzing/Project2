{
  "nbformat": 4,
  "nbformat_minor": 0,
  "metadata": {
    "colab": {
      "name": "AI_11_김희경_Section2.ipynb",
      "provenance": [],
      "collapsed_sections": []
    },
    "kernelspec": {
      "name": "python3",
      "display_name": "Python 3"
    },
    "language_info": {
      "name": "python"
    }
  },
  "cells": [
    {
      "cell_type": "markdown",
      "source": [
        "# **국가별 국방비 예측 모델**\n",
        "\n",
        "\n",
        "---\n",
        "\n",
        "\n",
        "---\n",
        "\n",
        "\n",
        "#*1.   데이터 선정 이유 및 문제 정의*\n",
        "  *   선정 이유 : 우크라이나와 러시아의 전쟁을 보며 내가 누리고있는 안전은 언제든지 없어질수 있다고 느꼈다. 나라별로 국가를 지키기위해 국방비에 투자하는 규모가 궁금해져서 데이터를 선정하게 되었다.\n",
        "\n",
        "  * 군사비의 규모를 예측하기 위해 회귀 문제로 접근하고자 함.\n",
        "\n",
        "#*2. 데이터를 이용한 가설 및 평가지표, 베이스라인 선택*  \n",
        "-가설: gdp대비 국방비 비율과 국가지출 대비 국방비 비율이 국방비의 규모에 크게 영향을 미치고 있다.\n",
        "\n",
        "-예측하고자 하는 변수\n",
        "\n",
        "- target : 국방비\n",
        "\n",
        "- 그 이유 : 국방비를 보면 그 군대의 규모를 알 수 있어서.\n",
        "\n",
        "-베이스라인 모델\n",
        "\n",
        "- 선형회귀를 사용할것이다.\n",
        "\n",
        "- 이유 : 국방비의 규모를 알고 싶은거라 회귀가 맞다고 생각했다.\n",
        "\n",
        "\n",
        "-평가지표 선택\n",
        "\n",
        "- 회귀 평가지표(evaluation metrics): MAE,MSE,RMSE,R^2\n",
        "\n",
        "\n",
        "#*3. EDA와 데이터 전처리*\n",
        "\n",
        "- 종속변수 : M_USD\n",
        "\n",
        "- 독립변수 : M_of_gov,M_of_GDP\n",
        "\n",
        "- 전처리 : 결츨값 처리,불필요한 컬럼 처리\n",
        "\n",
        "\n",
        "#4.머신러닝 방식 적용 및 교차검증\n",
        "\n",
        "-  결정트리,부스팅(XGBRegressor)으로 모델을 학습함.\n",
        "\n",
        "- 교차검증 \n",
        "\n",
        "- Hyperparameter tuning\n",
        "\n",
        "\n",
        "\n",
        "---\n",
        "\n",
        "\n",
        "---\n",
        "\n",
        "\n",
        "\n",
        "\n",
        "\n",
        "\n",
        "\n"
      ],
      "metadata": {
        "id": "XcyYcb7VSaZy"
      }
    },
    {
      "cell_type": "markdown",
      "source": [
        "\n",
        "\n",
        "\n",
        "\n",
        "# EDA 와 데이터 전처리\n",
        "\n",
        "\n",
        "---\n",
        "\n"
      ],
      "metadata": {
        "id": "1JIIkOKDZYRf"
      }
    },
    {
      "cell_type": "code",
      "execution_count": 1,
      "metadata": {
        "id": "mAE5GSdmSBh3",
        "colab": {
          "base_uri": "https://localhost:8080/",
          "height": 1000
        },
        "outputId": "c0051cb1-0b91-4ae6-c693-615d5597c1bb"
      },
      "outputs": [
        {
          "output_type": "stream",
          "name": "stdout",
          "text": [
            "Looking in indexes: https://pypi.org/simple, https://us-python.pkg.dev/colab-wheels/public/simple/\n",
            "Collecting category_encoders\n",
            "  Downloading category_encoders-2.5.0-py2.py3-none-any.whl (69 kB)\n",
            "\u001b[K     |████████████████████████████████| 69 kB 3.3 MB/s \n",
            "\u001b[?25hRequirement already satisfied: statsmodels>=0.9.0 in /usr/local/lib/python3.7/dist-packages (from category_encoders) (0.10.2)\n",
            "Requirement already satisfied: scikit-learn>=0.20.0 in /usr/local/lib/python3.7/dist-packages (from category_encoders) (1.0.2)\n",
            "Requirement already satisfied: patsy>=0.5.1 in /usr/local/lib/python3.7/dist-packages (from category_encoders) (0.5.2)\n",
            "Requirement already satisfied: scipy>=1.0.0 in /usr/local/lib/python3.7/dist-packages (from category_encoders) (1.7.3)\n",
            "Requirement already satisfied: pandas>=1.0.5 in /usr/local/lib/python3.7/dist-packages (from category_encoders) (1.3.5)\n",
            "Requirement already satisfied: numpy>=1.14.0 in /usr/local/lib/python3.7/dist-packages (from category_encoders) (1.21.6)\n",
            "Requirement already satisfied: python-dateutil>=2.7.3 in /usr/local/lib/python3.7/dist-packages (from pandas>=1.0.5->category_encoders) (2.8.2)\n",
            "Requirement already satisfied: pytz>=2017.3 in /usr/local/lib/python3.7/dist-packages (from pandas>=1.0.5->category_encoders) (2022.1)\n",
            "Requirement already satisfied: six in /usr/local/lib/python3.7/dist-packages (from patsy>=0.5.1->category_encoders) (1.15.0)\n",
            "Requirement already satisfied: threadpoolctl>=2.0.0 in /usr/local/lib/python3.7/dist-packages (from scikit-learn>=0.20.0->category_encoders) (3.1.0)\n",
            "Requirement already satisfied: joblib>=0.11 in /usr/local/lib/python3.7/dist-packages (from scikit-learn>=0.20.0->category_encoders) (1.1.0)\n",
            "Installing collected packages: category-encoders\n",
            "Successfully installed category-encoders-2.5.0\n",
            "Looking in indexes: https://pypi.org/simple, https://us-python.pkg.dev/colab-wheels/public/simple/\n",
            "Collecting pandas-profiling==2.11.0\n",
            "  Downloading pandas_profiling-2.11.0-py2.py3-none-any.whl (243 kB)\n",
            "\u001b[K     |████████████████████████████████| 243 kB 5.4 MB/s \n",
            "\u001b[?25hRequirement already satisfied: joblib in /usr/local/lib/python3.7/dist-packages (from pandas-profiling==2.11.0) (1.1.0)\n",
            "Collecting confuse>=1.0.0\n",
            "  Downloading confuse-2.0.0-py3-none-any.whl (24 kB)\n",
            "Requirement already satisfied: jinja2>=2.11.1 in /usr/local/lib/python3.7/dist-packages (from pandas-profiling==2.11.0) (2.11.3)\n",
            "Collecting htmlmin>=0.1.12\n",
            "  Downloading htmlmin-0.1.12.tar.gz (19 kB)\n",
            "Requirement already satisfied: scipy>=1.4.1 in /usr/local/lib/python3.7/dist-packages (from pandas-profiling==2.11.0) (1.7.3)\n",
            "Requirement already satisfied: seaborn>=0.10.1 in /usr/local/lib/python3.7/dist-packages (from pandas-profiling==2.11.0) (0.11.2)\n",
            "Requirement already satisfied: matplotlib>=3.2.0 in /usr/local/lib/python3.7/dist-packages (from pandas-profiling==2.11.0) (3.2.2)\n",
            "Requirement already satisfied: missingno>=0.4.2 in /usr/local/lib/python3.7/dist-packages (from pandas-profiling==2.11.0) (0.5.1)\n",
            "Collecting tangled-up-in-unicode>=0.0.6\n",
            "  Downloading tangled_up_in_unicode-0.2.0-py3-none-any.whl (4.7 MB)\n",
            "\u001b[K     |████████████████████████████████| 4.7 MB 51.4 MB/s \n",
            "\u001b[?25hRequirement already satisfied: tqdm>=4.48.2 in /usr/local/lib/python3.7/dist-packages (from pandas-profiling==2.11.0) (4.64.0)\n",
            "Requirement already satisfied: attrs>=19.3.0 in /usr/local/lib/python3.7/dist-packages (from pandas-profiling==2.11.0) (22.1.0)\n",
            "Collecting requests>=2.24.0\n",
            "  Downloading requests-2.28.1-py3-none-any.whl (62 kB)\n",
            "\u001b[K     |████████████████████████████████| 62 kB 1.4 MB/s \n",
            "\u001b[?25hCollecting phik>=0.10.0\n",
            "  Downloading phik-0.12.2-cp37-cp37m-manylinux_2_17_x86_64.manylinux2014_x86_64.whl (690 kB)\n",
            "\u001b[K     |████████████████████████████████| 690 kB 42.0 MB/s \n",
            "\u001b[?25hRequirement already satisfied: numpy>=1.16.0 in /usr/local/lib/python3.7/dist-packages (from pandas-profiling==2.11.0) (1.21.6)\n",
            "Requirement already satisfied: ipywidgets>=7.5.1 in /usr/local/lib/python3.7/dist-packages (from pandas-profiling==2.11.0) (7.7.1)\n",
            "Requirement already satisfied: pandas!=1.0.0,!=1.0.1,!=1.0.2,!=1.1.0,>=0.25.3 in /usr/local/lib/python3.7/dist-packages (from pandas-profiling==2.11.0) (1.3.5)\n",
            "Collecting visions[type_image_path]==0.6.0\n",
            "  Downloading visions-0.6.0-py3-none-any.whl (75 kB)\n",
            "\u001b[K     |████████████████████████████████| 75 kB 3.8 MB/s \n",
            "\u001b[?25hRequirement already satisfied: networkx>=2.4 in /usr/local/lib/python3.7/dist-packages (from visions[type_image_path]==0.6.0->pandas-profiling==2.11.0) (2.6.3)\n",
            "Collecting imagehash\n",
            "  Downloading ImageHash-4.2.1.tar.gz (812 kB)\n",
            "\u001b[K     |████████████████████████████████| 812 kB 36.0 MB/s \n",
            "\u001b[?25hRequirement already satisfied: Pillow in /usr/local/lib/python3.7/dist-packages (from visions[type_image_path]==0.6.0->pandas-profiling==2.11.0) (7.1.2)\n",
            "Requirement already satisfied: pyyaml in /usr/local/lib/python3.7/dist-packages (from confuse>=1.0.0->pandas-profiling==2.11.0) (3.13)\n",
            "Requirement already satisfied: traitlets>=4.3.1 in /usr/local/lib/python3.7/dist-packages (from ipywidgets>=7.5.1->pandas-profiling==2.11.0) (5.1.1)\n",
            "Requirement already satisfied: jupyterlab-widgets>=1.0.0 in /usr/local/lib/python3.7/dist-packages (from ipywidgets>=7.5.1->pandas-profiling==2.11.0) (1.1.1)\n",
            "Requirement already satisfied: ipykernel>=4.5.1 in /usr/local/lib/python3.7/dist-packages (from ipywidgets>=7.5.1->pandas-profiling==2.11.0) (5.3.4)\n",
            "Requirement already satisfied: ipython>=4.0.0 in /usr/local/lib/python3.7/dist-packages (from ipywidgets>=7.5.1->pandas-profiling==2.11.0) (7.9.0)\n",
            "Requirement already satisfied: ipython-genutils~=0.2.0 in /usr/local/lib/python3.7/dist-packages (from ipywidgets>=7.5.1->pandas-profiling==2.11.0) (0.2.0)\n",
            "Requirement already satisfied: widgetsnbextension~=3.6.0 in /usr/local/lib/python3.7/dist-packages (from ipywidgets>=7.5.1->pandas-profiling==2.11.0) (3.6.1)\n",
            "Requirement already satisfied: tornado>=4.2 in /usr/local/lib/python3.7/dist-packages (from ipykernel>=4.5.1->ipywidgets>=7.5.1->pandas-profiling==2.11.0) (5.1.1)\n",
            "Requirement already satisfied: jupyter-client in /usr/local/lib/python3.7/dist-packages (from ipykernel>=4.5.1->ipywidgets>=7.5.1->pandas-profiling==2.11.0) (6.1.12)\n",
            "Collecting jedi>=0.10\n",
            "  Downloading jedi-0.18.1-py2.py3-none-any.whl (1.6 MB)\n",
            "\u001b[K     |████████████████████████████████| 1.6 MB 41.2 MB/s \n",
            "\u001b[?25hRequirement already satisfied: backcall in /usr/local/lib/python3.7/dist-packages (from ipython>=4.0.0->ipywidgets>=7.5.1->pandas-profiling==2.11.0) (0.2.0)\n",
            "Requirement already satisfied: pexpect in /usr/local/lib/python3.7/dist-packages (from ipython>=4.0.0->ipywidgets>=7.5.1->pandas-profiling==2.11.0) (4.8.0)\n",
            "Requirement already satisfied: prompt-toolkit<2.1.0,>=2.0.0 in /usr/local/lib/python3.7/dist-packages (from ipython>=4.0.0->ipywidgets>=7.5.1->pandas-profiling==2.11.0) (2.0.10)\n",
            "Requirement already satisfied: setuptools>=18.5 in /usr/local/lib/python3.7/dist-packages (from ipython>=4.0.0->ipywidgets>=7.5.1->pandas-profiling==2.11.0) (57.4.0)\n",
            "Requirement already satisfied: pickleshare in /usr/local/lib/python3.7/dist-packages (from ipython>=4.0.0->ipywidgets>=7.5.1->pandas-profiling==2.11.0) (0.7.5)\n",
            "Requirement already satisfied: pygments in /usr/local/lib/python3.7/dist-packages (from ipython>=4.0.0->ipywidgets>=7.5.1->pandas-profiling==2.11.0) (2.6.1)\n",
            "Requirement already satisfied: decorator in /usr/local/lib/python3.7/dist-packages (from ipython>=4.0.0->ipywidgets>=7.5.1->pandas-profiling==2.11.0) (4.4.2)\n",
            "Requirement already satisfied: parso<0.9.0,>=0.8.0 in /usr/local/lib/python3.7/dist-packages (from jedi>=0.10->ipython>=4.0.0->ipywidgets>=7.5.1->pandas-profiling==2.11.0) (0.8.3)\n",
            "Requirement already satisfied: MarkupSafe>=0.23 in /usr/local/lib/python3.7/dist-packages (from jinja2>=2.11.1->pandas-profiling==2.11.0) (2.0.1)\n",
            "Requirement already satisfied: kiwisolver>=1.0.1 in /usr/local/lib/python3.7/dist-packages (from matplotlib>=3.2.0->pandas-profiling==2.11.0) (1.4.4)\n",
            "Requirement already satisfied: python-dateutil>=2.1 in /usr/local/lib/python3.7/dist-packages (from matplotlib>=3.2.0->pandas-profiling==2.11.0) (2.8.2)\n",
            "Requirement already satisfied: pyparsing!=2.0.4,!=2.1.2,!=2.1.6,>=2.0.1 in /usr/local/lib/python3.7/dist-packages (from matplotlib>=3.2.0->pandas-profiling==2.11.0) (3.0.9)\n",
            "Requirement already satisfied: cycler>=0.10 in /usr/local/lib/python3.7/dist-packages (from matplotlib>=3.2.0->pandas-profiling==2.11.0) (0.11.0)\n",
            "Requirement already satisfied: typing-extensions in /usr/local/lib/python3.7/dist-packages (from kiwisolver>=1.0.1->matplotlib>=3.2.0->pandas-profiling==2.11.0) (4.1.1)\n",
            "Requirement already satisfied: pytz>=2017.3 in /usr/local/lib/python3.7/dist-packages (from pandas!=1.0.0,!=1.0.1,!=1.0.2,!=1.1.0,>=0.25.3->pandas-profiling==2.11.0) (2022.1)\n",
            "Requirement already satisfied: wcwidth in /usr/local/lib/python3.7/dist-packages (from prompt-toolkit<2.1.0,>=2.0.0->ipython>=4.0.0->ipywidgets>=7.5.1->pandas-profiling==2.11.0) (0.2.5)\n",
            "Requirement already satisfied: six>=1.9.0 in /usr/local/lib/python3.7/dist-packages (from prompt-toolkit<2.1.0,>=2.0.0->ipython>=4.0.0->ipywidgets>=7.5.1->pandas-profiling==2.11.0) (1.15.0)\n",
            "Requirement already satisfied: certifi>=2017.4.17 in /usr/local/lib/python3.7/dist-packages (from requests>=2.24.0->pandas-profiling==2.11.0) (2022.6.15)\n",
            "Requirement already satisfied: charset-normalizer<3,>=2 in /usr/local/lib/python3.7/dist-packages (from requests>=2.24.0->pandas-profiling==2.11.0) (2.1.0)\n",
            "Requirement already satisfied: idna<4,>=2.5 in /usr/local/lib/python3.7/dist-packages (from requests>=2.24.0->pandas-profiling==2.11.0) (2.10)\n",
            "Requirement already satisfied: urllib3<1.27,>=1.21.1 in /usr/local/lib/python3.7/dist-packages (from requests>=2.24.0->pandas-profiling==2.11.0) (1.24.3)\n",
            "Requirement already satisfied: notebook>=4.4.1 in /usr/local/lib/python3.7/dist-packages (from widgetsnbextension~=3.6.0->ipywidgets>=7.5.1->pandas-profiling==2.11.0) (5.3.1)\n",
            "Requirement already satisfied: terminado>=0.8.1 in /usr/local/lib/python3.7/dist-packages (from notebook>=4.4.1->widgetsnbextension~=3.6.0->ipywidgets>=7.5.1->pandas-profiling==2.11.0) (0.13.3)\n",
            "Requirement already satisfied: jupyter-core>=4.4.0 in /usr/local/lib/python3.7/dist-packages (from notebook>=4.4.1->widgetsnbextension~=3.6.0->ipywidgets>=7.5.1->pandas-profiling==2.11.0) (4.11.1)\n",
            "Requirement already satisfied: nbformat in /usr/local/lib/python3.7/dist-packages (from notebook>=4.4.1->widgetsnbextension~=3.6.0->ipywidgets>=7.5.1->pandas-profiling==2.11.0) (5.4.0)\n",
            "Requirement already satisfied: Send2Trash in /usr/local/lib/python3.7/dist-packages (from notebook>=4.4.1->widgetsnbextension~=3.6.0->ipywidgets>=7.5.1->pandas-profiling==2.11.0) (1.8.0)\n",
            "Requirement already satisfied: nbconvert in /usr/local/lib/python3.7/dist-packages (from notebook>=4.4.1->widgetsnbextension~=3.6.0->ipywidgets>=7.5.1->pandas-profiling==2.11.0) (5.6.1)\n",
            "Requirement already satisfied: pyzmq>=13 in /usr/local/lib/python3.7/dist-packages (from jupyter-client->ipykernel>=4.5.1->ipywidgets>=7.5.1->pandas-profiling==2.11.0) (23.2.0)\n",
            "Requirement already satisfied: ptyprocess in /usr/local/lib/python3.7/dist-packages (from terminado>=0.8.1->notebook>=4.4.1->widgetsnbextension~=3.6.0->ipywidgets>=7.5.1->pandas-profiling==2.11.0) (0.7.0)\n",
            "Requirement already satisfied: PyWavelets in /usr/local/lib/python3.7/dist-packages (from imagehash->visions[type_image_path]==0.6.0->pandas-profiling==2.11.0) (1.3.0)\n",
            "Requirement already satisfied: bleach in /usr/local/lib/python3.7/dist-packages (from nbconvert->notebook>=4.4.1->widgetsnbextension~=3.6.0->ipywidgets>=7.5.1->pandas-profiling==2.11.0) (5.0.1)\n",
            "Requirement already satisfied: pandocfilters>=1.4.1 in /usr/local/lib/python3.7/dist-packages (from nbconvert->notebook>=4.4.1->widgetsnbextension~=3.6.0->ipywidgets>=7.5.1->pandas-profiling==2.11.0) (1.5.0)\n",
            "Requirement already satisfied: entrypoints>=0.2.2 in /usr/local/lib/python3.7/dist-packages (from nbconvert->notebook>=4.4.1->widgetsnbextension~=3.6.0->ipywidgets>=7.5.1->pandas-profiling==2.11.0) (0.4)\n",
            "Requirement already satisfied: testpath in /usr/local/lib/python3.7/dist-packages (from nbconvert->notebook>=4.4.1->widgetsnbextension~=3.6.0->ipywidgets>=7.5.1->pandas-profiling==2.11.0) (0.6.0)\n",
            "Requirement already satisfied: defusedxml in /usr/local/lib/python3.7/dist-packages (from nbconvert->notebook>=4.4.1->widgetsnbextension~=3.6.0->ipywidgets>=7.5.1->pandas-profiling==2.11.0) (0.7.1)\n",
            "Requirement already satisfied: mistune<2,>=0.8.1 in /usr/local/lib/python3.7/dist-packages (from nbconvert->notebook>=4.4.1->widgetsnbextension~=3.6.0->ipywidgets>=7.5.1->pandas-profiling==2.11.0) (0.8.4)\n",
            "Requirement already satisfied: fastjsonschema in /usr/local/lib/python3.7/dist-packages (from nbformat->notebook>=4.4.1->widgetsnbextension~=3.6.0->ipywidgets>=7.5.1->pandas-profiling==2.11.0) (2.16.1)\n",
            "Requirement already satisfied: jsonschema>=2.6 in /usr/local/lib/python3.7/dist-packages (from nbformat->notebook>=4.4.1->widgetsnbextension~=3.6.0->ipywidgets>=7.5.1->pandas-profiling==2.11.0) (4.3.3)\n",
            "Requirement already satisfied: importlib-resources>=1.4.0 in /usr/local/lib/python3.7/dist-packages (from jsonschema>=2.6->nbformat->notebook>=4.4.1->widgetsnbextension~=3.6.0->ipywidgets>=7.5.1->pandas-profiling==2.11.0) (5.9.0)\n",
            "Requirement already satisfied: importlib-metadata in /usr/local/lib/python3.7/dist-packages (from jsonschema>=2.6->nbformat->notebook>=4.4.1->widgetsnbextension~=3.6.0->ipywidgets>=7.5.1->pandas-profiling==2.11.0) (4.12.0)\n",
            "Requirement already satisfied: pyrsistent!=0.17.0,!=0.17.1,!=0.17.2,>=0.14.0 in /usr/local/lib/python3.7/dist-packages (from jsonschema>=2.6->nbformat->notebook>=4.4.1->widgetsnbextension~=3.6.0->ipywidgets>=7.5.1->pandas-profiling==2.11.0) (0.18.1)\n",
            "Requirement already satisfied: zipp>=3.1.0 in /usr/local/lib/python3.7/dist-packages (from importlib-resources>=1.4.0->jsonschema>=2.6->nbformat->notebook>=4.4.1->widgetsnbextension~=3.6.0->ipywidgets>=7.5.1->pandas-profiling==2.11.0) (3.8.1)\n",
            "Requirement already satisfied: webencodings in /usr/local/lib/python3.7/dist-packages (from bleach->nbconvert->notebook>=4.4.1->widgetsnbextension~=3.6.0->ipywidgets>=7.5.1->pandas-profiling==2.11.0) (0.5.1)\n",
            "Building wheels for collected packages: htmlmin, imagehash\n",
            "  Building wheel for htmlmin (setup.py) ... \u001b[?25l\u001b[?25hdone\n",
            "  Created wheel for htmlmin: filename=htmlmin-0.1.12-py3-none-any.whl size=27098 sha256=c52c2a0a2abc8fcc0dfb88369da07dace732aebf44bcd36b89c6c291489d9ecb\n",
            "  Stored in directory: /root/.cache/pip/wheels/70/e1/52/5b14d250ba868768823940c3229e9950d201a26d0bd3ee8655\n",
            "  Building wheel for imagehash (setup.py) ... \u001b[?25l\u001b[?25hdone\n",
            "  Created wheel for imagehash: filename=ImageHash-4.2.1-py2.py3-none-any.whl size=295206 sha256=2544c07201f855f607a5c2a3a836ebb4f471781baf8137ec76ff0778415a2f01\n",
            "  Stored in directory: /root/.cache/pip/wheels/4c/d5/59/5e3e297533ddb09407769762985d134135064c6831e29a914e\n",
            "Successfully built htmlmin imagehash\n",
            "Installing collected packages: jedi, tangled-up-in-unicode, visions, imagehash, requests, phik, htmlmin, confuse, pandas-profiling\n",
            "  Attempting uninstall: requests\n",
            "    Found existing installation: requests 2.23.0\n",
            "    Uninstalling requests-2.23.0:\n",
            "      Successfully uninstalled requests-2.23.0\n",
            "  Attempting uninstall: pandas-profiling\n",
            "    Found existing installation: pandas-profiling 1.4.1\n",
            "    Uninstalling pandas-profiling-1.4.1:\n",
            "      Successfully uninstalled pandas-profiling-1.4.1\n",
            "Successfully installed confuse-2.0.0 htmlmin-0.1.12 imagehash-4.2.1 jedi-0.18.1 pandas-profiling-2.11.0 phik-0.12.2 requests-2.28.1 tangled-up-in-unicode-0.2.0 visions-0.6.0\n",
            "Reading package lists... Done\n",
            "Building dependency tree       \n",
            "Reading state information... Done\n",
            "The following package was automatically installed and is no longer required:\n",
            "  libnvidia-common-460\n",
            "Use 'sudo apt autoremove' to remove it.\n",
            "The following NEW packages will be installed:\n",
            "  fonts-nanum\n",
            "0 upgraded, 1 newly installed, 0 to remove and 20 not upgraded.\n",
            "Need to get 9,604 kB of archives.\n",
            "After this operation, 29.5 MB of additional disk space will be used.\n",
            "Get:1 http://archive.ubuntu.com/ubuntu bionic/universe amd64 fonts-nanum all 20170925-1 [9,604 kB]\n",
            "Fetched 9,604 kB in 1s (17.8 MB/s)\n",
            "debconf: unable to initialize frontend: Dialog\n",
            "debconf: (No usable dialog-like program is installed, so the dialog based frontend cannot be used. at /usr/share/perl5/Debconf/FrontEnd/Dialog.pm line 76, <> line 1.)\n",
            "debconf: falling back to frontend: Readline\n",
            "debconf: unable to initialize frontend: Readline\n",
            "debconf: (This frontend requires a controlling tty.)\n",
            "debconf: falling back to frontend: Teletype\n",
            "dpkg-preconfigure: unable to re-open stdin: \n",
            "Selecting previously unselected package fonts-nanum.\n",
            "(Reading database ... 155676 files and directories currently installed.)\n",
            "Preparing to unpack .../fonts-nanum_20170925-1_all.deb ...\n",
            "Unpacking fonts-nanum (20170925-1) ...\n",
            "Setting up fonts-nanum (20170925-1) ...\n",
            "Processing triggers for fontconfig (2.12.6-0ubuntu2) ...\n",
            "/usr/share/fonts: caching, new cache contents: 0 fonts, 1 dirs\n",
            "/usr/share/fonts/truetype: caching, new cache contents: 0 fonts, 3 dirs\n",
            "/usr/share/fonts/truetype/humor-sans: caching, new cache contents: 1 fonts, 0 dirs\n",
            "/usr/share/fonts/truetype/liberation: caching, new cache contents: 16 fonts, 0 dirs\n",
            "/usr/share/fonts/truetype/nanum: caching, new cache contents: 10 fonts, 0 dirs\n",
            "/usr/local/share/fonts: caching, new cache contents: 0 fonts, 0 dirs\n",
            "/root/.local/share/fonts: skipping, no such directory\n",
            "/root/.fonts: skipping, no such directory\n",
            "/var/cache/fontconfig: cleaning cache directory\n",
            "/root/.cache/fontconfig: not cleaning non-existent cache directory\n",
            "/root/.fontconfig: not cleaning non-existent cache directory\n",
            "fc-cache: succeeded\n",
            "Looking in indexes: https://pypi.org/simple, https://us-python.pkg.dev/colab-wheels/public/simple/\n",
            "Collecting eli5\n",
            "  Downloading eli5-0.13.0.tar.gz (216 kB)\n",
            "\u001b[K     |████████████████████████████████| 216 kB 5.3 MB/s \n",
            "\u001b[?25hRequirement already satisfied: attrs>17.1.0 in /usr/local/lib/python3.7/dist-packages (from eli5) (22.1.0)\n",
            "Collecting jinja2>=3.0.0\n",
            "  Downloading Jinja2-3.1.2-py3-none-any.whl (133 kB)\n",
            "\u001b[K     |████████████████████████████████| 133 kB 50.3 MB/s \n",
            "\u001b[?25hRequirement already satisfied: numpy>=1.9.0 in /usr/local/lib/python3.7/dist-packages (from eli5) (1.21.6)\n",
            "Requirement already satisfied: scipy in /usr/local/lib/python3.7/dist-packages (from eli5) (1.7.3)\n",
            "Requirement already satisfied: six in /usr/local/lib/python3.7/dist-packages (from eli5) (1.15.0)\n",
            "Requirement already satisfied: scikit-learn>=0.20 in /usr/local/lib/python3.7/dist-packages (from eli5) (1.0.2)\n",
            "Requirement already satisfied: graphviz in /usr/local/lib/python3.7/dist-packages (from eli5) (0.10.1)\n",
            "Requirement already satisfied: tabulate>=0.7.7 in /usr/local/lib/python3.7/dist-packages (from eli5) (0.8.10)\n",
            "Requirement already satisfied: MarkupSafe>=2.0 in /usr/local/lib/python3.7/dist-packages (from jinja2>=3.0.0->eli5) (2.0.1)\n",
            "Requirement already satisfied: threadpoolctl>=2.0.0 in /usr/local/lib/python3.7/dist-packages (from scikit-learn>=0.20->eli5) (3.1.0)\n",
            "Requirement already satisfied: joblib>=0.11 in /usr/local/lib/python3.7/dist-packages (from scikit-learn>=0.20->eli5) (1.1.0)\n",
            "Building wheels for collected packages: eli5\n",
            "  Building wheel for eli5 (setup.py) ... \u001b[?25l\u001b[?25hdone\n",
            "  Created wheel for eli5: filename=eli5-0.13.0-py2.py3-none-any.whl size=107748 sha256=b295c48a081d751b06eaa14c957e3d5842e0137bfbe20d476f90917028991904\n",
            "  Stored in directory: /root/.cache/pip/wheels/cc/3c/96/3ead31a8e6c20fc0f1a707fde2e05d49a80b1b4b30096573be\n",
            "Successfully built eli5\n",
            "Installing collected packages: jinja2, eli5\n",
            "  Attempting uninstall: jinja2\n",
            "    Found existing installation: Jinja2 2.11.3\n",
            "    Uninstalling Jinja2-2.11.3:\n",
            "      Successfully uninstalled Jinja2-2.11.3\n",
            "\u001b[31mERROR: pip's dependency resolver does not currently take into account all the packages that are installed. This behaviour is the source of the following dependency conflicts.\n",
            "flask 1.1.4 requires Jinja2<3.0,>=2.10.1, but you have jinja2 3.1.2 which is incompatible.\u001b[0m\n",
            "Successfully installed eli5-0.13.0 jinja2-3.1.2\n",
            "Looking in indexes: https://pypi.org/simple, https://us-python.pkg.dev/colab-wheels/public/simple/\n",
            "Collecting pdpbox\n",
            "  Downloading PDPbox-0.2.1.tar.gz (34.0 MB)\n",
            "\u001b[K     |████████████████████████████████| 34.0 MB 204 kB/s \n",
            "\u001b[?25hRequirement already satisfied: pandas in /usr/local/lib/python3.7/dist-packages (from pdpbox) (1.3.5)\n",
            "Requirement already satisfied: numpy in /usr/local/lib/python3.7/dist-packages (from pdpbox) (1.21.6)\n",
            "Requirement already satisfied: scipy in /usr/local/lib/python3.7/dist-packages (from pdpbox) (1.7.3)\n",
            "Requirement already satisfied: joblib in /usr/local/lib/python3.7/dist-packages (from pdpbox) (1.1.0)\n",
            "Requirement already satisfied: psutil in /usr/local/lib/python3.7/dist-packages (from pdpbox) (5.4.8)\n",
            "Collecting matplotlib==3.1.1\n",
            "  Downloading matplotlib-3.1.1-cp37-cp37m-manylinux1_x86_64.whl (13.1 MB)\n",
            "\u001b[K     |████████████████████████████████| 13.1 MB 35.0 MB/s \n",
            "\u001b[?25hRequirement already satisfied: sklearn in /usr/local/lib/python3.7/dist-packages (from pdpbox) (0.0)\n",
            "Requirement already satisfied: kiwisolver>=1.0.1 in /usr/local/lib/python3.7/dist-packages (from matplotlib==3.1.1->pdpbox) (1.4.4)\n",
            "Requirement already satisfied: cycler>=0.10 in /usr/local/lib/python3.7/dist-packages (from matplotlib==3.1.1->pdpbox) (0.11.0)\n",
            "Requirement already satisfied: pyparsing!=2.0.4,!=2.1.2,!=2.1.6,>=2.0.1 in /usr/local/lib/python3.7/dist-packages (from matplotlib==3.1.1->pdpbox) (3.0.9)\n",
            "Requirement already satisfied: python-dateutil>=2.1 in /usr/local/lib/python3.7/dist-packages (from matplotlib==3.1.1->pdpbox) (2.8.2)\n",
            "Requirement already satisfied: typing-extensions in /usr/local/lib/python3.7/dist-packages (from kiwisolver>=1.0.1->matplotlib==3.1.1->pdpbox) (4.1.1)\n",
            "Requirement already satisfied: six>=1.5 in /usr/local/lib/python3.7/dist-packages (from python-dateutil>=2.1->matplotlib==3.1.1->pdpbox) (1.15.0)\n",
            "Requirement already satisfied: pytz>=2017.3 in /usr/local/lib/python3.7/dist-packages (from pandas->pdpbox) (2022.1)\n",
            "Requirement already satisfied: scikit-learn in /usr/local/lib/python3.7/dist-packages (from sklearn->pdpbox) (1.0.2)\n",
            "Requirement already satisfied: threadpoolctl>=2.0.0 in /usr/local/lib/python3.7/dist-packages (from scikit-learn->sklearn->pdpbox) (3.1.0)\n",
            "Building wheels for collected packages: pdpbox\n",
            "  Building wheel for pdpbox (setup.py) ... \u001b[?25l\u001b[?25hdone\n",
            "  Created wheel for pdpbox: filename=PDPbox-0.2.1-py3-none-any.whl size=35758224 sha256=278c8aee98a2557d7164fcc77d130c7b49ac061ea48fd9ebff5ab2d272e8fe3f\n",
            "  Stored in directory: /root/.cache/pip/wheels/f4/d0/1a/b80035625c53131f52906a6fc4dd690d8efd2bf8af6a4015eb\n",
            "Successfully built pdpbox\n",
            "Installing collected packages: matplotlib, pdpbox\n",
            "  Attempting uninstall: matplotlib\n",
            "    Found existing installation: matplotlib 3.2.2\n",
            "    Uninstalling matplotlib-3.2.2:\n",
            "      Successfully uninstalled matplotlib-3.2.2\n",
            "\u001b[31mERROR: pip's dependency resolver does not currently take into account all the packages that are installed. This behaviour is the source of the following dependency conflicts.\n",
            "pandas-profiling 2.11.0 requires matplotlib>=3.2.0, but you have matplotlib 3.1.1 which is incompatible.\u001b[0m\n",
            "Successfully installed matplotlib-3.1.1 pdpbox-0.2.1\n"
          ]
        },
        {
          "output_type": "display_data",
          "data": {
            "application/vnd.colab-display-data+json": {
              "pip_warning": {
                "packages": [
                  "matplotlib",
                  "mpl_toolkits"
                ]
              }
            }
          },
          "metadata": {}
        },
        {
          "output_type": "stream",
          "name": "stdout",
          "text": [
            "Looking in indexes: https://pypi.org/simple, https://us-python.pkg.dev/colab-wheels/public/simple/\n",
            "Collecting shap\n",
            "  Downloading shap-0.41.0-cp37-cp37m-manylinux_2_12_x86_64.manylinux2010_x86_64.whl (569 kB)\n",
            "\u001b[K     |████████████████████████████████| 569 kB 5.3 MB/s \n",
            "\u001b[?25hCollecting slicer==0.0.7\n",
            "  Downloading slicer-0.0.7-py3-none-any.whl (14 kB)\n",
            "Requirement already satisfied: packaging>20.9 in /usr/local/lib/python3.7/dist-packages (from shap) (21.3)\n",
            "Requirement already satisfied: pandas in /usr/local/lib/python3.7/dist-packages (from shap) (1.3.5)\n",
            "Requirement already satisfied: scipy in /usr/local/lib/python3.7/dist-packages (from shap) (1.7.3)\n",
            "Requirement already satisfied: numba in /usr/local/lib/python3.7/dist-packages (from shap) (0.56.0)\n",
            "Requirement already satisfied: tqdm>4.25.0 in /usr/local/lib/python3.7/dist-packages (from shap) (4.64.0)\n",
            "Requirement already satisfied: cloudpickle in /usr/local/lib/python3.7/dist-packages (from shap) (1.3.0)\n",
            "Requirement already satisfied: scikit-learn in /usr/local/lib/python3.7/dist-packages (from shap) (1.0.2)\n",
            "Requirement already satisfied: numpy in /usr/local/lib/python3.7/dist-packages (from shap) (1.21.6)\n",
            "Requirement already satisfied: pyparsing!=3.0.5,>=2.0.2 in /usr/local/lib/python3.7/dist-packages (from packaging>20.9->shap) (3.0.9)\n",
            "Requirement already satisfied: importlib-metadata in /usr/local/lib/python3.7/dist-packages (from numba->shap) (4.12.0)\n",
            "Requirement already satisfied: setuptools in /usr/local/lib/python3.7/dist-packages (from numba->shap) (57.4.0)\n",
            "Requirement already satisfied: llvmlite<0.40,>=0.39.0dev0 in /usr/local/lib/python3.7/dist-packages (from numba->shap) (0.39.0)\n",
            "Requirement already satisfied: typing-extensions>=3.6.4 in /usr/local/lib/python3.7/dist-packages (from importlib-metadata->numba->shap) (4.1.1)\n",
            "Requirement already satisfied: zipp>=0.5 in /usr/local/lib/python3.7/dist-packages (from importlib-metadata->numba->shap) (3.8.1)\n",
            "Requirement already satisfied: pytz>=2017.3 in /usr/local/lib/python3.7/dist-packages (from pandas->shap) (2022.1)\n",
            "Requirement already satisfied: python-dateutil>=2.7.3 in /usr/local/lib/python3.7/dist-packages (from pandas->shap) (2.8.2)\n",
            "Requirement already satisfied: six>=1.5 in /usr/local/lib/python3.7/dist-packages (from python-dateutil>=2.7.3->pandas->shap) (1.15.0)\n",
            "Requirement already satisfied: threadpoolctl>=2.0.0 in /usr/local/lib/python3.7/dist-packages (from scikit-learn->shap) (3.1.0)\n",
            "Requirement already satisfied: joblib>=0.11 in /usr/local/lib/python3.7/dist-packages (from scikit-learn->shap) (1.1.0)\n",
            "Installing collected packages: slicer, shap\n",
            "Successfully installed shap-0.41.0 slicer-0.0.7\n",
            "Looking in indexes: https://pypi.org/simple, https://us-python.pkg.dev/colab-wheels/public/simple/\n",
            "Requirement already satisfied: scikit-learn in /usr/local/lib/python3.7/dist-packages (1.0.2)\n",
            "Requirement already satisfied: scipy>=1.1.0 in /usr/local/lib/python3.7/dist-packages (from scikit-learn) (1.7.3)\n",
            "Requirement already satisfied: threadpoolctl>=2.0.0 in /usr/local/lib/python3.7/dist-packages (from scikit-learn) (3.1.0)\n",
            "Requirement already satisfied: joblib>=0.11 in /usr/local/lib/python3.7/dist-packages (from scikit-learn) (1.1.0)\n",
            "Requirement already satisfied: numpy>=1.14.6 in /usr/local/lib/python3.7/dist-packages (from scikit-learn) (1.21.6)\n",
            "Looking in indexes: https://pypi.org/simple, https://us-python.pkg.dev/colab-wheels/public/simple/\n",
            "Requirement already satisfied: statsmodels in /usr/local/lib/python3.7/dist-packages (0.10.2)\n",
            "Requirement already satisfied: pandas>=0.19 in /usr/local/lib/python3.7/dist-packages (from statsmodels) (1.3.5)\n",
            "Requirement already satisfied: numpy>=1.11 in /usr/local/lib/python3.7/dist-packages (from statsmodels) (1.21.6)\n",
            "Requirement already satisfied: scipy>=0.18 in /usr/local/lib/python3.7/dist-packages (from statsmodels) (1.7.3)\n",
            "Requirement already satisfied: patsy>=0.4.0 in /usr/local/lib/python3.7/dist-packages (from statsmodels) (0.5.2)\n",
            "Requirement already satisfied: python-dateutil>=2.7.3 in /usr/local/lib/python3.7/dist-packages (from pandas>=0.19->statsmodels) (2.8.2)\n",
            "Requirement already satisfied: pytz>=2017.3 in /usr/local/lib/python3.7/dist-packages (from pandas>=0.19->statsmodels) (2022.1)\n",
            "Requirement already satisfied: six in /usr/local/lib/python3.7/dist-packages (from patsy>=0.4.0->statsmodels) (1.15.0)\n",
            "/bin/bash: conda: command not found\n",
            "Looking in indexes: https://pypi.org/simple, https://us-python.pkg.dev/colab-wheels/public/simple/\n",
            "Requirement already satisfied: pydotplus in /usr/local/lib/python3.7/dist-packages (2.0.2)\n",
            "Requirement already satisfied: pyparsing>=2.0.1 in /usr/local/lib/python3.7/dist-packages (from pydotplus) (3.0.9)\n",
            "Looking in indexes: https://pypi.org/simple, https://us-python.pkg.dev/colab-wheels/public/simple/\n",
            "Requirement already satisfied: graphviz in /usr/local/lib/python3.7/dist-packages (0.10.1)\n"
          ]
        }
      ],
      "source": [
        "!pip install category_encoders\n",
        "!pip install pandas-profiling==2.11.0 --upgrade\n",
        "!sudo apt-get install -y fonts-nanum\n",
        "!sudo fc-cache -fv\n",
        "!rm ~/.cache/matplotlib -rf\n",
        "!pip install eli5\n",
        "!pip install pdpbox\n",
        "!pip install shap\n",
        "!pip install --upgrade scikit-learn\n",
        "!pip install statsmodels\n",
        "!conda install python-graphviz\n",
        "!pip install pydotplus\n",
        "!pip install graphviz"
      ]
    },
    {
      "cell_type": "code",
      "source": [
        "import pandas as pd\n",
        "from google.colab import files\n",
        "import numpy as np\n",
        "from category_encoders import OneHotEncoder\n",
        "from sklearn.impute import SimpleImputer\n",
        "from sklearn.preprocessing import StandardScaler\n",
        "from sklearn.linear_model import LogisticRegression\n",
        "from sklearn.pipeline import make_pipeline\n",
        "#from pandas_profiling import ProfileReport\n",
        "from sklearn.model_selection import train_test_split\n",
        "import matplotlib.pyplot as plt\n",
        "from sklearn.tree import DecisionTreeClassifier\n",
        "import seaborn as sns\n",
        "import warnings\n",
        "warnings.simplefilter(action=\"ignore\", category=FutureWarning)\n",
        "from pandas.plotting import scatter_matrix\n",
        "from sklearn.linear_model import LinearRegression\n",
        "import pydotplus\n",
        "from sklearn.tree import export_graphviz\n",
        "from IPython.core.display import Image\n"
      ],
      "metadata": {
        "id": "ozeRuhcISjBn",
        "colab": {
          "base_uri": "https://localhost:8080/"
        },
        "outputId": "a41d827f-1e81-4b0d-e18e-d19e3a29b850"
      },
      "execution_count": 2,
      "outputs": [
        {
          "output_type": "stream",
          "name": "stderr",
          "text": [
            "/usr/local/lib/python3.7/dist-packages/statsmodels/tools/_testing.py:19: FutureWarning: pandas.util.testing is deprecated. Use the functions in the public API at pandas.testing instead.\n",
            "  import pandas.util.testing as tm\n"
          ]
        }
      ]
    },
    {
      "cell_type": "code",
      "source": [
        "upload = files.upload()"
      ],
      "metadata": {
        "colab": {
          "resources": {
            "http://localhost:8080/nbextensions/google.colab/files.js": {
              "data": "Ly8gQ29weXJpZ2h0IDIwMTcgR29vZ2xlIExMQwovLwovLyBMaWNlbnNlZCB1bmRlciB0aGUgQXBhY2hlIExpY2Vuc2UsIFZlcnNpb24gMi4wICh0aGUgIkxpY2Vuc2UiKTsKLy8geW91IG1heSBub3QgdXNlIHRoaXMgZmlsZSBleGNlcHQgaW4gY29tcGxpYW5jZSB3aXRoIHRoZSBMaWNlbnNlLgovLyBZb3UgbWF5IG9idGFpbiBhIGNvcHkgb2YgdGhlIExpY2Vuc2UgYXQKLy8KLy8gICAgICBodHRwOi8vd3d3LmFwYWNoZS5vcmcvbGljZW5zZXMvTElDRU5TRS0yLjAKLy8KLy8gVW5sZXNzIHJlcXVpcmVkIGJ5IGFwcGxpY2FibGUgbGF3IG9yIGFncmVlZCB0byBpbiB3cml0aW5nLCBzb2Z0d2FyZQovLyBkaXN0cmlidXRlZCB1bmRlciB0aGUgTGljZW5zZSBpcyBkaXN0cmlidXRlZCBvbiBhbiAiQVMgSVMiIEJBU0lTLAovLyBXSVRIT1VUIFdBUlJBTlRJRVMgT1IgQ09ORElUSU9OUyBPRiBBTlkgS0lORCwgZWl0aGVyIGV4cHJlc3Mgb3IgaW1wbGllZC4KLy8gU2VlIHRoZSBMaWNlbnNlIGZvciB0aGUgc3BlY2lmaWMgbGFuZ3VhZ2UgZ292ZXJuaW5nIHBlcm1pc3Npb25zIGFuZAovLyBsaW1pdGF0aW9ucyB1bmRlciB0aGUgTGljZW5zZS4KCi8qKgogKiBAZmlsZW92ZXJ2aWV3IEhlbHBlcnMgZm9yIGdvb2dsZS5jb2xhYiBQeXRob24gbW9kdWxlLgogKi8KKGZ1bmN0aW9uKHNjb3BlKSB7CmZ1bmN0aW9uIHNwYW4odGV4dCwgc3R5bGVBdHRyaWJ1dGVzID0ge30pIHsKICBjb25zdCBlbGVtZW50ID0gZG9jdW1lbnQuY3JlYXRlRWxlbWVudCgnc3BhbicpOwogIGVsZW1lbnQudGV4dENvbnRlbnQgPSB0ZXh0OwogIGZvciAoY29uc3Qga2V5IG9mIE9iamVjdC5rZXlzKHN0eWxlQXR0cmlidXRlcykpIHsKICAgIGVsZW1lbnQuc3R5bGVba2V5XSA9IHN0eWxlQXR0cmlidXRlc1trZXldOwogIH0KICByZXR1cm4gZWxlbWVudDsKfQoKLy8gTWF4IG51bWJlciBvZiBieXRlcyB3aGljaCB3aWxsIGJlIHVwbG9hZGVkIGF0IGEgdGltZS4KY29uc3QgTUFYX1BBWUxPQURfU0laRSA9IDEwMCAqIDEwMjQ7CgpmdW5jdGlvbiBfdXBsb2FkRmlsZXMoaW5wdXRJZCwgb3V0cHV0SWQpIHsKICBjb25zdCBzdGVwcyA9IHVwbG9hZEZpbGVzU3RlcChpbnB1dElkLCBvdXRwdXRJZCk7CiAgY29uc3Qgb3V0cHV0RWxlbWVudCA9IGRvY3VtZW50LmdldEVsZW1lbnRCeUlkKG91dHB1dElkKTsKICAvLyBDYWNoZSBzdGVwcyBvbiB0aGUgb3V0cHV0RWxlbWVudCB0byBtYWtlIGl0IGF2YWlsYWJsZSBmb3IgdGhlIG5leHQgY2FsbAogIC8vIHRvIHVwbG9hZEZpbGVzQ29udGludWUgZnJvbSBQeXRob24uCiAgb3V0cHV0RWxlbWVudC5zdGVwcyA9IHN0ZXBzOwoKICByZXR1cm4gX3VwbG9hZEZpbGVzQ29udGludWUob3V0cHV0SWQpOwp9CgovLyBUaGlzIGlzIHJvdWdobHkgYW4gYXN5bmMgZ2VuZXJhdG9yIChub3Qgc3VwcG9ydGVkIGluIHRoZSBicm93c2VyIHlldCksCi8vIHdoZXJlIHRoZXJlIGFyZSBtdWx0aXBsZSBhc3luY2hyb25vdXMgc3RlcHMgYW5kIHRoZSBQeXRob24gc2lkZSBpcyBnb2luZwovLyB0byBwb2xsIGZvciBjb21wbGV0aW9uIG9mIGVhY2ggc3RlcC4KLy8gVGhpcyB1c2VzIGEgUHJvbWlzZSB0byBibG9jayB0aGUgcHl0aG9uIHNpZGUgb24gY29tcGxldGlvbiBvZiBlYWNoIHN0ZXAsCi8vIHRoZW4gcGFzc2VzIHRoZSByZXN1bHQgb2YgdGhlIHByZXZpb3VzIHN0ZXAgYXMgdGhlIGlucHV0IHRvIHRoZSBuZXh0IHN0ZXAuCmZ1bmN0aW9uIF91cGxvYWRGaWxlc0NvbnRpbnVlKG91dHB1dElkKSB7CiAgY29uc3Qgb3V0cHV0RWxlbWVudCA9IGRvY3VtZW50LmdldEVsZW1lbnRCeUlkKG91dHB1dElkKTsKICBjb25zdCBzdGVwcyA9IG91dHB1dEVsZW1lbnQuc3RlcHM7CgogIGNvbnN0IG5leHQgPSBzdGVwcy5uZXh0KG91dHB1dEVsZW1lbnQubGFzdFByb21pc2VWYWx1ZSk7CiAgcmV0dXJuIFByb21pc2UucmVzb2x2ZShuZXh0LnZhbHVlLnByb21pc2UpLnRoZW4oKHZhbHVlKSA9PiB7CiAgICAvLyBDYWNoZSB0aGUgbGFzdCBwcm9taXNlIHZhbHVlIHRvIG1ha2UgaXQgYXZhaWxhYmxlIHRvIHRoZSBuZXh0CiAgICAvLyBzdGVwIG9mIHRoZSBnZW5lcmF0b3IuCiAgICBvdXRwdXRFbGVtZW50Lmxhc3RQcm9taXNlVmFsdWUgPSB2YWx1ZTsKICAgIHJldHVybiBuZXh0LnZhbHVlLnJlc3BvbnNlOwogIH0pOwp9CgovKioKICogR2VuZXJhdG9yIGZ1bmN0aW9uIHdoaWNoIGlzIGNhbGxlZCBiZXR3ZWVuIGVhY2ggYXN5bmMgc3RlcCBvZiB0aGUgdXBsb2FkCiAqIHByb2Nlc3MuCiAqIEBwYXJhbSB7c3RyaW5nfSBpbnB1dElkIEVsZW1lbnQgSUQgb2YgdGhlIGlucHV0IGZpbGUgcGlja2VyIGVsZW1lbnQuCiAqIEBwYXJhbSB7c3RyaW5nfSBvdXRwdXRJZCBFbGVtZW50IElEIG9mIHRoZSBvdXRwdXQgZGlzcGxheS4KICogQHJldHVybiB7IUl0ZXJhYmxlPCFPYmplY3Q+fSBJdGVyYWJsZSBvZiBuZXh0IHN0ZXBzLgogKi8KZnVuY3Rpb24qIHVwbG9hZEZpbGVzU3RlcChpbnB1dElkLCBvdXRwdXRJZCkgewogIGNvbnN0IGlucHV0RWxlbWVudCA9IGRvY3VtZW50LmdldEVsZW1lbnRCeUlkKGlucHV0SWQpOwogIGlucHV0RWxlbWVudC5kaXNhYmxlZCA9IGZhbHNlOwoKICBjb25zdCBvdXRwdXRFbGVtZW50ID0gZG9jdW1lbnQuZ2V0RWxlbWVudEJ5SWQob3V0cHV0SWQpOwogIG91dHB1dEVsZW1lbnQuaW5uZXJIVE1MID0gJyc7CgogIGNvbnN0IHBpY2tlZFByb21pc2UgPSBuZXcgUHJvbWlzZSgocmVzb2x2ZSkgPT4gewogICAgaW5wdXRFbGVtZW50LmFkZEV2ZW50TGlzdGVuZXIoJ2NoYW5nZScsIChlKSA9PiB7CiAgICAgIHJlc29sdmUoZS50YXJnZXQuZmlsZXMpOwogICAgfSk7CiAgfSk7CgogIGNvbnN0IGNhbmNlbCA9IGRvY3VtZW50LmNyZWF0ZUVsZW1lbnQoJ2J1dHRvbicpOwogIGlucHV0RWxlbWVudC5wYXJlbnRFbGVtZW50LmFwcGVuZENoaWxkKGNhbmNlbCk7CiAgY2FuY2VsLnRleHRDb250ZW50ID0gJ0NhbmNlbCB1cGxvYWQnOwogIGNvbnN0IGNhbmNlbFByb21pc2UgPSBuZXcgUHJvbWlzZSgocmVzb2x2ZSkgPT4gewogICAgY2FuY2VsLm9uY2xpY2sgPSAoKSA9PiB7CiAgICAgIHJlc29sdmUobnVsbCk7CiAgICB9OwogIH0pOwoKICAvLyBXYWl0IGZvciB0aGUgdXNlciB0byBwaWNrIHRoZSBmaWxlcy4KICBjb25zdCBmaWxlcyA9IHlpZWxkIHsKICAgIHByb21pc2U6IFByb21pc2UucmFjZShbcGlja2VkUHJvbWlzZSwgY2FuY2VsUHJvbWlzZV0pLAogICAgcmVzcG9uc2U6IHsKICAgICAgYWN0aW9uOiAnc3RhcnRpbmcnLAogICAgfQogIH07CgogIGNhbmNlbC5yZW1vdmUoKTsKCiAgLy8gRGlzYWJsZSB0aGUgaW5wdXQgZWxlbWVudCBzaW5jZSBmdXJ0aGVyIHBpY2tzIGFyZSBub3QgYWxsb3dlZC4KICBpbnB1dEVsZW1lbnQuZGlzYWJsZWQgPSB0cnVlOwoKICBpZiAoIWZpbGVzKSB7CiAgICByZXR1cm4gewogICAgICByZXNwb25zZTogewogICAgICAgIGFjdGlvbjogJ2NvbXBsZXRlJywKICAgICAgfQogICAgfTsKICB9CgogIGZvciAoY29uc3QgZmlsZSBvZiBmaWxlcykgewogICAgY29uc3QgbGkgPSBkb2N1bWVudC5jcmVhdGVFbGVtZW50KCdsaScpOwogICAgbGkuYXBwZW5kKHNwYW4oZmlsZS5uYW1lLCB7Zm9udFdlaWdodDogJ2JvbGQnfSkpOwogICAgbGkuYXBwZW5kKHNwYW4oCiAgICAgICAgYCgke2ZpbGUudHlwZSB8fCAnbi9hJ30pIC0gJHtmaWxlLnNpemV9IGJ5dGVzLCBgICsKICAgICAgICBgbGFzdCBtb2RpZmllZDogJHsKICAgICAgICAgICAgZmlsZS5sYXN0TW9kaWZpZWREYXRlID8gZmlsZS5sYXN0TW9kaWZpZWREYXRlLnRvTG9jYWxlRGF0ZVN0cmluZygpIDoKICAgICAgICAgICAgICAgICAgICAgICAgICAgICAgICAgICAgJ24vYSd9IC0gYCkpOwogICAgY29uc3QgcGVyY2VudCA9IHNwYW4oJzAlIGRvbmUnKTsKICAgIGxpLmFwcGVuZENoaWxkKHBlcmNlbnQpOwoKICAgIG91dHB1dEVsZW1lbnQuYXBwZW5kQ2hpbGQobGkpOwoKICAgIGNvbnN0IGZpbGVEYXRhUHJvbWlzZSA9IG5ldyBQcm9taXNlKChyZXNvbHZlKSA9PiB7CiAgICAgIGNvbnN0IHJlYWRlciA9IG5ldyBGaWxlUmVhZGVyKCk7CiAgICAgIHJlYWRlci5vbmxvYWQgPSAoZSkgPT4gewogICAgICAgIHJlc29sdmUoZS50YXJnZXQucmVzdWx0KTsKICAgICAgfTsKICAgICAgcmVhZGVyLnJlYWRBc0FycmF5QnVmZmVyKGZpbGUpOwogICAgfSk7CiAgICAvLyBXYWl0IGZvciB0aGUgZGF0YSB0byBiZSByZWFkeS4KICAgIGxldCBmaWxlRGF0YSA9IHlpZWxkIHsKICAgICAgcHJvbWlzZTogZmlsZURhdGFQcm9taXNlLAogICAgICByZXNwb25zZTogewogICAgICAgIGFjdGlvbjogJ2NvbnRpbnVlJywKICAgICAgfQogICAgfTsKCiAgICAvLyBVc2UgYSBjaHVua2VkIHNlbmRpbmcgdG8gYXZvaWQgbWVzc2FnZSBzaXplIGxpbWl0cy4gU2VlIGIvNjIxMTU2NjAuCiAgICBsZXQgcG9zaXRpb24gPSAwOwogICAgZG8gewogICAgICBjb25zdCBsZW5ndGggPSBNYXRoLm1pbihmaWxlRGF0YS5ieXRlTGVuZ3RoIC0gcG9zaXRpb24sIE1BWF9QQVlMT0FEX1NJWkUpOwogICAgICBjb25zdCBjaHVuayA9IG5ldyBVaW50OEFycmF5KGZpbGVEYXRhLCBwb3NpdGlvbiwgbGVuZ3RoKTsKICAgICAgcG9zaXRpb24gKz0gbGVuZ3RoOwoKICAgICAgY29uc3QgYmFzZTY0ID0gYnRvYShTdHJpbmcuZnJvbUNoYXJDb2RlLmFwcGx5KG51bGwsIGNodW5rKSk7CiAgICAgIHlpZWxkIHsKICAgICAgICByZXNwb25zZTogewogICAgICAgICAgYWN0aW9uOiAnYXBwZW5kJywKICAgICAgICAgIGZpbGU6IGZpbGUubmFtZSwKICAgICAgICAgIGRhdGE6IGJhc2U2NCwKICAgICAgICB9LAogICAgICB9OwoKICAgICAgbGV0IHBlcmNlbnREb25lID0gZmlsZURhdGEuYnl0ZUxlbmd0aCA9PT0gMCA/CiAgICAgICAgICAxMDAgOgogICAgICAgICAgTWF0aC5yb3VuZCgocG9zaXRpb24gLyBmaWxlRGF0YS5ieXRlTGVuZ3RoKSAqIDEwMCk7CiAgICAgIHBlcmNlbnQudGV4dENvbnRlbnQgPSBgJHtwZXJjZW50RG9uZX0lIGRvbmVgOwoKICAgIH0gd2hpbGUgKHBvc2l0aW9uIDwgZmlsZURhdGEuYnl0ZUxlbmd0aCk7CiAgfQoKICAvLyBBbGwgZG9uZS4KICB5aWVsZCB7CiAgICByZXNwb25zZTogewogICAgICBhY3Rpb246ICdjb21wbGV0ZScsCiAgICB9CiAgfTsKfQoKc2NvcGUuZ29vZ2xlID0gc2NvcGUuZ29vZ2xlIHx8IHt9OwpzY29wZS5nb29nbGUuY29sYWIgPSBzY29wZS5nb29nbGUuY29sYWIgfHwge307CnNjb3BlLmdvb2dsZS5jb2xhYi5fZmlsZXMgPSB7CiAgX3VwbG9hZEZpbGVzLAogIF91cGxvYWRGaWxlc0NvbnRpbnVlLAp9Owp9KShzZWxmKTsK",
              "ok": true,
              "headers": [
                [
                  "content-type",
                  "application/javascript"
                ]
              ],
              "status": 200,
              "status_text": ""
            }
          },
          "base_uri": "https://localhost:8080/",
          "height": 74
        },
        "id": "_hmY3fjqpeTq",
        "outputId": "030eb220-0d7d-475f-992f-e8a1ed5d366f"
      },
      "execution_count": 3,
      "outputs": [
        {
          "output_type": "display_data",
          "data": {
            "text/plain": [
              "<IPython.core.display.HTML object>"
            ],
            "text/html": [
              "\n",
              "     <input type=\"file\" id=\"files-6fa1a5c6-6db8-42de-bd4d-58c141745d9f\" name=\"files[]\" multiple disabled\n",
              "        style=\"border:none\" />\n",
              "     <output id=\"result-6fa1a5c6-6db8-42de-bd4d-58c141745d9f\">\n",
              "      Upload widget is only available when the cell has been executed in the\n",
              "      current browser session. Please rerun this cell to enable.\n",
              "      </output>\n",
              "      <script src=\"/nbextensions/google.colab/files.js\"></script> "
            ]
          },
          "metadata": {}
        },
        {
          "output_type": "stream",
          "name": "stdout",
          "text": [
            "Saving military expenditure.csv to military expenditure.csv\n"
          ]
        }
      ]
    },
    {
      "cell_type": "code",
      "source": [
        "df = pd.read_csv('military expenditure.csv')\n",
        "df.head()\n"
      ],
      "metadata": {
        "colab": {
          "base_uri": "https://localhost:8080/",
          "height": 267
        },
        "id": "IT0mXfLIlrqJ",
        "outputId": "e75b8344-727d-422d-e648-ea1655d84818"
      },
      "execution_count": 4,
      "outputs": [
        {
          "output_type": "execute_result",
          "data": {
            "text/plain": [
              "       country iso3c iso2c  year  Military expenditure (current USD)  \\\n",
              "0  Afghanistan   AFG    AF  1970                        2.939586e+06   \n",
              "1  Afghanistan   AFG    AF  1971                                 NaN   \n",
              "2  Afghanistan   AFG    AF  1972                                 NaN   \n",
              "3  Afghanistan   AFG    AF  1973                        3.341272e+06   \n",
              "4  Afghanistan   AFG    AF  1974                        3.581366e+06   \n",
              "\n",
              "   Military expenditure (% of general government expenditure)  \\\n",
              "0                                                NaN            \n",
              "1                                                NaN            \n",
              "2                                                NaN            \n",
              "3                                                NaN            \n",
              "4                                                NaN            \n",
              "\n",
              "   Military expenditure (% of GDP) adminregion incomeLevel  \n",
              "0                         1.629606  South Asia  Low income  \n",
              "1                              NaN  South Asia  Low income  \n",
              "2                              NaN  South Asia  Low income  \n",
              "3                         1.868910  South Asia  Low income  \n",
              "4                         1.610825  South Asia  Low income  "
            ],
            "text/html": [
              "\n",
              "  <div id=\"df-97614e17-b25f-414b-9b66-a4af1a2bf0d1\">\n",
              "    <div class=\"colab-df-container\">\n",
              "      <div>\n",
              "<style scoped>\n",
              "    .dataframe tbody tr th:only-of-type {\n",
              "        vertical-align: middle;\n",
              "    }\n",
              "\n",
              "    .dataframe tbody tr th {\n",
              "        vertical-align: top;\n",
              "    }\n",
              "\n",
              "    .dataframe thead th {\n",
              "        text-align: right;\n",
              "    }\n",
              "</style>\n",
              "<table border=\"1\" class=\"dataframe\">\n",
              "  <thead>\n",
              "    <tr style=\"text-align: right;\">\n",
              "      <th></th>\n",
              "      <th>country</th>\n",
              "      <th>iso3c</th>\n",
              "      <th>iso2c</th>\n",
              "      <th>year</th>\n",
              "      <th>Military expenditure (current USD)</th>\n",
              "      <th>Military expenditure (% of general government expenditure)</th>\n",
              "      <th>Military expenditure (% of GDP)</th>\n",
              "      <th>adminregion</th>\n",
              "      <th>incomeLevel</th>\n",
              "    </tr>\n",
              "  </thead>\n",
              "  <tbody>\n",
              "    <tr>\n",
              "      <th>0</th>\n",
              "      <td>Afghanistan</td>\n",
              "      <td>AFG</td>\n",
              "      <td>AF</td>\n",
              "      <td>1970</td>\n",
              "      <td>2.939586e+06</td>\n",
              "      <td>NaN</td>\n",
              "      <td>1.629606</td>\n",
              "      <td>South Asia</td>\n",
              "      <td>Low income</td>\n",
              "    </tr>\n",
              "    <tr>\n",
              "      <th>1</th>\n",
              "      <td>Afghanistan</td>\n",
              "      <td>AFG</td>\n",
              "      <td>AF</td>\n",
              "      <td>1971</td>\n",
              "      <td>NaN</td>\n",
              "      <td>NaN</td>\n",
              "      <td>NaN</td>\n",
              "      <td>South Asia</td>\n",
              "      <td>Low income</td>\n",
              "    </tr>\n",
              "    <tr>\n",
              "      <th>2</th>\n",
              "      <td>Afghanistan</td>\n",
              "      <td>AFG</td>\n",
              "      <td>AF</td>\n",
              "      <td>1972</td>\n",
              "      <td>NaN</td>\n",
              "      <td>NaN</td>\n",
              "      <td>NaN</td>\n",
              "      <td>South Asia</td>\n",
              "      <td>Low income</td>\n",
              "    </tr>\n",
              "    <tr>\n",
              "      <th>3</th>\n",
              "      <td>Afghanistan</td>\n",
              "      <td>AFG</td>\n",
              "      <td>AF</td>\n",
              "      <td>1973</td>\n",
              "      <td>3.341272e+06</td>\n",
              "      <td>NaN</td>\n",
              "      <td>1.868910</td>\n",
              "      <td>South Asia</td>\n",
              "      <td>Low income</td>\n",
              "    </tr>\n",
              "    <tr>\n",
              "      <th>4</th>\n",
              "      <td>Afghanistan</td>\n",
              "      <td>AFG</td>\n",
              "      <td>AF</td>\n",
              "      <td>1974</td>\n",
              "      <td>3.581366e+06</td>\n",
              "      <td>NaN</td>\n",
              "      <td>1.610825</td>\n",
              "      <td>South Asia</td>\n",
              "      <td>Low income</td>\n",
              "    </tr>\n",
              "  </tbody>\n",
              "</table>\n",
              "</div>\n",
              "      <button class=\"colab-df-convert\" onclick=\"convertToInteractive('df-97614e17-b25f-414b-9b66-a4af1a2bf0d1')\"\n",
              "              title=\"Convert this dataframe to an interactive table.\"\n",
              "              style=\"display:none;\">\n",
              "        \n",
              "  <svg xmlns=\"http://www.w3.org/2000/svg\" height=\"24px\"viewBox=\"0 0 24 24\"\n",
              "       width=\"24px\">\n",
              "    <path d=\"M0 0h24v24H0V0z\" fill=\"none\"/>\n",
              "    <path d=\"M18.56 5.44l.94 2.06.94-2.06 2.06-.94-2.06-.94-.94-2.06-.94 2.06-2.06.94zm-11 1L8.5 8.5l.94-2.06 2.06-.94-2.06-.94L8.5 2.5l-.94 2.06-2.06.94zm10 10l.94 2.06.94-2.06 2.06-.94-2.06-.94-.94-2.06-.94 2.06-2.06.94z\"/><path d=\"M17.41 7.96l-1.37-1.37c-.4-.4-.92-.59-1.43-.59-.52 0-1.04.2-1.43.59L10.3 9.45l-7.72 7.72c-.78.78-.78 2.05 0 2.83L4 21.41c.39.39.9.59 1.41.59.51 0 1.02-.2 1.41-.59l7.78-7.78 2.81-2.81c.8-.78.8-2.07 0-2.86zM5.41 20L4 18.59l7.72-7.72 1.47 1.35L5.41 20z\"/>\n",
              "  </svg>\n",
              "      </button>\n",
              "      \n",
              "  <style>\n",
              "    .colab-df-container {\n",
              "      display:flex;\n",
              "      flex-wrap:wrap;\n",
              "      gap: 12px;\n",
              "    }\n",
              "\n",
              "    .colab-df-convert {\n",
              "      background-color: #E8F0FE;\n",
              "      border: none;\n",
              "      border-radius: 50%;\n",
              "      cursor: pointer;\n",
              "      display: none;\n",
              "      fill: #1967D2;\n",
              "      height: 32px;\n",
              "      padding: 0 0 0 0;\n",
              "      width: 32px;\n",
              "    }\n",
              "\n",
              "    .colab-df-convert:hover {\n",
              "      background-color: #E2EBFA;\n",
              "      box-shadow: 0px 1px 2px rgba(60, 64, 67, 0.3), 0px 1px 3px 1px rgba(60, 64, 67, 0.15);\n",
              "      fill: #174EA6;\n",
              "    }\n",
              "\n",
              "    [theme=dark] .colab-df-convert {\n",
              "      background-color: #3B4455;\n",
              "      fill: #D2E3FC;\n",
              "    }\n",
              "\n",
              "    [theme=dark] .colab-df-convert:hover {\n",
              "      background-color: #434B5C;\n",
              "      box-shadow: 0px 1px 3px 1px rgba(0, 0, 0, 0.15);\n",
              "      filter: drop-shadow(0px 1px 2px rgba(0, 0, 0, 0.3));\n",
              "      fill: #FFFFFF;\n",
              "    }\n",
              "  </style>\n",
              "\n",
              "      <script>\n",
              "        const buttonEl =\n",
              "          document.querySelector('#df-97614e17-b25f-414b-9b66-a4af1a2bf0d1 button.colab-df-convert');\n",
              "        buttonEl.style.display =\n",
              "          google.colab.kernel.accessAllowed ? 'block' : 'none';\n",
              "\n",
              "        async function convertToInteractive(key) {\n",
              "          const element = document.querySelector('#df-97614e17-b25f-414b-9b66-a4af1a2bf0d1');\n",
              "          const dataTable =\n",
              "            await google.colab.kernel.invokeFunction('convertToInteractive',\n",
              "                                                     [key], {});\n",
              "          if (!dataTable) return;\n",
              "\n",
              "          const docLinkHtml = 'Like what you see? Visit the ' +\n",
              "            '<a target=\"_blank\" href=https://colab.research.google.com/notebooks/data_table.ipynb>data table notebook</a>'\n",
              "            + ' to learn more about interactive tables.';\n",
              "          element.innerHTML = '';\n",
              "          dataTable['output_type'] = 'display_data';\n",
              "          await google.colab.output.renderOutput(dataTable, element);\n",
              "          const docLink = document.createElement('div');\n",
              "          docLink.innerHTML = docLinkHtml;\n",
              "          element.appendChild(docLink);\n",
              "        }\n",
              "      </script>\n",
              "    </div>\n",
              "  </div>\n",
              "  "
            ]
          },
          "metadata": {},
          "execution_count": 4
        }
      ]
    },
    {
      "cell_type": "code",
      "source": [
        "df.info()"
      ],
      "metadata": {
        "colab": {
          "base_uri": "https://localhost:8080/"
        },
        "id": "LNSXH5nfwlQV",
        "outputId": "03ecfdfd-1ee3-4761-e5c6-9022ede27203"
      },
      "execution_count": 5,
      "outputs": [
        {
          "output_type": "stream",
          "name": "stdout",
          "text": [
            "<class 'pandas.core.frame.DataFrame'>\n",
            "RangeIndex: 13566 entries, 0 to 13565\n",
            "Data columns (total 9 columns):\n",
            " #   Column                                                      Non-Null Count  Dtype  \n",
            "---  ------                                                      --------------  -----  \n",
            " 0   country                                                     13566 non-null  object \n",
            " 1   iso3c                                                       13464 non-null  object \n",
            " 2   iso2c                                                       13413 non-null  object \n",
            " 3   year                                                        13566 non-null  int64  \n",
            " 4   Military expenditure (current USD)                          8769 non-null   float64\n",
            " 5   Military expenditure (% of general government expenditure)  5282 non-null   float64\n",
            " 6   Military expenditure (% of GDP)                             8777 non-null   float64\n",
            " 7   adminregion                                                 6987 non-null   object \n",
            " 8   incomeLevel                                                 13464 non-null  object \n",
            "dtypes: float64(3), int64(1), object(5)\n",
            "memory usage: 954.0+ KB\n"
          ]
        }
      ]
    },
    {
      "cell_type": "code",
      "source": [
        "df.columns = ['country', 'iso3c', 'iso2c', 'year','M_USD','M_of_gov','M_of_GDP', 'adminregion', 'incomeLevel']\n",
        "df.head()"
      ],
      "metadata": {
        "colab": {
          "base_uri": "https://localhost:8080/",
          "height": 206
        },
        "id": "AKc3D2Jev9cq",
        "outputId": "f9d8634d-ce59-48fa-fa94-1ac43176f739"
      },
      "execution_count": 6,
      "outputs": [
        {
          "output_type": "execute_result",
          "data": {
            "text/plain": [
              "       country iso3c iso2c  year         M_USD  M_of_gov  M_of_GDP  \\\n",
              "0  Afghanistan   AFG    AF  1970  2.939586e+06       NaN  1.629606   \n",
              "1  Afghanistan   AFG    AF  1971           NaN       NaN       NaN   \n",
              "2  Afghanistan   AFG    AF  1972           NaN       NaN       NaN   \n",
              "3  Afghanistan   AFG    AF  1973  3.341272e+06       NaN  1.868910   \n",
              "4  Afghanistan   AFG    AF  1974  3.581366e+06       NaN  1.610825   \n",
              "\n",
              "  adminregion incomeLevel  \n",
              "0  South Asia  Low income  \n",
              "1  South Asia  Low income  \n",
              "2  South Asia  Low income  \n",
              "3  South Asia  Low income  \n",
              "4  South Asia  Low income  "
            ],
            "text/html": [
              "\n",
              "  <div id=\"df-3829da1b-41ec-43d7-a837-db4fb823f9c1\">\n",
              "    <div class=\"colab-df-container\">\n",
              "      <div>\n",
              "<style scoped>\n",
              "    .dataframe tbody tr th:only-of-type {\n",
              "        vertical-align: middle;\n",
              "    }\n",
              "\n",
              "    .dataframe tbody tr th {\n",
              "        vertical-align: top;\n",
              "    }\n",
              "\n",
              "    .dataframe thead th {\n",
              "        text-align: right;\n",
              "    }\n",
              "</style>\n",
              "<table border=\"1\" class=\"dataframe\">\n",
              "  <thead>\n",
              "    <tr style=\"text-align: right;\">\n",
              "      <th></th>\n",
              "      <th>country</th>\n",
              "      <th>iso3c</th>\n",
              "      <th>iso2c</th>\n",
              "      <th>year</th>\n",
              "      <th>M_USD</th>\n",
              "      <th>M_of_gov</th>\n",
              "      <th>M_of_GDP</th>\n",
              "      <th>adminregion</th>\n",
              "      <th>incomeLevel</th>\n",
              "    </tr>\n",
              "  </thead>\n",
              "  <tbody>\n",
              "    <tr>\n",
              "      <th>0</th>\n",
              "      <td>Afghanistan</td>\n",
              "      <td>AFG</td>\n",
              "      <td>AF</td>\n",
              "      <td>1970</td>\n",
              "      <td>2.939586e+06</td>\n",
              "      <td>NaN</td>\n",
              "      <td>1.629606</td>\n",
              "      <td>South Asia</td>\n",
              "      <td>Low income</td>\n",
              "    </tr>\n",
              "    <tr>\n",
              "      <th>1</th>\n",
              "      <td>Afghanistan</td>\n",
              "      <td>AFG</td>\n",
              "      <td>AF</td>\n",
              "      <td>1971</td>\n",
              "      <td>NaN</td>\n",
              "      <td>NaN</td>\n",
              "      <td>NaN</td>\n",
              "      <td>South Asia</td>\n",
              "      <td>Low income</td>\n",
              "    </tr>\n",
              "    <tr>\n",
              "      <th>2</th>\n",
              "      <td>Afghanistan</td>\n",
              "      <td>AFG</td>\n",
              "      <td>AF</td>\n",
              "      <td>1972</td>\n",
              "      <td>NaN</td>\n",
              "      <td>NaN</td>\n",
              "      <td>NaN</td>\n",
              "      <td>South Asia</td>\n",
              "      <td>Low income</td>\n",
              "    </tr>\n",
              "    <tr>\n",
              "      <th>3</th>\n",
              "      <td>Afghanistan</td>\n",
              "      <td>AFG</td>\n",
              "      <td>AF</td>\n",
              "      <td>1973</td>\n",
              "      <td>3.341272e+06</td>\n",
              "      <td>NaN</td>\n",
              "      <td>1.868910</td>\n",
              "      <td>South Asia</td>\n",
              "      <td>Low income</td>\n",
              "    </tr>\n",
              "    <tr>\n",
              "      <th>4</th>\n",
              "      <td>Afghanistan</td>\n",
              "      <td>AFG</td>\n",
              "      <td>AF</td>\n",
              "      <td>1974</td>\n",
              "      <td>3.581366e+06</td>\n",
              "      <td>NaN</td>\n",
              "      <td>1.610825</td>\n",
              "      <td>South Asia</td>\n",
              "      <td>Low income</td>\n",
              "    </tr>\n",
              "  </tbody>\n",
              "</table>\n",
              "</div>\n",
              "      <button class=\"colab-df-convert\" onclick=\"convertToInteractive('df-3829da1b-41ec-43d7-a837-db4fb823f9c1')\"\n",
              "              title=\"Convert this dataframe to an interactive table.\"\n",
              "              style=\"display:none;\">\n",
              "        \n",
              "  <svg xmlns=\"http://www.w3.org/2000/svg\" height=\"24px\"viewBox=\"0 0 24 24\"\n",
              "       width=\"24px\">\n",
              "    <path d=\"M0 0h24v24H0V0z\" fill=\"none\"/>\n",
              "    <path d=\"M18.56 5.44l.94 2.06.94-2.06 2.06-.94-2.06-.94-.94-2.06-.94 2.06-2.06.94zm-11 1L8.5 8.5l.94-2.06 2.06-.94-2.06-.94L8.5 2.5l-.94 2.06-2.06.94zm10 10l.94 2.06.94-2.06 2.06-.94-2.06-.94-.94-2.06-.94 2.06-2.06.94z\"/><path d=\"M17.41 7.96l-1.37-1.37c-.4-.4-.92-.59-1.43-.59-.52 0-1.04.2-1.43.59L10.3 9.45l-7.72 7.72c-.78.78-.78 2.05 0 2.83L4 21.41c.39.39.9.59 1.41.59.51 0 1.02-.2 1.41-.59l7.78-7.78 2.81-2.81c.8-.78.8-2.07 0-2.86zM5.41 20L4 18.59l7.72-7.72 1.47 1.35L5.41 20z\"/>\n",
              "  </svg>\n",
              "      </button>\n",
              "      \n",
              "  <style>\n",
              "    .colab-df-container {\n",
              "      display:flex;\n",
              "      flex-wrap:wrap;\n",
              "      gap: 12px;\n",
              "    }\n",
              "\n",
              "    .colab-df-convert {\n",
              "      background-color: #E8F0FE;\n",
              "      border: none;\n",
              "      border-radius: 50%;\n",
              "      cursor: pointer;\n",
              "      display: none;\n",
              "      fill: #1967D2;\n",
              "      height: 32px;\n",
              "      padding: 0 0 0 0;\n",
              "      width: 32px;\n",
              "    }\n",
              "\n",
              "    .colab-df-convert:hover {\n",
              "      background-color: #E2EBFA;\n",
              "      box-shadow: 0px 1px 2px rgba(60, 64, 67, 0.3), 0px 1px 3px 1px rgba(60, 64, 67, 0.15);\n",
              "      fill: #174EA6;\n",
              "    }\n",
              "\n",
              "    [theme=dark] .colab-df-convert {\n",
              "      background-color: #3B4455;\n",
              "      fill: #D2E3FC;\n",
              "    }\n",
              "\n",
              "    [theme=dark] .colab-df-convert:hover {\n",
              "      background-color: #434B5C;\n",
              "      box-shadow: 0px 1px 3px 1px rgba(0, 0, 0, 0.15);\n",
              "      filter: drop-shadow(0px 1px 2px rgba(0, 0, 0, 0.3));\n",
              "      fill: #FFFFFF;\n",
              "    }\n",
              "  </style>\n",
              "\n",
              "      <script>\n",
              "        const buttonEl =\n",
              "          document.querySelector('#df-3829da1b-41ec-43d7-a837-db4fb823f9c1 button.colab-df-convert');\n",
              "        buttonEl.style.display =\n",
              "          google.colab.kernel.accessAllowed ? 'block' : 'none';\n",
              "\n",
              "        async function convertToInteractive(key) {\n",
              "          const element = document.querySelector('#df-3829da1b-41ec-43d7-a837-db4fb823f9c1');\n",
              "          const dataTable =\n",
              "            await google.colab.kernel.invokeFunction('convertToInteractive',\n",
              "                                                     [key], {});\n",
              "          if (!dataTable) return;\n",
              "\n",
              "          const docLinkHtml = 'Like what you see? Visit the ' +\n",
              "            '<a target=\"_blank\" href=https://colab.research.google.com/notebooks/data_table.ipynb>data table notebook</a>'\n",
              "            + ' to learn more about interactive tables.';\n",
              "          element.innerHTML = '';\n",
              "          dataTable['output_type'] = 'display_data';\n",
              "          await google.colab.output.renderOutput(dataTable, element);\n",
              "          const docLink = document.createElement('div');\n",
              "          docLink.innerHTML = docLinkHtml;\n",
              "          element.appendChild(docLink);\n",
              "        }\n",
              "      </script>\n",
              "    </div>\n",
              "  </div>\n",
              "  "
            ]
          },
          "metadata": {},
          "execution_count": 6
        }
      ]
    },
    {
      "cell_type": "code",
      "source": [
        "df1 = df[df['year'] > 1999]\n",
        "df1 = df1.drop(['iso2c'],axis=1)\n",
        "values = {'M_USD':0,'M_of_gov':0,'M_of_GDP':0}\n",
        "df1 = df1.fillna(value=values)\n",
        "pd.options.display.float_format = '{:.2f}'.format\n",
        "df1 = df1.astype({'M_USD':'int64'})\n",
        "df1.head(100)"
      ],
      "metadata": {
        "colab": {
          "base_uri": "https://localhost:8080/",
          "height": 424
        },
        "id": "wk3vtQlo8fh8",
        "outputId": "935ef5e5-4a7f-4dbc-9abe-fedb008deb0e"
      },
      "execution_count": 7,
      "outputs": [
        {
          "output_type": "execute_result",
          "data": {
            "text/plain": [
              "         country iso3c  year        M_USD  M_of_gov  M_of_GDP  \\\n",
              "30   Afghanistan   AFG  2000            0      0.00      0.00   \n",
              "31   Afghanistan   AFG  2001            0      0.00      0.00   \n",
              "32   Afghanistan   AFG  2002            0      0.00      0.00   \n",
              "33   Afghanistan   AFG  2003            0      0.00      0.00   \n",
              "34   Afghanistan   AFG  2004    125111557     16.13      2.43   \n",
              "..           ...   ...   ...          ...       ...       ...   \n",
              "245      Algeria   DZA  2011   8652237040     10.78      4.33   \n",
              "246      Algeria   DZA  2012   9326287144     10.25      4.46   \n",
              "247      Algeria   DZA  2013  10161588239     13.39      4.84   \n",
              "248      Algeria   DZA  2014   9724379971     13.66      5.55   \n",
              "249      Algeria   DZA  2015  10412714002     13.69      6.27   \n",
              "\n",
              "                                           adminregion          incomeLevel  \n",
              "30                                          South Asia           Low income  \n",
              "31                                          South Asia           Low income  \n",
              "32                                          South Asia           Low income  \n",
              "33                                          South Asia           Low income  \n",
              "34                                          South Asia           Low income  \n",
              "..                                                 ...                  ...  \n",
              "245  Middle East & North Africa (excluding high inc...  Lower middle income  \n",
              "246  Middle East & North Africa (excluding high inc...  Lower middle income  \n",
              "247  Middle East & North Africa (excluding high inc...  Lower middle income  \n",
              "248  Middle East & North Africa (excluding high inc...  Lower middle income  \n",
              "249  Middle East & North Africa (excluding high inc...  Lower middle income  \n",
              "\n",
              "[100 rows x 8 columns]"
            ],
            "text/html": [
              "\n",
              "  <div id=\"df-15b58089-9cb1-4a23-9ec8-a8caa80dd049\">\n",
              "    <div class=\"colab-df-container\">\n",
              "      <div>\n",
              "<style scoped>\n",
              "    .dataframe tbody tr th:only-of-type {\n",
              "        vertical-align: middle;\n",
              "    }\n",
              "\n",
              "    .dataframe tbody tr th {\n",
              "        vertical-align: top;\n",
              "    }\n",
              "\n",
              "    .dataframe thead th {\n",
              "        text-align: right;\n",
              "    }\n",
              "</style>\n",
              "<table border=\"1\" class=\"dataframe\">\n",
              "  <thead>\n",
              "    <tr style=\"text-align: right;\">\n",
              "      <th></th>\n",
              "      <th>country</th>\n",
              "      <th>iso3c</th>\n",
              "      <th>year</th>\n",
              "      <th>M_USD</th>\n",
              "      <th>M_of_gov</th>\n",
              "      <th>M_of_GDP</th>\n",
              "      <th>adminregion</th>\n",
              "      <th>incomeLevel</th>\n",
              "    </tr>\n",
              "  </thead>\n",
              "  <tbody>\n",
              "    <tr>\n",
              "      <th>30</th>\n",
              "      <td>Afghanistan</td>\n",
              "      <td>AFG</td>\n",
              "      <td>2000</td>\n",
              "      <td>0</td>\n",
              "      <td>0.00</td>\n",
              "      <td>0.00</td>\n",
              "      <td>South Asia</td>\n",
              "      <td>Low income</td>\n",
              "    </tr>\n",
              "    <tr>\n",
              "      <th>31</th>\n",
              "      <td>Afghanistan</td>\n",
              "      <td>AFG</td>\n",
              "      <td>2001</td>\n",
              "      <td>0</td>\n",
              "      <td>0.00</td>\n",
              "      <td>0.00</td>\n",
              "      <td>South Asia</td>\n",
              "      <td>Low income</td>\n",
              "    </tr>\n",
              "    <tr>\n",
              "      <th>32</th>\n",
              "      <td>Afghanistan</td>\n",
              "      <td>AFG</td>\n",
              "      <td>2002</td>\n",
              "      <td>0</td>\n",
              "      <td>0.00</td>\n",
              "      <td>0.00</td>\n",
              "      <td>South Asia</td>\n",
              "      <td>Low income</td>\n",
              "    </tr>\n",
              "    <tr>\n",
              "      <th>33</th>\n",
              "      <td>Afghanistan</td>\n",
              "      <td>AFG</td>\n",
              "      <td>2003</td>\n",
              "      <td>0</td>\n",
              "      <td>0.00</td>\n",
              "      <td>0.00</td>\n",
              "      <td>South Asia</td>\n",
              "      <td>Low income</td>\n",
              "    </tr>\n",
              "    <tr>\n",
              "      <th>34</th>\n",
              "      <td>Afghanistan</td>\n",
              "      <td>AFG</td>\n",
              "      <td>2004</td>\n",
              "      <td>125111557</td>\n",
              "      <td>16.13</td>\n",
              "      <td>2.43</td>\n",
              "      <td>South Asia</td>\n",
              "      <td>Low income</td>\n",
              "    </tr>\n",
              "    <tr>\n",
              "      <th>...</th>\n",
              "      <td>...</td>\n",
              "      <td>...</td>\n",
              "      <td>...</td>\n",
              "      <td>...</td>\n",
              "      <td>...</td>\n",
              "      <td>...</td>\n",
              "      <td>...</td>\n",
              "      <td>...</td>\n",
              "    </tr>\n",
              "    <tr>\n",
              "      <th>245</th>\n",
              "      <td>Algeria</td>\n",
              "      <td>DZA</td>\n",
              "      <td>2011</td>\n",
              "      <td>8652237040</td>\n",
              "      <td>10.78</td>\n",
              "      <td>4.33</td>\n",
              "      <td>Middle East &amp; North Africa (excluding high inc...</td>\n",
              "      <td>Lower middle income</td>\n",
              "    </tr>\n",
              "    <tr>\n",
              "      <th>246</th>\n",
              "      <td>Algeria</td>\n",
              "      <td>DZA</td>\n",
              "      <td>2012</td>\n",
              "      <td>9326287144</td>\n",
              "      <td>10.25</td>\n",
              "      <td>4.46</td>\n",
              "      <td>Middle East &amp; North Africa (excluding high inc...</td>\n",
              "      <td>Lower middle income</td>\n",
              "    </tr>\n",
              "    <tr>\n",
              "      <th>247</th>\n",
              "      <td>Algeria</td>\n",
              "      <td>DZA</td>\n",
              "      <td>2013</td>\n",
              "      <td>10161588239</td>\n",
              "      <td>13.39</td>\n",
              "      <td>4.84</td>\n",
              "      <td>Middle East &amp; North Africa (excluding high inc...</td>\n",
              "      <td>Lower middle income</td>\n",
              "    </tr>\n",
              "    <tr>\n",
              "      <th>248</th>\n",
              "      <td>Algeria</td>\n",
              "      <td>DZA</td>\n",
              "      <td>2014</td>\n",
              "      <td>9724379971</td>\n",
              "      <td>13.66</td>\n",
              "      <td>5.55</td>\n",
              "      <td>Middle East &amp; North Africa (excluding high inc...</td>\n",
              "      <td>Lower middle income</td>\n",
              "    </tr>\n",
              "    <tr>\n",
              "      <th>249</th>\n",
              "      <td>Algeria</td>\n",
              "      <td>DZA</td>\n",
              "      <td>2015</td>\n",
              "      <td>10412714002</td>\n",
              "      <td>13.69</td>\n",
              "      <td>6.27</td>\n",
              "      <td>Middle East &amp; North Africa (excluding high inc...</td>\n",
              "      <td>Lower middle income</td>\n",
              "    </tr>\n",
              "  </tbody>\n",
              "</table>\n",
              "<p>100 rows × 8 columns</p>\n",
              "</div>\n",
              "      <button class=\"colab-df-convert\" onclick=\"convertToInteractive('df-15b58089-9cb1-4a23-9ec8-a8caa80dd049')\"\n",
              "              title=\"Convert this dataframe to an interactive table.\"\n",
              "              style=\"display:none;\">\n",
              "        \n",
              "  <svg xmlns=\"http://www.w3.org/2000/svg\" height=\"24px\"viewBox=\"0 0 24 24\"\n",
              "       width=\"24px\">\n",
              "    <path d=\"M0 0h24v24H0V0z\" fill=\"none\"/>\n",
              "    <path d=\"M18.56 5.44l.94 2.06.94-2.06 2.06-.94-2.06-.94-.94-2.06-.94 2.06-2.06.94zm-11 1L8.5 8.5l.94-2.06 2.06-.94-2.06-.94L8.5 2.5l-.94 2.06-2.06.94zm10 10l.94 2.06.94-2.06 2.06-.94-2.06-.94-.94-2.06-.94 2.06-2.06.94z\"/><path d=\"M17.41 7.96l-1.37-1.37c-.4-.4-.92-.59-1.43-.59-.52 0-1.04.2-1.43.59L10.3 9.45l-7.72 7.72c-.78.78-.78 2.05 0 2.83L4 21.41c.39.39.9.59 1.41.59.51 0 1.02-.2 1.41-.59l7.78-7.78 2.81-2.81c.8-.78.8-2.07 0-2.86zM5.41 20L4 18.59l7.72-7.72 1.47 1.35L5.41 20z\"/>\n",
              "  </svg>\n",
              "      </button>\n",
              "      \n",
              "  <style>\n",
              "    .colab-df-container {\n",
              "      display:flex;\n",
              "      flex-wrap:wrap;\n",
              "      gap: 12px;\n",
              "    }\n",
              "\n",
              "    .colab-df-convert {\n",
              "      background-color: #E8F0FE;\n",
              "      border: none;\n",
              "      border-radius: 50%;\n",
              "      cursor: pointer;\n",
              "      display: none;\n",
              "      fill: #1967D2;\n",
              "      height: 32px;\n",
              "      padding: 0 0 0 0;\n",
              "      width: 32px;\n",
              "    }\n",
              "\n",
              "    .colab-df-convert:hover {\n",
              "      background-color: #E2EBFA;\n",
              "      box-shadow: 0px 1px 2px rgba(60, 64, 67, 0.3), 0px 1px 3px 1px rgba(60, 64, 67, 0.15);\n",
              "      fill: #174EA6;\n",
              "    }\n",
              "\n",
              "    [theme=dark] .colab-df-convert {\n",
              "      background-color: #3B4455;\n",
              "      fill: #D2E3FC;\n",
              "    }\n",
              "\n",
              "    [theme=dark] .colab-df-convert:hover {\n",
              "      background-color: #434B5C;\n",
              "      box-shadow: 0px 1px 3px 1px rgba(0, 0, 0, 0.15);\n",
              "      filter: drop-shadow(0px 1px 2px rgba(0, 0, 0, 0.3));\n",
              "      fill: #FFFFFF;\n",
              "    }\n",
              "  </style>\n",
              "\n",
              "      <script>\n",
              "        const buttonEl =\n",
              "          document.querySelector('#df-15b58089-9cb1-4a23-9ec8-a8caa80dd049 button.colab-df-convert');\n",
              "        buttonEl.style.display =\n",
              "          google.colab.kernel.accessAllowed ? 'block' : 'none';\n",
              "\n",
              "        async function convertToInteractive(key) {\n",
              "          const element = document.querySelector('#df-15b58089-9cb1-4a23-9ec8-a8caa80dd049');\n",
              "          const dataTable =\n",
              "            await google.colab.kernel.invokeFunction('convertToInteractive',\n",
              "                                                     [key], {});\n",
              "          if (!dataTable) return;\n",
              "\n",
              "          const docLinkHtml = 'Like what you see? Visit the ' +\n",
              "            '<a target=\"_blank\" href=https://colab.research.google.com/notebooks/data_table.ipynb>data table notebook</a>'\n",
              "            + ' to learn more about interactive tables.';\n",
              "          element.innerHTML = '';\n",
              "          dataTable['output_type'] = 'display_data';\n",
              "          await google.colab.output.renderOutput(dataTable, element);\n",
              "          const docLink = document.createElement('div');\n",
              "          docLink.innerHTML = docLinkHtml;\n",
              "          element.appendChild(docLink);\n",
              "        }\n",
              "      </script>\n",
              "    </div>\n",
              "  </div>\n",
              "  "
            ]
          },
          "metadata": {},
          "execution_count": 7
        }
      ]
    },
    {
      "cell_type": "code",
      "source": [
        "df1.info()"
      ],
      "metadata": {
        "colab": {
          "base_uri": "https://localhost:8080/"
        },
        "id": "XVnsaSsmaZZ4",
        "outputId": "69b6a70b-120a-4bb9-c6af-4a70ec92938b"
      },
      "execution_count": 8,
      "outputs": [
        {
          "output_type": "stream",
          "name": "stdout",
          "text": [
            "<class 'pandas.core.frame.DataFrame'>\n",
            "Int64Index: 5586 entries, 30 to 13565\n",
            "Data columns (total 8 columns):\n",
            " #   Column       Non-Null Count  Dtype  \n",
            "---  ------       --------------  -----  \n",
            " 0   country      5586 non-null   object \n",
            " 1   iso3c        5544 non-null   object \n",
            " 2   year         5586 non-null   int64  \n",
            " 3   M_USD        5586 non-null   int64  \n",
            " 4   M_of_gov     5586 non-null   float64\n",
            " 5   M_of_GDP     5586 non-null   float64\n",
            " 6   adminregion  2877 non-null   object \n",
            " 7   incomeLevel  5544 non-null   object \n",
            "dtypes: float64(2), int64(2), object(4)\n",
            "memory usage: 392.8+ KB\n"
          ]
        }
      ]
    },
    {
      "cell_type": "code",
      "source": [
        "idx = df1[df1['incomeLevel']=='Aggregates'].index\n",
        "idx3 = df1[df1['incomeLevel']=='Not classified'].index\n",
        "df1 = df1.drop(idx)\n",
        "df1 = df1.drop(idx3)"
      ],
      "metadata": {
        "id": "oggeYSA4YgMx"
      },
      "execution_count": 9,
      "outputs": []
    },
    {
      "cell_type": "code",
      "source": [
        "df1"
      ],
      "metadata": {
        "colab": {
          "base_uri": "https://localhost:8080/",
          "height": 424
        },
        "id": "NwCpOQdQrC0V",
        "outputId": "e824ed5d-2d3d-4903-f899-b31c070f472f"
      },
      "execution_count": 10,
      "outputs": [
        {
          "output_type": "execute_result",
          "data": {
            "text/plain": [
              "           country iso3c  year      M_USD  M_of_gov  M_of_GDP  \\\n",
              "30     Afghanistan   AFG  2000          0      0.00      0.00   \n",
              "31     Afghanistan   AFG  2001          0      0.00      0.00   \n",
              "32     Afghanistan   AFG  2002          0      0.00      0.00   \n",
              "33     Afghanistan   AFG  2003          0      0.00      0.00   \n",
              "34     Afghanistan   AFG  2004  125111557     16.13      2.43   \n",
              "...            ...   ...   ...        ...       ...       ...   \n",
              "13561     Zimbabwe   ZWE  2016  358065000      7.36      1.74   \n",
              "13562     Zimbabwe   ZWE  2017  340522000      5.52      1.54   \n",
              "13563     Zimbabwe   ZWE  2018  420364000      5.61      1.22   \n",
              "13564     Zimbabwe   ZWE  2019  546939000      2.10      0.70   \n",
              "13565     Zimbabwe   ZWE  2020          0      0.00      0.00   \n",
              "\n",
              "                                      adminregion          incomeLevel  \n",
              "30                                     South Asia           Low income  \n",
              "31                                     South Asia           Low income  \n",
              "32                                     South Asia           Low income  \n",
              "33                                     South Asia           Low income  \n",
              "34                                     South Asia           Low income  \n",
              "...                                           ...                  ...  \n",
              "13561  Sub-Saharan Africa (excluding high income)  Lower middle income  \n",
              "13562  Sub-Saharan Africa (excluding high income)  Lower middle income  \n",
              "13563  Sub-Saharan Africa (excluding high income)  Lower middle income  \n",
              "13564  Sub-Saharan Africa (excluding high income)  Lower middle income  \n",
              "13565  Sub-Saharan Africa (excluding high income)  Lower middle income  \n",
              "\n",
              "[4578 rows x 8 columns]"
            ],
            "text/html": [
              "\n",
              "  <div id=\"df-146d4767-8ac9-4190-a03d-429354ca24a0\">\n",
              "    <div class=\"colab-df-container\">\n",
              "      <div>\n",
              "<style scoped>\n",
              "    .dataframe tbody tr th:only-of-type {\n",
              "        vertical-align: middle;\n",
              "    }\n",
              "\n",
              "    .dataframe tbody tr th {\n",
              "        vertical-align: top;\n",
              "    }\n",
              "\n",
              "    .dataframe thead th {\n",
              "        text-align: right;\n",
              "    }\n",
              "</style>\n",
              "<table border=\"1\" class=\"dataframe\">\n",
              "  <thead>\n",
              "    <tr style=\"text-align: right;\">\n",
              "      <th></th>\n",
              "      <th>country</th>\n",
              "      <th>iso3c</th>\n",
              "      <th>year</th>\n",
              "      <th>M_USD</th>\n",
              "      <th>M_of_gov</th>\n",
              "      <th>M_of_GDP</th>\n",
              "      <th>adminregion</th>\n",
              "      <th>incomeLevel</th>\n",
              "    </tr>\n",
              "  </thead>\n",
              "  <tbody>\n",
              "    <tr>\n",
              "      <th>30</th>\n",
              "      <td>Afghanistan</td>\n",
              "      <td>AFG</td>\n",
              "      <td>2000</td>\n",
              "      <td>0</td>\n",
              "      <td>0.00</td>\n",
              "      <td>0.00</td>\n",
              "      <td>South Asia</td>\n",
              "      <td>Low income</td>\n",
              "    </tr>\n",
              "    <tr>\n",
              "      <th>31</th>\n",
              "      <td>Afghanistan</td>\n",
              "      <td>AFG</td>\n",
              "      <td>2001</td>\n",
              "      <td>0</td>\n",
              "      <td>0.00</td>\n",
              "      <td>0.00</td>\n",
              "      <td>South Asia</td>\n",
              "      <td>Low income</td>\n",
              "    </tr>\n",
              "    <tr>\n",
              "      <th>32</th>\n",
              "      <td>Afghanistan</td>\n",
              "      <td>AFG</td>\n",
              "      <td>2002</td>\n",
              "      <td>0</td>\n",
              "      <td>0.00</td>\n",
              "      <td>0.00</td>\n",
              "      <td>South Asia</td>\n",
              "      <td>Low income</td>\n",
              "    </tr>\n",
              "    <tr>\n",
              "      <th>33</th>\n",
              "      <td>Afghanistan</td>\n",
              "      <td>AFG</td>\n",
              "      <td>2003</td>\n",
              "      <td>0</td>\n",
              "      <td>0.00</td>\n",
              "      <td>0.00</td>\n",
              "      <td>South Asia</td>\n",
              "      <td>Low income</td>\n",
              "    </tr>\n",
              "    <tr>\n",
              "      <th>34</th>\n",
              "      <td>Afghanistan</td>\n",
              "      <td>AFG</td>\n",
              "      <td>2004</td>\n",
              "      <td>125111557</td>\n",
              "      <td>16.13</td>\n",
              "      <td>2.43</td>\n",
              "      <td>South Asia</td>\n",
              "      <td>Low income</td>\n",
              "    </tr>\n",
              "    <tr>\n",
              "      <th>...</th>\n",
              "      <td>...</td>\n",
              "      <td>...</td>\n",
              "      <td>...</td>\n",
              "      <td>...</td>\n",
              "      <td>...</td>\n",
              "      <td>...</td>\n",
              "      <td>...</td>\n",
              "      <td>...</td>\n",
              "    </tr>\n",
              "    <tr>\n",
              "      <th>13561</th>\n",
              "      <td>Zimbabwe</td>\n",
              "      <td>ZWE</td>\n",
              "      <td>2016</td>\n",
              "      <td>358065000</td>\n",
              "      <td>7.36</td>\n",
              "      <td>1.74</td>\n",
              "      <td>Sub-Saharan Africa (excluding high income)</td>\n",
              "      <td>Lower middle income</td>\n",
              "    </tr>\n",
              "    <tr>\n",
              "      <th>13562</th>\n",
              "      <td>Zimbabwe</td>\n",
              "      <td>ZWE</td>\n",
              "      <td>2017</td>\n",
              "      <td>340522000</td>\n",
              "      <td>5.52</td>\n",
              "      <td>1.54</td>\n",
              "      <td>Sub-Saharan Africa (excluding high income)</td>\n",
              "      <td>Lower middle income</td>\n",
              "    </tr>\n",
              "    <tr>\n",
              "      <th>13563</th>\n",
              "      <td>Zimbabwe</td>\n",
              "      <td>ZWE</td>\n",
              "      <td>2018</td>\n",
              "      <td>420364000</td>\n",
              "      <td>5.61</td>\n",
              "      <td>1.22</td>\n",
              "      <td>Sub-Saharan Africa (excluding high income)</td>\n",
              "      <td>Lower middle income</td>\n",
              "    </tr>\n",
              "    <tr>\n",
              "      <th>13564</th>\n",
              "      <td>Zimbabwe</td>\n",
              "      <td>ZWE</td>\n",
              "      <td>2019</td>\n",
              "      <td>546939000</td>\n",
              "      <td>2.10</td>\n",
              "      <td>0.70</td>\n",
              "      <td>Sub-Saharan Africa (excluding high income)</td>\n",
              "      <td>Lower middle income</td>\n",
              "    </tr>\n",
              "    <tr>\n",
              "      <th>13565</th>\n",
              "      <td>Zimbabwe</td>\n",
              "      <td>ZWE</td>\n",
              "      <td>2020</td>\n",
              "      <td>0</td>\n",
              "      <td>0.00</td>\n",
              "      <td>0.00</td>\n",
              "      <td>Sub-Saharan Africa (excluding high income)</td>\n",
              "      <td>Lower middle income</td>\n",
              "    </tr>\n",
              "  </tbody>\n",
              "</table>\n",
              "<p>4578 rows × 8 columns</p>\n",
              "</div>\n",
              "      <button class=\"colab-df-convert\" onclick=\"convertToInteractive('df-146d4767-8ac9-4190-a03d-429354ca24a0')\"\n",
              "              title=\"Convert this dataframe to an interactive table.\"\n",
              "              style=\"display:none;\">\n",
              "        \n",
              "  <svg xmlns=\"http://www.w3.org/2000/svg\" height=\"24px\"viewBox=\"0 0 24 24\"\n",
              "       width=\"24px\">\n",
              "    <path d=\"M0 0h24v24H0V0z\" fill=\"none\"/>\n",
              "    <path d=\"M18.56 5.44l.94 2.06.94-2.06 2.06-.94-2.06-.94-.94-2.06-.94 2.06-2.06.94zm-11 1L8.5 8.5l.94-2.06 2.06-.94-2.06-.94L8.5 2.5l-.94 2.06-2.06.94zm10 10l.94 2.06.94-2.06 2.06-.94-2.06-.94-.94-2.06-.94 2.06-2.06.94z\"/><path d=\"M17.41 7.96l-1.37-1.37c-.4-.4-.92-.59-1.43-.59-.52 0-1.04.2-1.43.59L10.3 9.45l-7.72 7.72c-.78.78-.78 2.05 0 2.83L4 21.41c.39.39.9.59 1.41.59.51 0 1.02-.2 1.41-.59l7.78-7.78 2.81-2.81c.8-.78.8-2.07 0-2.86zM5.41 20L4 18.59l7.72-7.72 1.47 1.35L5.41 20z\"/>\n",
              "  </svg>\n",
              "      </button>\n",
              "      \n",
              "  <style>\n",
              "    .colab-df-container {\n",
              "      display:flex;\n",
              "      flex-wrap:wrap;\n",
              "      gap: 12px;\n",
              "    }\n",
              "\n",
              "    .colab-df-convert {\n",
              "      background-color: #E8F0FE;\n",
              "      border: none;\n",
              "      border-radius: 50%;\n",
              "      cursor: pointer;\n",
              "      display: none;\n",
              "      fill: #1967D2;\n",
              "      height: 32px;\n",
              "      padding: 0 0 0 0;\n",
              "      width: 32px;\n",
              "    }\n",
              "\n",
              "    .colab-df-convert:hover {\n",
              "      background-color: #E2EBFA;\n",
              "      box-shadow: 0px 1px 2px rgba(60, 64, 67, 0.3), 0px 1px 3px 1px rgba(60, 64, 67, 0.15);\n",
              "      fill: #174EA6;\n",
              "    }\n",
              "\n",
              "    [theme=dark] .colab-df-convert {\n",
              "      background-color: #3B4455;\n",
              "      fill: #D2E3FC;\n",
              "    }\n",
              "\n",
              "    [theme=dark] .colab-df-convert:hover {\n",
              "      background-color: #434B5C;\n",
              "      box-shadow: 0px 1px 3px 1px rgba(0, 0, 0, 0.15);\n",
              "      filter: drop-shadow(0px 1px 2px rgba(0, 0, 0, 0.3));\n",
              "      fill: #FFFFFF;\n",
              "    }\n",
              "  </style>\n",
              "\n",
              "      <script>\n",
              "        const buttonEl =\n",
              "          document.querySelector('#df-146d4767-8ac9-4190-a03d-429354ca24a0 button.colab-df-convert');\n",
              "        buttonEl.style.display =\n",
              "          google.colab.kernel.accessAllowed ? 'block' : 'none';\n",
              "\n",
              "        async function convertToInteractive(key) {\n",
              "          const element = document.querySelector('#df-146d4767-8ac9-4190-a03d-429354ca24a0');\n",
              "          const dataTable =\n",
              "            await google.colab.kernel.invokeFunction('convertToInteractive',\n",
              "                                                     [key], {});\n",
              "          if (!dataTable) return;\n",
              "\n",
              "          const docLinkHtml = 'Like what you see? Visit the ' +\n",
              "            '<a target=\"_blank\" href=https://colab.research.google.com/notebooks/data_table.ipynb>data table notebook</a>'\n",
              "            + ' to learn more about interactive tables.';\n",
              "          element.innerHTML = '';\n",
              "          dataTable['output_type'] = 'display_data';\n",
              "          await google.colab.output.renderOutput(dataTable, element);\n",
              "          const docLink = document.createElement('div');\n",
              "          docLink.innerHTML = docLinkHtml;\n",
              "          element.appendChild(docLink);\n",
              "        }\n",
              "      </script>\n",
              "    </div>\n",
              "  </div>\n",
              "  "
            ]
          },
          "metadata": {},
          "execution_count": 10
        }
      ]
    },
    {
      "cell_type": "code",
      "source": [
        "df1 = df1[pd.notnull(df1['incomeLevel'])]\n",
        "df1.reset_index(drop=True)"
      ],
      "metadata": {
        "colab": {
          "base_uri": "https://localhost:8080/",
          "height": 424
        },
        "id": "Qil6lK6aDJcG",
        "outputId": "69f89584-ef8b-45ea-ebf3-6def946daf42"
      },
      "execution_count": 11,
      "outputs": [
        {
          "output_type": "execute_result",
          "data": {
            "text/plain": [
              "          country iso3c  year      M_USD  M_of_gov  M_of_GDP  \\\n",
              "0     Afghanistan   AFG  2000          0      0.00      0.00   \n",
              "1     Afghanistan   AFG  2001          0      0.00      0.00   \n",
              "2     Afghanistan   AFG  2002          0      0.00      0.00   \n",
              "3     Afghanistan   AFG  2003          0      0.00      0.00   \n",
              "4     Afghanistan   AFG  2004  125111557     16.13      2.43   \n",
              "...           ...   ...   ...        ...       ...       ...   \n",
              "4531     Zimbabwe   ZWE  2016  358065000      7.36      1.74   \n",
              "4532     Zimbabwe   ZWE  2017  340522000      5.52      1.54   \n",
              "4533     Zimbabwe   ZWE  2018  420364000      5.61      1.22   \n",
              "4534     Zimbabwe   ZWE  2019  546939000      2.10      0.70   \n",
              "4535     Zimbabwe   ZWE  2020          0      0.00      0.00   \n",
              "\n",
              "                                     adminregion          incomeLevel  \n",
              "0                                     South Asia           Low income  \n",
              "1                                     South Asia           Low income  \n",
              "2                                     South Asia           Low income  \n",
              "3                                     South Asia           Low income  \n",
              "4                                     South Asia           Low income  \n",
              "...                                          ...                  ...  \n",
              "4531  Sub-Saharan Africa (excluding high income)  Lower middle income  \n",
              "4532  Sub-Saharan Africa (excluding high income)  Lower middle income  \n",
              "4533  Sub-Saharan Africa (excluding high income)  Lower middle income  \n",
              "4534  Sub-Saharan Africa (excluding high income)  Lower middle income  \n",
              "4535  Sub-Saharan Africa (excluding high income)  Lower middle income  \n",
              "\n",
              "[4536 rows x 8 columns]"
            ],
            "text/html": [
              "\n",
              "  <div id=\"df-5c860fe5-0c0f-4b37-86b2-df06db8c36b4\">\n",
              "    <div class=\"colab-df-container\">\n",
              "      <div>\n",
              "<style scoped>\n",
              "    .dataframe tbody tr th:only-of-type {\n",
              "        vertical-align: middle;\n",
              "    }\n",
              "\n",
              "    .dataframe tbody tr th {\n",
              "        vertical-align: top;\n",
              "    }\n",
              "\n",
              "    .dataframe thead th {\n",
              "        text-align: right;\n",
              "    }\n",
              "</style>\n",
              "<table border=\"1\" class=\"dataframe\">\n",
              "  <thead>\n",
              "    <tr style=\"text-align: right;\">\n",
              "      <th></th>\n",
              "      <th>country</th>\n",
              "      <th>iso3c</th>\n",
              "      <th>year</th>\n",
              "      <th>M_USD</th>\n",
              "      <th>M_of_gov</th>\n",
              "      <th>M_of_GDP</th>\n",
              "      <th>adminregion</th>\n",
              "      <th>incomeLevel</th>\n",
              "    </tr>\n",
              "  </thead>\n",
              "  <tbody>\n",
              "    <tr>\n",
              "      <th>0</th>\n",
              "      <td>Afghanistan</td>\n",
              "      <td>AFG</td>\n",
              "      <td>2000</td>\n",
              "      <td>0</td>\n",
              "      <td>0.00</td>\n",
              "      <td>0.00</td>\n",
              "      <td>South Asia</td>\n",
              "      <td>Low income</td>\n",
              "    </tr>\n",
              "    <tr>\n",
              "      <th>1</th>\n",
              "      <td>Afghanistan</td>\n",
              "      <td>AFG</td>\n",
              "      <td>2001</td>\n",
              "      <td>0</td>\n",
              "      <td>0.00</td>\n",
              "      <td>0.00</td>\n",
              "      <td>South Asia</td>\n",
              "      <td>Low income</td>\n",
              "    </tr>\n",
              "    <tr>\n",
              "      <th>2</th>\n",
              "      <td>Afghanistan</td>\n",
              "      <td>AFG</td>\n",
              "      <td>2002</td>\n",
              "      <td>0</td>\n",
              "      <td>0.00</td>\n",
              "      <td>0.00</td>\n",
              "      <td>South Asia</td>\n",
              "      <td>Low income</td>\n",
              "    </tr>\n",
              "    <tr>\n",
              "      <th>3</th>\n",
              "      <td>Afghanistan</td>\n",
              "      <td>AFG</td>\n",
              "      <td>2003</td>\n",
              "      <td>0</td>\n",
              "      <td>0.00</td>\n",
              "      <td>0.00</td>\n",
              "      <td>South Asia</td>\n",
              "      <td>Low income</td>\n",
              "    </tr>\n",
              "    <tr>\n",
              "      <th>4</th>\n",
              "      <td>Afghanistan</td>\n",
              "      <td>AFG</td>\n",
              "      <td>2004</td>\n",
              "      <td>125111557</td>\n",
              "      <td>16.13</td>\n",
              "      <td>2.43</td>\n",
              "      <td>South Asia</td>\n",
              "      <td>Low income</td>\n",
              "    </tr>\n",
              "    <tr>\n",
              "      <th>...</th>\n",
              "      <td>...</td>\n",
              "      <td>...</td>\n",
              "      <td>...</td>\n",
              "      <td>...</td>\n",
              "      <td>...</td>\n",
              "      <td>...</td>\n",
              "      <td>...</td>\n",
              "      <td>...</td>\n",
              "    </tr>\n",
              "    <tr>\n",
              "      <th>4531</th>\n",
              "      <td>Zimbabwe</td>\n",
              "      <td>ZWE</td>\n",
              "      <td>2016</td>\n",
              "      <td>358065000</td>\n",
              "      <td>7.36</td>\n",
              "      <td>1.74</td>\n",
              "      <td>Sub-Saharan Africa (excluding high income)</td>\n",
              "      <td>Lower middle income</td>\n",
              "    </tr>\n",
              "    <tr>\n",
              "      <th>4532</th>\n",
              "      <td>Zimbabwe</td>\n",
              "      <td>ZWE</td>\n",
              "      <td>2017</td>\n",
              "      <td>340522000</td>\n",
              "      <td>5.52</td>\n",
              "      <td>1.54</td>\n",
              "      <td>Sub-Saharan Africa (excluding high income)</td>\n",
              "      <td>Lower middle income</td>\n",
              "    </tr>\n",
              "    <tr>\n",
              "      <th>4533</th>\n",
              "      <td>Zimbabwe</td>\n",
              "      <td>ZWE</td>\n",
              "      <td>2018</td>\n",
              "      <td>420364000</td>\n",
              "      <td>5.61</td>\n",
              "      <td>1.22</td>\n",
              "      <td>Sub-Saharan Africa (excluding high income)</td>\n",
              "      <td>Lower middle income</td>\n",
              "    </tr>\n",
              "    <tr>\n",
              "      <th>4534</th>\n",
              "      <td>Zimbabwe</td>\n",
              "      <td>ZWE</td>\n",
              "      <td>2019</td>\n",
              "      <td>546939000</td>\n",
              "      <td>2.10</td>\n",
              "      <td>0.70</td>\n",
              "      <td>Sub-Saharan Africa (excluding high income)</td>\n",
              "      <td>Lower middle income</td>\n",
              "    </tr>\n",
              "    <tr>\n",
              "      <th>4535</th>\n",
              "      <td>Zimbabwe</td>\n",
              "      <td>ZWE</td>\n",
              "      <td>2020</td>\n",
              "      <td>0</td>\n",
              "      <td>0.00</td>\n",
              "      <td>0.00</td>\n",
              "      <td>Sub-Saharan Africa (excluding high income)</td>\n",
              "      <td>Lower middle income</td>\n",
              "    </tr>\n",
              "  </tbody>\n",
              "</table>\n",
              "<p>4536 rows × 8 columns</p>\n",
              "</div>\n",
              "      <button class=\"colab-df-convert\" onclick=\"convertToInteractive('df-5c860fe5-0c0f-4b37-86b2-df06db8c36b4')\"\n",
              "              title=\"Convert this dataframe to an interactive table.\"\n",
              "              style=\"display:none;\">\n",
              "        \n",
              "  <svg xmlns=\"http://www.w3.org/2000/svg\" height=\"24px\"viewBox=\"0 0 24 24\"\n",
              "       width=\"24px\">\n",
              "    <path d=\"M0 0h24v24H0V0z\" fill=\"none\"/>\n",
              "    <path d=\"M18.56 5.44l.94 2.06.94-2.06 2.06-.94-2.06-.94-.94-2.06-.94 2.06-2.06.94zm-11 1L8.5 8.5l.94-2.06 2.06-.94-2.06-.94L8.5 2.5l-.94 2.06-2.06.94zm10 10l.94 2.06.94-2.06 2.06-.94-2.06-.94-.94-2.06-.94 2.06-2.06.94z\"/><path d=\"M17.41 7.96l-1.37-1.37c-.4-.4-.92-.59-1.43-.59-.52 0-1.04.2-1.43.59L10.3 9.45l-7.72 7.72c-.78.78-.78 2.05 0 2.83L4 21.41c.39.39.9.59 1.41.59.51 0 1.02-.2 1.41-.59l7.78-7.78 2.81-2.81c.8-.78.8-2.07 0-2.86zM5.41 20L4 18.59l7.72-7.72 1.47 1.35L5.41 20z\"/>\n",
              "  </svg>\n",
              "      </button>\n",
              "      \n",
              "  <style>\n",
              "    .colab-df-container {\n",
              "      display:flex;\n",
              "      flex-wrap:wrap;\n",
              "      gap: 12px;\n",
              "    }\n",
              "\n",
              "    .colab-df-convert {\n",
              "      background-color: #E8F0FE;\n",
              "      border: none;\n",
              "      border-radius: 50%;\n",
              "      cursor: pointer;\n",
              "      display: none;\n",
              "      fill: #1967D2;\n",
              "      height: 32px;\n",
              "      padding: 0 0 0 0;\n",
              "      width: 32px;\n",
              "    }\n",
              "\n",
              "    .colab-df-convert:hover {\n",
              "      background-color: #E2EBFA;\n",
              "      box-shadow: 0px 1px 2px rgba(60, 64, 67, 0.3), 0px 1px 3px 1px rgba(60, 64, 67, 0.15);\n",
              "      fill: #174EA6;\n",
              "    }\n",
              "\n",
              "    [theme=dark] .colab-df-convert {\n",
              "      background-color: #3B4455;\n",
              "      fill: #D2E3FC;\n",
              "    }\n",
              "\n",
              "    [theme=dark] .colab-df-convert:hover {\n",
              "      background-color: #434B5C;\n",
              "      box-shadow: 0px 1px 3px 1px rgba(0, 0, 0, 0.15);\n",
              "      filter: drop-shadow(0px 1px 2px rgba(0, 0, 0, 0.3));\n",
              "      fill: #FFFFFF;\n",
              "    }\n",
              "  </style>\n",
              "\n",
              "      <script>\n",
              "        const buttonEl =\n",
              "          document.querySelector('#df-5c860fe5-0c0f-4b37-86b2-df06db8c36b4 button.colab-df-convert');\n",
              "        buttonEl.style.display =\n",
              "          google.colab.kernel.accessAllowed ? 'block' : 'none';\n",
              "\n",
              "        async function convertToInteractive(key) {\n",
              "          const element = document.querySelector('#df-5c860fe5-0c0f-4b37-86b2-df06db8c36b4');\n",
              "          const dataTable =\n",
              "            await google.colab.kernel.invokeFunction('convertToInteractive',\n",
              "                                                     [key], {});\n",
              "          if (!dataTable) return;\n",
              "\n",
              "          const docLinkHtml = 'Like what you see? Visit the ' +\n",
              "            '<a target=\"_blank\" href=https://colab.research.google.com/notebooks/data_table.ipynb>data table notebook</a>'\n",
              "            + ' to learn more about interactive tables.';\n",
              "          element.innerHTML = '';\n",
              "          dataTable['output_type'] = 'display_data';\n",
              "          await google.colab.output.renderOutput(dataTable, element);\n",
              "          const docLink = document.createElement('div');\n",
              "          docLink.innerHTML = docLinkHtml;\n",
              "          element.appendChild(docLink);\n",
              "        }\n",
              "      </script>\n",
              "    </div>\n",
              "  </div>\n",
              "  "
            ]
          },
          "metadata": {},
          "execution_count": 11
        }
      ]
    },
    {
      "cell_type": "code",
      "source": [
        "df1['incomeLevel'].value_counts()"
      ],
      "metadata": {
        "colab": {
          "base_uri": "https://localhost:8080/"
        },
        "id": "XMbGfPrlqbk-",
        "outputId": "42527ce7-253a-4ab8-aa63-ba517d17c692"
      },
      "execution_count": 12,
      "outputs": [
        {
          "output_type": "execute_result",
          "data": {
            "text/plain": [
              "High income            1659\n",
              "Upper middle income    1155\n",
              "Lower middle income    1155\n",
              "Low income              567\n",
              "Name: incomeLevel, dtype: int64"
            ]
          },
          "metadata": {},
          "execution_count": 12
        }
      ]
    },
    {
      "cell_type": "markdown",
      "source": [
        "\n",
        "> 기준모델인 평균과 데이터 분포를 그래프로 표현\n",
        "\n"
      ],
      "metadata": {
        "id": "u7AAhfpzZ51Y"
      }
    },
    {
      "cell_type": "code",
      "source": [
        "x = df['M_of_gov']\n",
        "y = df['M_USD']\n",
        "\n",
        "predict = df['M_USD'].mean()\n",
        "errors = predict - df['M_USD']\n",
        "mean_absolute_error = errors.abs().mean()\n",
        "\n",
        "sns.lineplot(x=x, y=predict, color='red')\n",
        "sns.scatterplot(x=x, y=y, color='blue');\n",
        "print(f'예측한 국방비가 ${predict:,.0f}이며 절대평균에러가 ${mean_absolute_error:,.0f}임을 확인할 수 있습니다.')"
      ],
      "metadata": {
        "colab": {
          "base_uri": "https://localhost:8080/",
          "height": 308
        },
        "id": "x9wKJ6QgG01_",
        "outputId": "a5690add-99d7-4cb0-c0ea-ba68baf96e4a"
      },
      "execution_count": 13,
      "outputs": [
        {
          "output_type": "stream",
          "name": "stdout",
          "text": [
            "예측한 국방비가 $36,760,653,639이며 절대평균에러가 $57,666,649,885임을 확인할 수 있습니다.\n"
          ]
        },
        {
          "output_type": "display_data",
          "data": {
            "text/plain": [
              "<Figure size 432x288 with 1 Axes>"
            ],
            "image/png": "[encoded data removed]"
          },
          "metadata": {
            "needs_background": "light"
          }
        }
      ]
    },
    {
      "cell_type": "markdown",
      "source": [
        "> 특성들의 상관관계를 그래프로 표현\n",
        "\n"
      ],
      "metadata": {
        "id": "huXuoDaDaHIN"
      }
    },
    {
      "cell_type": "code",
      "source": [
        "sns.set(style='whitegrid', context='notebook')\n",
        "cols = ['M_USD', 'M_of_gov','M_of_GDP']\n",
        "sns.pairplot(df[cols], height=2);"
      ],
      "metadata": {
        "colab": {
          "base_uri": "https://localhost:8080/",
          "height": 442
        },
        "id": "x9lvdwEzpoEw",
        "outputId": "4326eace-ab6d-4613-e97e-86d5dba36238"
      },
      "execution_count": 14,
      "outputs": [
        {
          "output_type": "display_data",
          "data": {
            "text/plain": [
              "<Figure size 432x432 with 12 Axes>"
            ],
            "image/png": "[encoded data removed]"
          },
          "metadata": {}
        }
      ]
    },
    {
      "cell_type": "markdown",
      "source": [
        "> M_of_GPD 회귀선을 그래프로 표현\n",
        "\n",
        "\n",
        "\n",
        "\n",
        "\n",
        "\n"
      ],
      "metadata": {
        "id": "WJNVgLPXaNfe"
      }
    },
    {
      "cell_type": "code",
      "source": [
        "sns.regplot(x=df1['M_of_GDP'], y=df1['M_USD']).set_title('Housing Prices');"
      ],
      "metadata": {
        "colab": {
          "base_uri": "https://localhost:8080/",
          "height": 301
        },
        "id": "Q5JgOoBoIEsr",
        "outputId": "3f414bcd-be39-4024-b137-716c3af9d04c"
      },
      "execution_count": 15,
      "outputs": [
        {
          "output_type": "display_data",
          "data": {
            "text/plain": [
              "<Figure size 432x288 with 1 Axes>"
            ],
            "image/png": "[encoded data removed]"
          },
          "metadata": {}
        }
      ]
    },
    {
      "cell_type": "markdown",
      "source": [
        "> M_of_gov 회귀선을 그래프로 표현\n",
        "\n",
        "\n",
        "\n",
        "\n",
        "\n",
        "\n"
      ],
      "metadata": {
        "id": "fsCHINqWawrk"
      }
    },
    {
      "cell_type": "code",
      "source": [
        "sns.regplot(x=df1['M_of_gov'], y=df1['M_USD']).set_title('Housing Prices');"
      ],
      "metadata": {
        "colab": {
          "base_uri": "https://localhost:8080/",
          "height": 301
        },
        "id": "aesenYLKIjJr",
        "outputId": "b8b446ce-4617-4a15-aeae-c736911cec2d"
      },
      "execution_count": 16,
      "outputs": [
        {
          "output_type": "display_data",
          "data": {
            "text/plain": [
              "<Figure size 432x288 with 1 Axes>"
            ],
            "image/png": "[encoded data removed]"
          },
          "metadata": {}
        }
      ]
    },
    {
      "cell_type": "markdown",
      "source": [
        "\n",
        "\n",
        "> 나라별 M_USD 평균을 확인\n"
      ],
      "metadata": {
        "id": "FdimaDHPa0I-"
      }
    },
    {
      "cell_type": "code",
      "source": [
        "df2 = df1.groupby('country').mean()\n",
        "df2.head()"
      ],
      "metadata": {
        "colab": {
          "base_uri": "https://localhost:8080/",
          "height": 237
        },
        "id": "W5GKw_7EUJV1",
        "outputId": "335dce3d-7bde-46a6-b1f0-a0e204cd578a"
      },
      "execution_count": 17,
      "outputs": [
        {
          "output_type": "execute_result",
          "data": {
            "text/plain": [
              "                  year         M_USD  M_of_gov  M_of_GDP\n",
              "country                                                 \n",
              "Afghanistan    2010.00  177115099.33      6.08      1.29\n",
              "Albania        2010.00  149792925.19      3.65      1.41\n",
              "Algeria        2010.00 6444481720.62     11.93      4.39\n",
              "American Samoa 2010.00          0.00      0.00      0.00\n",
              "Andorra        2010.00          0.00      0.00      0.00"
            ],
            "text/html": [
              "\n",
              "  <div id=\"df-f5c5e434-0cab-42ab-9305-6b7714413979\">\n",
              "    <div class=\"colab-df-container\">\n",
              "      <div>\n",
              "<style scoped>\n",
              "    .dataframe tbody tr th:only-of-type {\n",
              "        vertical-align: middle;\n",
              "    }\n",
              "\n",
              "    .dataframe tbody tr th {\n",
              "        vertical-align: top;\n",
              "    }\n",
              "\n",
              "    .dataframe thead th {\n",
              "        text-align: right;\n",
              "    }\n",
              "</style>\n",
              "<table border=\"1\" class=\"dataframe\">\n",
              "  <thead>\n",
              "    <tr style=\"text-align: right;\">\n",
              "      <th></th>\n",
              "      <th>year</th>\n",
              "      <th>M_USD</th>\n",
              "      <th>M_of_gov</th>\n",
              "      <th>M_of_GDP</th>\n",
              "    </tr>\n",
              "    <tr>\n",
              "      <th>country</th>\n",
              "      <th></th>\n",
              "      <th></th>\n",
              "      <th></th>\n",
              "      <th></th>\n",
              "    </tr>\n",
              "  </thead>\n",
              "  <tbody>\n",
              "    <tr>\n",
              "      <th>Afghanistan</th>\n",
              "      <td>2010.00</td>\n",
              "      <td>177115099.33</td>\n",
              "      <td>6.08</td>\n",
              "      <td>1.29</td>\n",
              "    </tr>\n",
              "    <tr>\n",
              "      <th>Albania</th>\n",
              "      <td>2010.00</td>\n",
              "      <td>149792925.19</td>\n",
              "      <td>3.65</td>\n",
              "      <td>1.41</td>\n",
              "    </tr>\n",
              "    <tr>\n",
              "      <th>Algeria</th>\n",
              "      <td>2010.00</td>\n",
              "      <td>6444481720.62</td>\n",
              "      <td>11.93</td>\n",
              "      <td>4.39</td>\n",
              "    </tr>\n",
              "    <tr>\n",
              "      <th>American Samoa</th>\n",
              "      <td>2010.00</td>\n",
              "      <td>0.00</td>\n",
              "      <td>0.00</td>\n",
              "      <td>0.00</td>\n",
              "    </tr>\n",
              "    <tr>\n",
              "      <th>Andorra</th>\n",
              "      <td>2010.00</td>\n",
              "      <td>0.00</td>\n",
              "      <td>0.00</td>\n",
              "      <td>0.00</td>\n",
              "    </tr>\n",
              "  </tbody>\n",
              "</table>\n",
              "</div>\n",
              "      <button class=\"colab-df-convert\" onclick=\"convertToInteractive('df-f5c5e434-0cab-42ab-9305-6b7714413979')\"\n",
              "              title=\"Convert this dataframe to an interactive table.\"\n",
              "              style=\"display:none;\">\n",
              "        \n",
              "  <svg xmlns=\"http://www.w3.org/2000/svg\" height=\"24px\"viewBox=\"0 0 24 24\"\n",
              "       width=\"24px\">\n",
              "    <path d=\"M0 0h24v24H0V0z\" fill=\"none\"/>\n",
              "    <path d=\"M18.56 5.44l.94 2.06.94-2.06 2.06-.94-2.06-.94-.94-2.06-.94 2.06-2.06.94zm-11 1L8.5 8.5l.94-2.06 2.06-.94-2.06-.94L8.5 2.5l-.94 2.06-2.06.94zm10 10l.94 2.06.94-2.06 2.06-.94-2.06-.94-.94-2.06-.94 2.06-2.06.94z\"/><path d=\"M17.41 7.96l-1.37-1.37c-.4-.4-.92-.59-1.43-.59-.52 0-1.04.2-1.43.59L10.3 9.45l-7.72 7.72c-.78.78-.78 2.05 0 2.83L4 21.41c.39.39.9.59 1.41.59.51 0 1.02-.2 1.41-.59l7.78-7.78 2.81-2.81c.8-.78.8-2.07 0-2.86zM5.41 20L4 18.59l7.72-7.72 1.47 1.35L5.41 20z\"/>\n",
              "  </svg>\n",
              "      </button>\n",
              "      \n",
              "  <style>\n",
              "    .colab-df-container {\n",
              "      display:flex;\n",
              "      flex-wrap:wrap;\n",
              "      gap: 12px;\n",
              "    }\n",
              "\n",
              "    .colab-df-convert {\n",
              "      background-color: #E8F0FE;\n",
              "      border: none;\n",
              "      border-radius: 50%;\n",
              "      cursor: pointer;\n",
              "      display: none;\n",
              "      fill: #1967D2;\n",
              "      height: 32px;\n",
              "      padding: 0 0 0 0;\n",
              "      width: 32px;\n",
              "    }\n",
              "\n",
              "    .colab-df-convert:hover {\n",
              "      background-color: #E2EBFA;\n",
              "      box-shadow: 0px 1px 2px rgba(60, 64, 67, 0.3), 0px 1px 3px 1px rgba(60, 64, 67, 0.15);\n",
              "      fill: #174EA6;\n",
              "    }\n",
              "\n",
              "    [theme=dark] .colab-df-convert {\n",
              "      background-color: #3B4455;\n",
              "      fill: #D2E3FC;\n",
              "    }\n",
              "\n",
              "    [theme=dark] .colab-df-convert:hover {\n",
              "      background-color: #434B5C;\n",
              "      box-shadow: 0px 1px 3px 1px rgba(0, 0, 0, 0.15);\n",
              "      filter: drop-shadow(0px 1px 2px rgba(0, 0, 0, 0.3));\n",
              "      fill: #FFFFFF;\n",
              "    }\n",
              "  </style>\n",
              "\n",
              "      <script>\n",
              "        const buttonEl =\n",
              "          document.querySelector('#df-f5c5e434-0cab-42ab-9305-6b7714413979 button.colab-df-convert');\n",
              "        buttonEl.style.display =\n",
              "          google.colab.kernel.accessAllowed ? 'block' : 'none';\n",
              "\n",
              "        async function convertToInteractive(key) {\n",
              "          const element = document.querySelector('#df-f5c5e434-0cab-42ab-9305-6b7714413979');\n",
              "          const dataTable =\n",
              "            await google.colab.kernel.invokeFunction('convertToInteractive',\n",
              "                                                     [key], {});\n",
              "          if (!dataTable) return;\n",
              "\n",
              "          const docLinkHtml = 'Like what you see? Visit the ' +\n",
              "            '<a target=\"_blank\" href=https://colab.research.google.com/notebooks/data_table.ipynb>data table notebook</a>'\n",
              "            + ' to learn more about interactive tables.';\n",
              "          element.innerHTML = '';\n",
              "          dataTable['output_type'] = 'display_data';\n",
              "          await google.colab.output.renderOutput(dataTable, element);\n",
              "          const docLink = document.createElement('div');\n",
              "          docLink.innerHTML = docLinkHtml;\n",
              "          element.appendChild(docLink);\n",
              "        }\n",
              "      </script>\n",
              "    </div>\n",
              "  </div>\n",
              "  "
            ]
          },
          "metadata": {},
          "execution_count": 17
        }
      ]
    },
    {
      "cell_type": "markdown",
      "source": [
        "\n",
        "\n",
        "> 나라별 국방비 평균및 회귀선을 그래프로 표현\n",
        "\n"
      ],
      "metadata": {
        "id": "CZLS75LnbEMB"
      }
    },
    {
      "cell_type": "code",
      "source": [
        "sns.regplot(x=df2['M_of_GDP'], y=df2['M_USD']).set_title('Military_Expenditure');"
      ],
      "metadata": {
        "colab": {
          "base_uri": "https://localhost:8080/",
          "height": 301
        },
        "id": "nNKJbPOsVsQh",
        "outputId": "680db076-c3f6-4e13-d9e5-ef118c94e466"
      },
      "execution_count": 18,
      "outputs": [
        {
          "output_type": "display_data",
          "data": {
            "text/plain": [
              "<Figure size 432x288 with 1 Axes>"
            ],
            "image/png": "[encoded data removed]"
          },
          "metadata": {}
        }
      ]
    },
    {
      "cell_type": "code",
      "source": [
        "sns.regplot(x=df2['M_of_gov'], y=df2['M_USD']).set_title('Military_Expenditure');"
      ],
      "metadata": {
        "colab": {
          "base_uri": "https://localhost:8080/",
          "height": 301
        },
        "id": "sOxTKOHUWOYH",
        "outputId": "09ba26b6-9d02-4e8f-a12b-3db4d8044533"
      },
      "execution_count": 19,
      "outputs": [
        {
          "output_type": "display_data",
          "data": {
            "text/plain": [
              "<Figure size 432x288 with 1 Axes>"
            ],
            "image/png": "[encoded data removed]"
          },
          "metadata": {}
        }
      ]
    },
    {
      "cell_type": "markdown",
      "source": [
        "\n",
        "\n",
        "> 나라별 국방비 평균 랭킹을 구함\n",
        "\n"
      ],
      "metadata": {
        "id": "qtZigHf3a9_8"
      }
    },
    {
      "cell_type": "code",
      "source": [
        "df2['M_rank'] = df2['M_USD'].rank(ascending=False)\n",
        "df2['M_rank'] = df2['M_rank'].astype(int)\n",
        "df2 = df2.sort_values('M_rank',ascending = True)\n",
        "df2.head(10)\n"
      ],
      "metadata": {
        "colab": {
          "base_uri": "https://localhost:8080/",
          "height": 394
        },
        "id": "Fz257Gu4WrK0",
        "outputId": "f11476ef-1667-4bf8-8df6-e33c88cdcdf4"
      },
      "execution_count": 20,
      "outputs": [
        {
          "output_type": "execute_result",
          "data": {
            "text/plain": [
              "                      year           M_USD  M_of_gov  M_of_GDP  M_rank\n",
              "country                                                               \n",
              "United States      2010.00 603128868013.38     10.33      3.89       1\n",
              "China              2010.00 120702748325.10      7.77      1.80       2\n",
              "United Kingdom     2010.00  58833376412.29      5.83      2.32       3\n",
              "Russian Federation 2010.00  50498560472.71     11.30      3.78       4\n",
              "Japan              2010.00  46968274421.62      2.53      0.95       5\n",
              "Saudi Arabia       2010.00  46778381727.57     26.77      9.13       6\n",
              "France             2010.00  46702860472.52      3.56      1.96       7\n",
              "India              2010.00  40551400931.05      9.57      2.69       8\n",
              "Germany            2010.00  39712814613.05      2.67      1.23       9\n",
              "Korea, Rep.        2010.00  28977983683.86     12.59      2.49      10"
            ],
            "text/html": [
              "\n",
              "  <div id=\"df-8bb8fa0b-4097-4b80-a6dc-f4d146fdcfdc\">\n",
              "    <div class=\"colab-df-container\">\n",
              "      <div>\n",
              "<style scoped>\n",
              "    .dataframe tbody tr th:only-of-type {\n",
              "        vertical-align: middle;\n",
              "    }\n",
              "\n",
              "    .dataframe tbody tr th {\n",
              "        vertical-align: top;\n",
              "    }\n",
              "\n",
              "    .dataframe thead th {\n",
              "        text-align: right;\n",
              "    }\n",
              "</style>\n",
              "<table border=\"1\" class=\"dataframe\">\n",
              "  <thead>\n",
              "    <tr style=\"text-align: right;\">\n",
              "      <th></th>\n",
              "      <th>year</th>\n",
              "      <th>M_USD</th>\n",
              "      <th>M_of_gov</th>\n",
              "      <th>M_of_GDP</th>\n",
              "      <th>M_rank</th>\n",
              "    </tr>\n",
              "    <tr>\n",
              "      <th>country</th>\n",
              "      <th></th>\n",
              "      <th></th>\n",
              "      <th></th>\n",
              "      <th></th>\n",
              "      <th></th>\n",
              "    </tr>\n",
              "  </thead>\n",
              "  <tbody>\n",
              "    <tr>\n",
              "      <th>United States</th>\n",
              "      <td>2010.00</td>\n",
              "      <td>603128868013.38</td>\n",
              "      <td>10.33</td>\n",
              "      <td>3.89</td>\n",
              "      <td>1</td>\n",
              "    </tr>\n",
              "    <tr>\n",
              "      <th>China</th>\n",
              "      <td>2010.00</td>\n",
              "      <td>120702748325.10</td>\n",
              "      <td>7.77</td>\n",
              "      <td>1.80</td>\n",
              "      <td>2</td>\n",
              "    </tr>\n",
              "    <tr>\n",
              "      <th>United Kingdom</th>\n",
              "      <td>2010.00</td>\n",
              "      <td>58833376412.29</td>\n",
              "      <td>5.83</td>\n",
              "      <td>2.32</td>\n",
              "      <td>3</td>\n",
              "    </tr>\n",
              "    <tr>\n",
              "      <th>Russian Federation</th>\n",
              "      <td>2010.00</td>\n",
              "      <td>50498560472.71</td>\n",
              "      <td>11.30</td>\n",
              "      <td>3.78</td>\n",
              "      <td>4</td>\n",
              "    </tr>\n",
              "    <tr>\n",
              "      <th>Japan</th>\n",
              "      <td>2010.00</td>\n",
              "      <td>46968274421.62</td>\n",
              "      <td>2.53</td>\n",
              "      <td>0.95</td>\n",
              "      <td>5</td>\n",
              "    </tr>\n",
              "    <tr>\n",
              "      <th>Saudi Arabia</th>\n",
              "      <td>2010.00</td>\n",
              "      <td>46778381727.57</td>\n",
              "      <td>26.77</td>\n",
              "      <td>9.13</td>\n",
              "      <td>6</td>\n",
              "    </tr>\n",
              "    <tr>\n",
              "      <th>France</th>\n",
              "      <td>2010.00</td>\n",
              "      <td>46702860472.52</td>\n",
              "      <td>3.56</td>\n",
              "      <td>1.96</td>\n",
              "      <td>7</td>\n",
              "    </tr>\n",
              "    <tr>\n",
              "      <th>India</th>\n",
              "      <td>2010.00</td>\n",
              "      <td>40551400931.05</td>\n",
              "      <td>9.57</td>\n",
              "      <td>2.69</td>\n",
              "      <td>8</td>\n",
              "    </tr>\n",
              "    <tr>\n",
              "      <th>Germany</th>\n",
              "      <td>2010.00</td>\n",
              "      <td>39712814613.05</td>\n",
              "      <td>2.67</td>\n",
              "      <td>1.23</td>\n",
              "      <td>9</td>\n",
              "    </tr>\n",
              "    <tr>\n",
              "      <th>Korea, Rep.</th>\n",
              "      <td>2010.00</td>\n",
              "      <td>28977983683.86</td>\n",
              "      <td>12.59</td>\n",
              "      <td>2.49</td>\n",
              "      <td>10</td>\n",
              "    </tr>\n",
              "  </tbody>\n",
              "</table>\n",
              "</div>\n",
              "      <button class=\"colab-df-convert\" onclick=\"convertToInteractive('df-8bb8fa0b-4097-4b80-a6dc-f4d146fdcfdc')\"\n",
              "              title=\"Convert this dataframe to an interactive table.\"\n",
              "              style=\"display:none;\">\n",
              "        \n",
              "  <svg xmlns=\"http://www.w3.org/2000/svg\" height=\"24px\"viewBox=\"0 0 24 24\"\n",
              "       width=\"24px\">\n",
              "    <path d=\"M0 0h24v24H0V0z\" fill=\"none\"/>\n",
              "    <path d=\"M18.56 5.44l.94 2.06.94-2.06 2.06-.94-2.06-.94-.94-2.06-.94 2.06-2.06.94zm-11 1L8.5 8.5l.94-2.06 2.06-.94-2.06-.94L8.5 2.5l-.94 2.06-2.06.94zm10 10l.94 2.06.94-2.06 2.06-.94-2.06-.94-.94-2.06-.94 2.06-2.06.94z\"/><path d=\"M17.41 7.96l-1.37-1.37c-.4-.4-.92-.59-1.43-.59-.52 0-1.04.2-1.43.59L10.3 9.45l-7.72 7.72c-.78.78-.78 2.05 0 2.83L4 21.41c.39.39.9.59 1.41.59.51 0 1.02-.2 1.41-.59l7.78-7.78 2.81-2.81c.8-.78.8-2.07 0-2.86zM5.41 20L4 18.59l7.72-7.72 1.47 1.35L5.41 20z\"/>\n",
              "  </svg>\n",
              "      </button>\n",
              "      \n",
              "  <style>\n",
              "    .colab-df-container {\n",
              "      display:flex;\n",
              "      flex-wrap:wrap;\n",
              "      gap: 12px;\n",
              "    }\n",
              "\n",
              "    .colab-df-convert {\n",
              "      background-color: #E8F0FE;\n",
              "      border: none;\n",
              "      border-radius: 50%;\n",
              "      cursor: pointer;\n",
              "      display: none;\n",
              "      fill: #1967D2;\n",
              "      height: 32px;\n",
              "      padding: 0 0 0 0;\n",
              "      width: 32px;\n",
              "    }\n",
              "\n",
              "    .colab-df-convert:hover {\n",
              "      background-color: #E2EBFA;\n",
              "      box-shadow: 0px 1px 2px rgba(60, 64, 67, 0.3), 0px 1px 3px 1px rgba(60, 64, 67, 0.15);\n",
              "      fill: #174EA6;\n",
              "    }\n",
              "\n",
              "    [theme=dark] .colab-df-convert {\n",
              "      background-color: #3B4455;\n",
              "      fill: #D2E3FC;\n",
              "    }\n",
              "\n",
              "    [theme=dark] .colab-df-convert:hover {\n",
              "      background-color: #434B5C;\n",
              "      box-shadow: 0px 1px 3px 1px rgba(0, 0, 0, 0.15);\n",
              "      filter: drop-shadow(0px 1px 2px rgba(0, 0, 0, 0.3));\n",
              "      fill: #FFFFFF;\n",
              "    }\n",
              "  </style>\n",
              "\n",
              "      <script>\n",
              "        const buttonEl =\n",
              "          document.querySelector('#df-8bb8fa0b-4097-4b80-a6dc-f4d146fdcfdc button.colab-df-convert');\n",
              "        buttonEl.style.display =\n",
              "          google.colab.kernel.accessAllowed ? 'block' : 'none';\n",
              "\n",
              "        async function convertToInteractive(key) {\n",
              "          const element = document.querySelector('#df-8bb8fa0b-4097-4b80-a6dc-f4d146fdcfdc');\n",
              "          const dataTable =\n",
              "            await google.colab.kernel.invokeFunction('convertToInteractive',\n",
              "                                                     [key], {});\n",
              "          if (!dataTable) return;\n",
              "\n",
              "          const docLinkHtml = 'Like what you see? Visit the ' +\n",
              "            '<a target=\"_blank\" href=https://colab.research.google.com/notebooks/data_table.ipynb>data table notebook</a>'\n",
              "            + ' to learn more about interactive tables.';\n",
              "          element.innerHTML = '';\n",
              "          dataTable['output_type'] = 'display_data';\n",
              "          await google.colab.output.renderOutput(dataTable, element);\n",
              "          const docLink = document.createElement('div');\n",
              "          docLink.innerHTML = docLinkHtml;\n",
              "          element.appendChild(docLink);\n",
              "        }\n",
              "      </script>\n",
              "    </div>\n",
              "  </div>\n",
              "  "
            ]
          },
          "metadata": {},
          "execution_count": 20
        }
      ]
    },
    {
      "cell_type": "markdown",
      "source": [
        "\n",
        "\n",
        "> 나라별 국방비 랭킹을 그래프로 표현 -> 미국의 국방비 규모는 월등히 크다\n"
      ],
      "metadata": {
        "id": "LPu7xvglbOQS"
      }
    },
    {
      "cell_type": "code",
      "source": [
        "df2 = df2.head(10)\n",
        "fig1, ax1 = plt.subplots()\n",
        "ax1.pie(df2['M_USD'], labels=df2['M_rank'], autopct='%0.1f%%',shadow=True, startangle=90)"
      ],
      "metadata": {
        "colab": {
          "base_uri": "https://localhost:8080/",
          "height": 769
        },
        "id": "KAHgMKSDdGCh",
        "outputId": "3b48a52b-0674-44e4-f59c-a4fb0bc64c77"
      },
      "execution_count": 21,
      "outputs": [
        {
          "output_type": "execute_result",
          "data": {
            "text/plain": [
              "([<matplotlib.patches.Wedge at 0x7f8574995310>,\n",
              "  <matplotlib.patches.Wedge at 0x7f8574995b90>,\n",
              "  <matplotlib.patches.Wedge at 0x7f85728e85d0>,\n",
              "  <matplotlib.patches.Wedge at 0x7f8572aa29d0>,\n",
              "  <matplotlib.patches.Wedge at 0x7f857299a950>,\n",
              "  <matplotlib.patches.Wedge at 0x7f8577c32050>,\n",
              "  <matplotlib.patches.Wedge at 0x7f8577579990>,\n",
              "  <matplotlib.patches.Wedge at 0x7f85775a5d50>,\n",
              "  <matplotlib.patches.Wedge at 0x7f857299a210>,\n",
              "  <matplotlib.patches.Wedge at 0x7f8577c329d0>],\n",
              " [Text(-1.0824228146537862, -0.19585926150421284, '1'),\n",
              "  Text(0.7155152520044405, -0.835486639120592, '2'),\n",
              "  Text(1.0363965353368931, -0.36862205786100793, '3'),\n",
              "  Text(1.099669127573503, -0.026977951399810525, '4'),\n",
              "  Text(1.0635238901288129, 0.28092158180758714, '5'),\n",
              "  Text(0.9489637459173728, 0.5562983093039815, '6'),\n",
              "  Text(0.7652466964223057, 0.7901882646652933, '7'),\n",
              "  Text(0.5429571248661127, 0.9566595844693788, '8'),\n",
              "  Text(0.30753925190032105, 1.0561342758099423, '9'),\n",
              "  Text(0.09236948850310941, 1.0961149016383611, '10')],\n",
              " [Text(-0.5904124443566106, -0.10683232445684336, '55.7%'),\n",
              "  Text(0.3902810465478766, -0.45571998497486826, '11.1%'),\n",
              "  Text(0.5653072010928507, -0.2010665770150952, '5.4%'),\n",
              "  Text(0.5998195241310017, -0.014715246218078466, '4.7%'),\n",
              "  Text(0.5801039400702614, 0.1532299537132293, '4.3%'),\n",
              "  Text(0.5176165886822033, 0.3034354414385353, '4.3%'),\n",
              "  Text(0.41740728895762125, 0.4310117807265236, '4.3%'),\n",
              "  Text(0.2961584317451524, 0.5218143188014793, '3.7%'),\n",
              "  Text(0.16774868285472055, 0.5760732413508776, '3.7%'),\n",
              "  Text(0.0503833573653324, 0.5978808554391061, '2.7%')])"
            ]
          },
          "metadata": {},
          "execution_count": 21
        },
        {
          "output_type": "display_data",
          "data": {
            "text/plain": [
              "<Figure size 432x288 with 1 Axes>"
            ],
            "image/png": "[encoded data removed]"
          },
          "metadata": {}
        }
      ]
    },
    {
      "cell_type": "markdown",
      "source": [
        "\n",
        "\n",
        "---\n",
        "\n",
        "# 머신러닝 방식 적용 및 교차검증\n",
        "\n",
        "\n",
        "---\n",
        "\n",
        "\n"
      ],
      "metadata": {
        "id": "5uBXDXjHblgi"
      }
    },
    {
      "cell_type": "markdown",
      "source": [
        "# 1)선형회귀\n",
        "\n",
        "\n",
        "\n"
      ],
      "metadata": {
        "id": "CxXr9D1lb4Xt"
      }
    },
    {
      "cell_type": "markdown",
      "source": [
        "\n",
        "> M_of_gov와 M_USD 선형회귀\n",
        "\n"
      ],
      "metadata": {
        "id": "v91GVwGM-bSZ"
      }
    },
    {
      "cell_type": "code",
      "source": [
        "target = ['M_USD']\n",
        "features_gov = ['M_of_gov']\n",
        "train, test = train_test_split(df1, test_size=0.2, random_state=2)\n",
        "print(train.shape, test.shape)"
      ],
      "metadata": {
        "colab": {
          "base_uri": "https://localhost:8080/"
        },
        "id": "hiZLcpdKuRsJ",
        "outputId": "decbd12d-2418-4258-86c9-ab88ce4c87f5"
      },
      "execution_count": 22,
      "outputs": [
        {
          "output_type": "stream",
          "name": "stdout",
          "text": [
            "(3628, 8) (908, 8)\n"
          ]
        }
      ]
    },
    {
      "cell_type": "code",
      "source": [
        "#예측모델 인스턴스 생성\n",
        "model1 = LinearRegression()\n",
        "\n",
        "#X 특성의 테이블과 y 타겟 벡터 만들기\n",
        "X_train_gov=train[features_gov]\n",
        "y_train_gov=train[target]\n",
        "X_test_gov=test[features_gov]\n",
        "y_test_gov=test[target]"
      ],
      "metadata": {
        "id": "N0V_Ix5Qzl4P"
      },
      "execution_count": 23,
      "outputs": []
    },
    {
      "cell_type": "code",
      "source": [
        "#모델 학습: fit()메소드 사용해 모델 학습\n",
        "model1.fit(X_train_gov,y_train_gov)\n",
        "y_pred_gov = model1.predict(X_train_gov)\n",
        "\n",
        "from sklearn.metrics import mean_squared_error, r2_score, mean_absolute_error, mean_squared_log_error\n",
        "MAE=mean_absolute_error(y_train_gov, y_pred_gov)\n",
        "MSE=mean_squared_error(y_train_gov,y_pred_gov)\n",
        "RMSE=np.sqrt(MSE)\n",
        "R2= r2_score(y_train_gov, y_pred_gov)\n",
        "print(\"MAE :\",MAE,\"MSE :\", MSE,\"RMSE :\", RMSE,\"R^2 :\",R2)"
      ],
      "metadata": {
        "colab": {
          "base_uri": "https://localhost:8080/"
        },
        "id": "salx4x8J2D0k",
        "outputId": "e7ec8413-6ca4-457f-fa95-3c241e5483d5"
      },
      "execution_count": 37,
      "outputs": [
        {
          "output_type": "stream",
          "name": "stdout",
          "text": [
            "MAE : 10402899102.431288 MSE : 2.0372328443144765e+21 RMSE : 45135715839.171936 R^2 : 0.012574960107511912\n"
          ]
        }
      ]
    },
    {
      "cell_type": "code",
      "source": [
        "#결정계수 R²의 최댓값은 1이며 이 수치가 클수록 실제값과 예측값이 유사함을 의미\n",
        "#모델링한 다중회귀모델은 약 0.012의 결정계수를 가지며 이는 독립변수들이 종속변수에 미치는 영향이 1.2%로, 독립변수들이 국방비 수치 변동의 1.2%를 설명할 수 있다는 뜻!"
      ],
      "metadata": {
        "id": "FolQEjJF2-0V"
      },
      "execution_count": null,
      "outputs": []
    },
    {
      "cell_type": "markdown",
      "source": [
        "\n",
        "\n",
        "> M_of_gov와 M_USD 회귀계수\n",
        "\n"
      ],
      "metadata": {
        "id": "DTTsZOj6cXia"
      }
    },
    {
      "cell_type": "code",
      "source": [
        "model1.coef_"
      ],
      "metadata": {
        "colab": {
          "base_uri": "https://localhost:8080/"
        },
        "id": "vCrY3jOl8ZZY",
        "outputId": "8e44dba5-3ac1-4d97-fbee-b8049a1adacc"
      },
      "execution_count": 25,
      "outputs": [
        {
          "output_type": "execute_result",
          "data": {
            "text/plain": [
              "array([[8.94767221e+08]])"
            ]
          },
          "metadata": {},
          "execution_count": 25
        }
      ]
    },
    {
      "cell_type": "code",
      "source": [
        "model1.intercept_"
      ],
      "metadata": {
        "colab": {
          "base_uri": "https://localhost:8080/"
        },
        "id": "Zo_lEjXs8d1g",
        "outputId": "3d24ac24-abe0-4d0c-d6df-84a9862d4501"
      },
      "execution_count": 26,
      "outputs": [
        {
          "output_type": "execute_result",
          "data": {
            "text/plain": [
              "array([2.58566882e+09])"
            ]
          },
          "metadata": {},
          "execution_count": 26
        }
      ]
    },
    {
      "cell_type": "markdown",
      "source": [
        "\n",
        "> M_of_GDP와 M_USD 선형회귀\n",
        "\n",
        "\n"
      ],
      "metadata": {
        "id": "xUa4u_TW9KMi"
      }
    },
    {
      "cell_type": "code",
      "source": [
        "target = ['M_USD']\n",
        "features_GDP = ['M_of_GDP']\n",
        "train, test = train_test_split(df1, test_size=0.2, random_state=2)\n",
        "print(train.shape, test.shape)"
      ],
      "metadata": {
        "colab": {
          "base_uri": "https://localhost:8080/"
        },
        "id": "b_1CZDuI3hbv",
        "outputId": "13e37d63-22c1-4ef0-9ff8-3678ece0ff77"
      },
      "execution_count": 27,
      "outputs": [
        {
          "output_type": "stream",
          "name": "stdout",
          "text": [
            "(3628, 8) (908, 8)\n"
          ]
        }
      ]
    },
    {
      "cell_type": "code",
      "source": [
        "model2 = LinearRegression()\n",
        "\n",
        "X_train_GDP=train[features_GDP]\n",
        "y_train_GDP=train[target]\n",
        "X_test_GDP=test[features_GDP]\n",
        "y_test_GDP=test[target]"
      ],
      "metadata": {
        "id": "hxQg-l6_4da8"
      },
      "execution_count": 28,
      "outputs": []
    },
    {
      "cell_type": "code",
      "source": [
        "#모델 학습: fit()메소드 사용해 모델 학습\n",
        "model2.fit(X_train_GDP ,y_train_GDP )\n",
        "y_pred_GDP  = model2.predict(X_train_GDP )\n",
        "\n",
        "from sklearn.metrics import mean_squared_error, r2_score, mean_absolute_error, mean_squared_log_error\n",
        "MAE=mean_absolute_error(y_train_GDP, y_pred_GDP)\n",
        "MSE=mean_squared_error(y_train_GDP,y_pred_GDP)\n",
        "RMSE=np.sqrt(MSE)\n",
        "R2= r2_score(y_train_GDP, y_pred_GDP)\n",
        "print(\"MAE :\",MAE,\"MSE :\", MSE,\"RMSE :\", RMSE,\"R^2 :\",R2)"
      ],
      "metadata": {
        "colab": {
          "base_uri": "https://localhost:8080/"
        },
        "id": "WBHl01wh4IU_",
        "outputId": "24d24a50-369d-4d6e-d175-0fc12919ea7c"
      },
      "execution_count": 38,
      "outputs": [
        {
          "output_type": "stream",
          "name": "stdout",
          "text": [
            "MAE : 10053753953.484344 MSE : 2.011240980791102e+21 RMSE : 44846861437.46407 R^2 : 0.02517293924773356\n"
          ]
        }
      ]
    },
    {
      "cell_type": "code",
      "source": [
        "#결정계수 R²의 최댓값은 1이며 이 수치가 클수록 실제값과 예측값이 유사함을 의미\n",
        "#모델링한 다중회귀모델은 약 0.025의 결정계수를 가지며 이는 독립변수들이 종속변수에 미치는 영향이 2.5%로, 독립변수들이 국방비 수치 변동의 2.5%를 설명할 수 있다는 뜻!"
      ],
      "metadata": {
        "id": "boMM4WZ043tt"
      },
      "execution_count": null,
      "outputs": []
    },
    {
      "cell_type": "markdown",
      "source": [
        "> M_of_GDP와 M_USD 회귀계수"
      ],
      "metadata": {
        "id": "jIlL1N9QckQP"
      }
    },
    {
      "cell_type": "code",
      "source": [
        "model2.coef_"
      ],
      "metadata": {
        "colab": {
          "base_uri": "https://localhost:8080/"
        },
        "id": "E_4xAAy28gGj",
        "outputId": "a3a443ab-a76f-4aed-a422-967165dc6440"
      },
      "execution_count": 30,
      "outputs": [
        {
          "output_type": "execute_result",
          "data": {
            "text/plain": [
              "array([[4.17972147e+09]])"
            ]
          },
          "metadata": {},
          "execution_count": 30
        }
      ]
    },
    {
      "cell_type": "code",
      "source": [
        "model2.intercept_"
      ],
      "metadata": {
        "colab": {
          "base_uri": "https://localhost:8080/"
        },
        "id": "UKtFt5qN88Cm",
        "outputId": "584a2639-2567-4324-cf08-b7e97eb5b760"
      },
      "execution_count": 31,
      "outputs": [
        {
          "output_type": "execute_result",
          "data": {
            "text/plain": [
              "array([1.1033525e+09])"
            ]
          },
          "metadata": {},
          "execution_count": 31
        }
      ]
    },
    {
      "cell_type": "markdown",
      "source": [
        "# 2)다중선형회귀\n",
        "\n",
        "\n",
        "\n"
      ],
      "metadata": {
        "id": "fVU8ZuGPpqkD"
      }
    },
    {
      "cell_type": "code",
      "source": [
        "from sklearn.linear_model import LinearRegression\n",
        "\n",
        "target = 'M_USD'\n",
        "features = ['M_of_gov','M_of_GDP']\n",
        "train, test = train_test_split(df1, test_size=0.2, random_state=2)\n",
        "print(train.shape, test.shape)"
      ],
      "metadata": {
        "colab": {
          "base_uri": "https://localhost:8080/"
        },
        "id": "XPJZYDRSdr4h",
        "outputId": "199d4d48-a768-467e-b959-d5e458688bea"
      },
      "execution_count": 32,
      "outputs": [
        {
          "output_type": "stream",
          "name": "stdout",
          "text": [
            "(3628, 8) (908, 8)\n"
          ]
        }
      ]
    },
    {
      "cell_type": "code",
      "source": [
        "X_train=train[features]\n",
        "y_train=train[target]\n",
        "X_test=test[features]\n",
        "y_test=test[target] "
      ],
      "metadata": {
        "id": "XDKsuegidyWq"
      },
      "execution_count": 33,
      "outputs": []
    },
    {
      "cell_type": "code",
      "source": [
        "from category_encoders import TargetEncoder\n",
        "\n",
        "linear = make_pipeline(\n",
        "    TargetEncoder(),  \n",
        "    LinearRegression()\n",
        ")\n",
        "\n",
        "linear.fit(X_train, y_train)\n",
        "print('R^2', linear.score(X_train, y_train))"
      ],
      "metadata": {
        "colab": {
          "base_uri": "https://localhost:8080/"
        },
        "id": "S1i3cAvrdQHR",
        "outputId": "47102ca8-db16-478b-ab20-ee9932b376ea"
      },
      "execution_count": 34,
      "outputs": [
        {
          "output_type": "stream",
          "name": "stdout",
          "text": [
            "Warning: No categorical columns found. Calling 'transform' will only return input data.\n",
            "R^2 0.025941858164886034\n"
          ]
        }
      ]
    },
    {
      "cell_type": "markdown",
      "source": [
        "\n",
        "\n",
        "> 다중선형회귀의 회귀계수\n",
        "\n"
      ],
      "metadata": {
        "id": "J_ojFLAlcv8X"
      }
    },
    {
      "cell_type": "code",
      "source": [
        "# 회귀계수\n",
        "coefficients = linear.named_steps['linearregression'].coef_\n",
        "pd.Series(coefficients, features)"
      ],
      "metadata": {
        "colab": {
          "base_uri": "https://localhost:8080/"
        },
        "id": "nOY0etEleCM0",
        "outputId": "42098082-7ee0-4ae2-9114-fed82d94e24a"
      },
      "execution_count": 35,
      "outputs": [
        {
          "output_type": "execute_result",
          "data": {
            "text/plain": [
              "M_of_gov   -376777259.20\n",
              "M_of_GDP   5186607072.37\n",
              "dtype: float64"
            ]
          },
          "metadata": {},
          "execution_count": 35
        }
      ]
    },
    {
      "cell_type": "code",
      "source": [
        "import matplotlib.pyplot as plt\n",
        "import numpy as np\n",
        "from matplotlib import style\n",
        "\n",
        "style.use('seaborn-talk')\n",
        "fig = plt.figure()\n",
        "\n",
        "ax = fig.gca(projection='3d')\n",
        "\n",
        "ax.scatter(train['M_USD'], train['M_of_gov'], train['M_of_GDP'])\n",
        "ax.set_xlabel('M_USD', labelpad=20)\n",
        "ax.set_ylabel('M_of_gov', labelpad=20)\n",
        "ax.set_zlabel('M_of_GDP', labelpad=20)\n",
        "\n",
        "plt.suptitle('Military_Expenditure', fontsize=15)\n",
        "plt.show()\n"
      ],
      "metadata": {
        "colab": {
          "base_uri": "https://localhost:8080/",
          "height": 471
        },
        "id": "cIRsjac7Ksu1",
        "outputId": "de720475-5f78-4482-d063-22f7b5df8f4f"
      },
      "execution_count": 119,
      "outputs": [
        {
          "output_type": "display_data",
          "data": {
            "text/plain": [
              "<Figure size 748.8x514.8 with 1 Axes>"
            ],
            "image/png": "[encoded data removed]"
          },
          "metadata": {}
        }
      ]
    },
    {
      "cell_type": "code",
      "source": [
        "linear = LinearRegression()\n",
        "linear.fit(X_train, y_train)\n",
        "print('R2: ', linear.score(X_train, y_train))\n",
        "print('Intercept: ', linear.intercept_[0])\n",
        "print('Coefficients')\n",
        "pd.DataFrame(columns=cols[:2], data=linear.coef_)"
      ],
      "metadata": {
        "colab": {
          "base_uri": "https://localhost:8080/",
          "height": 133
        },
        "id": "uPV9msVlu5N6",
        "outputId": "eb963baf-9231-4ee0-8a0f-48d5f0e6a4bd"
      },
      "execution_count": 120,
      "outputs": [
        {
          "output_type": "stream",
          "name": "stdout",
          "text": [
            "R2:  0.025941858164886034\n",
            "Intercept:  1515915095.4151993\n",
            "Coefficients\n"
          ]
        },
        {
          "output_type": "execute_result",
          "data": {
            "text/plain": [
              "          M_USD      M_of_gov\n",
              "0 -376777259.20 5186607072.37"
            ],
            "text/html": [
              "\n",
              "  <div id=\"df-6787a21d-86f9-4ba7-84e5-c89525620105\">\n",
              "    <div class=\"colab-df-container\">\n",
              "      <div>\n",
              "<style scoped>\n",
              "    .dataframe tbody tr th:only-of-type {\n",
              "        vertical-align: middle;\n",
              "    }\n",
              "\n",
              "    .dataframe tbody tr th {\n",
              "        vertical-align: top;\n",
              "    }\n",
              "\n",
              "    .dataframe thead th {\n",
              "        text-align: right;\n",
              "    }\n",
              "</style>\n",
              "<table border=\"1\" class=\"dataframe\">\n",
              "  <thead>\n",
              "    <tr style=\"text-align: right;\">\n",
              "      <th></th>\n",
              "      <th>M_USD</th>\n",
              "      <th>M_of_gov</th>\n",
              "    </tr>\n",
              "  </thead>\n",
              "  <tbody>\n",
              "    <tr>\n",
              "      <th>0</th>\n",
              "      <td>-376777259.20</td>\n",
              "      <td>5186607072.37</td>\n",
              "    </tr>\n",
              "  </tbody>\n",
              "</table>\n",
              "</div>\n",
              "      <button class=\"colab-df-convert\" onclick=\"convertToInteractive('df-6787a21d-86f9-4ba7-84e5-c89525620105')\"\n",
              "              title=\"Convert this dataframe to an interactive table.\"\n",
              "              style=\"display:none;\">\n",
              "        \n",
              "  <svg xmlns=\"http://www.w3.org/2000/svg\" height=\"24px\"viewBox=\"0 0 24 24\"\n",
              "       width=\"24px\">\n",
              "    <path d=\"M0 0h24v24H0V0z\" fill=\"none\"/>\n",
              "    <path d=\"M18.56 5.44l.94 2.06.94-2.06 2.06-.94-2.06-.94-.94-2.06-.94 2.06-2.06.94zm-11 1L8.5 8.5l.94-2.06 2.06-.94-2.06-.94L8.5 2.5l-.94 2.06-2.06.94zm10 10l.94 2.06.94-2.06 2.06-.94-2.06-.94-.94-2.06-.94 2.06-2.06.94z\"/><path d=\"M17.41 7.96l-1.37-1.37c-.4-.4-.92-.59-1.43-.59-.52 0-1.04.2-1.43.59L10.3 9.45l-7.72 7.72c-.78.78-.78 2.05 0 2.83L4 21.41c.39.39.9.59 1.41.59.51 0 1.02-.2 1.41-.59l7.78-7.78 2.81-2.81c.8-.78.8-2.07 0-2.86zM5.41 20L4 18.59l7.72-7.72 1.47 1.35L5.41 20z\"/>\n",
              "  </svg>\n",
              "      </button>\n",
              "      \n",
              "  <style>\n",
              "    .colab-df-container {\n",
              "      display:flex;\n",
              "      flex-wrap:wrap;\n",
              "      gap: 12px;\n",
              "    }\n",
              "\n",
              "    .colab-df-convert {\n",
              "      background-color: #E8F0FE;\n",
              "      border: none;\n",
              "      border-radius: 50%;\n",
              "      cursor: pointer;\n",
              "      display: none;\n",
              "      fill: #1967D2;\n",
              "      height: 32px;\n",
              "      padding: 0 0 0 0;\n",
              "      width: 32px;\n",
              "    }\n",
              "\n",
              "    .colab-df-convert:hover {\n",
              "      background-color: #E2EBFA;\n",
              "      box-shadow: 0px 1px 2px rgba(60, 64, 67, 0.3), 0px 1px 3px 1px rgba(60, 64, 67, 0.15);\n",
              "      fill: #174EA6;\n",
              "    }\n",
              "\n",
              "    [theme=dark] .colab-df-convert {\n",
              "      background-color: #3B4455;\n",
              "      fill: #D2E3FC;\n",
              "    }\n",
              "\n",
              "    [theme=dark] .colab-df-convert:hover {\n",
              "      background-color: #434B5C;\n",
              "      box-shadow: 0px 1px 3px 1px rgba(0, 0, 0, 0.15);\n",
              "      filter: drop-shadow(0px 1px 2px rgba(0, 0, 0, 0.3));\n",
              "      fill: #FFFFFF;\n",
              "    }\n",
              "  </style>\n",
              "\n",
              "      <script>\n",
              "        const buttonEl =\n",
              "          document.querySelector('#df-6787a21d-86f9-4ba7-84e5-c89525620105 button.colab-df-convert');\n",
              "        buttonEl.style.display =\n",
              "          google.colab.kernel.accessAllowed ? 'block' : 'none';\n",
              "\n",
              "        async function convertToInteractive(key) {\n",
              "          const element = document.querySelector('#df-6787a21d-86f9-4ba7-84e5-c89525620105');\n",
              "          const dataTable =\n",
              "            await google.colab.kernel.invokeFunction('convertToInteractive',\n",
              "                                                     [key], {});\n",
              "          if (!dataTable) return;\n",
              "\n",
              "          const docLinkHtml = 'Like what you see? Visit the ' +\n",
              "            '<a target=\"_blank\" href=https://colab.research.google.com/notebooks/data_table.ipynb>data table notebook</a>'\n",
              "            + ' to learn more about interactive tables.';\n",
              "          element.innerHTML = '';\n",
              "          dataTable['output_type'] = 'display_data';\n",
              "          await google.colab.output.renderOutput(dataTable, element);\n",
              "          const docLink = document.createElement('div');\n",
              "          docLink.innerHTML = docLinkHtml;\n",
              "          element.appendChild(docLink);\n",
              "        }\n",
              "      </script>\n",
              "    </div>\n",
              "  </div>\n",
              "  "
            ]
          },
          "metadata": {},
          "execution_count": 120
        }
      ]
    },
    {
      "cell_type": "markdown",
      "source": [
        "#3) 결정트리\n",
        "\n"
      ],
      "metadata": {
        "id": "V9_zXmXAQ-tT"
      }
    },
    {
      "cell_type": "code",
      "source": [
        "from ipywidgets import interact\n",
        "from sklearn.tree import DecisionTreeRegressor, export_graphviz\n",
        "\n",
        "\n",
        "target = ['M_USD']\n",
        "features = ['M_of_gov','M_of_GDP']\n",
        "train, test = train_test_split(df1, test_size=0.2, random_state=2)\n",
        "print(train.shape, test.shape)"
      ],
      "metadata": {
        "colab": {
          "base_uri": "https://localhost:8080/"
        },
        "id": "6v2ZMutVQyW_",
        "outputId": "3251bfc3-977b-45be-c589-b99b2a2d4372"
      },
      "execution_count": 59,
      "outputs": [
        {
          "output_type": "stream",
          "name": "stdout",
          "text": [
            "(3628, 8) (908, 8)\n"
          ]
        }
      ]
    },
    {
      "cell_type": "code",
      "source": [
        "X_train=train[features]\n",
        "y_train=train[target]\n",
        "X_test=test[features]\n",
        "y_test=test[target]"
      ],
      "metadata": {
        "id": "rs2PqwjaRpUz"
      },
      "execution_count": 78,
      "outputs": []
    },
    {
      "cell_type": "code",
      "source": [
        "from sklearn.tree import DecisionTreeRegressor\n",
        "pipe = make_pipeline(DecisionTreeRegressor(min_samples_leaf=54, random_state=10))\n",
        "pipe.fit(X_train, y_train)\n",
        "print('훈련 정확도: ', pipe.score(X_train, y_train))\n",
        "print('테스트 정확도: ', pipe.score(X_test, y_test))"
      ],
      "metadata": {
        "colab": {
          "base_uri": "https://localhost:8080/"
        },
        "id": "jwSCwEskl8V2",
        "outputId": "4ed9d391-ad97-4846-ca1e-04f6b5f24ea3"
      },
      "execution_count": 150,
      "outputs": [
        {
          "output_type": "stream",
          "name": "stdout",
          "text": [
            "훈련 정확도:  0.14580786547071256\n",
            "테스트 정확도:  0.11429540876904143\n"
          ]
        }
      ]
    },
    {
      "cell_type": "markdown",
      "source": [
        "\n",
        "\n",
        "> 특성중요도\n"
      ],
      "metadata": {
        "id": "0M8LKABdc_So"
      }
    },
    {
      "cell_type": "code",
      "source": [
        "#특성중요도\n",
        "model_dt = pipe.named_steps['decisiontreeregressor']\n",
        "encoded_columns = X_train.columns\n",
        "\n",
        "#model_dt.feature_importances_ :변수별 중요도 추출\n",
        "importances = pd.Series(model_dt.feature_importances_,encoded_columns)# 변수별 중요도 추출하여서\n",
        "\n",
        "plt.figure(figsize=(5,5))\n",
        "importances.sort_values().plot.barh();"
      ],
      "metadata": {
        "colab": {
          "base_uri": "https://localhost:8080/",
          "height": 331
        },
        "id": "aP659cIET_94",
        "outputId": "c25a746c-8fdd-4487-aaa4-998171dcc873"
      },
      "execution_count": 115,
      "outputs": [
        {
          "output_type": "display_data",
          "data": {
            "text/plain": [
              "<Figure size 360x360 with 1 Axes>"
            ],
            "image/png": "[encoded data removed]"
          },
          "metadata": {}
        }
      ]
    },
    {
      "cell_type": "markdown",
      "source": [
        "#4) 랜덤포레스트"
      ],
      "metadata": {
        "id": "d6Q-E35Nr6lL"
      }
    },
    {
      "cell_type": "code",
      "source": [
        "target = ['M_USD']\n",
        "features = ['M_of_gov','M_of_GDP']\n",
        "train, test = train_test_split(df1, test_size=0.2, random_state=2)\n",
        "print(train.shape, test.shape)"
      ],
      "metadata": {
        "colab": {
          "base_uri": "https://localhost:8080/"
        },
        "id": "N2bJfQzTsqzH",
        "outputId": "4e899b24-a6a9-4792-e2c4-681079da4960"
      },
      "execution_count": 162,
      "outputs": [
        {
          "output_type": "stream",
          "name": "stdout",
          "text": [
            "(3628, 8) (908, 8)\n"
          ]
        }
      ]
    },
    {
      "cell_type": "code",
      "source": [
        "X_train=train[features]\n",
        "y_train=train[target]\n",
        "X_test=test[features]\n",
        "y_test=test[target]"
      ],
      "metadata": {
        "id": "NMAK3f6Dsrjs"
      },
      "execution_count": 163,
      "outputs": []
    },
    {
      "cell_type": "code",
      "source": [
        "from sklearn.ensemble import RandomForestRegressor\n",
        "\n",
        "pipe = make_pipeline(RandomForestRegressor(min_samples_leaf=54, random_state=10))\n",
        "pipe.fit(X_train, y_train)\n",
        "print('훈련 정확도: ', pipe.score(X_train, y_train))\n",
        "print('테스트 정확도: ', pipe.score(X_test, y_test))"
      ],
      "metadata": {
        "colab": {
          "base_uri": "https://localhost:8080/"
        },
        "id": "_ve4kOifr58N",
        "outputId": "71f6be33-4d60-4501-da63-884e8d439519"
      },
      "execution_count": 169,
      "outputs": [
        {
          "output_type": "stream",
          "name": "stderr",
          "text": [
            "/usr/local/lib/python3.7/dist-packages/sklearn/pipeline.py:394: DataConversionWarning: A column-vector y was passed when a 1d array was expected. Please change the shape of y to (n_samples,), for example using ravel().\n",
            "  self._final_estimator.fit(Xt, y, **fit_params_last_step)\n"
          ]
        },
        {
          "output_type": "stream",
          "name": "stdout",
          "text": [
            "훈련 정확도:  0.12921626223184268\n",
            "테스트 정확도:  0.10846905311647859\n"
          ]
        }
      ]
    },
    {
      "cell_type": "markdown",
      "source": [
        "#5) 하이퍼파라미터 튜닝"
      ],
      "metadata": {
        "id": "jWKzwy9A_XM0"
      }
    },
    {
      "cell_type": "markdown",
      "source": [
        "\n",
        "\n",
        "> GridSearchCV 학습\n",
        "\n"
      ],
      "metadata": {
        "id": "57e__hF0dlbi"
      }
    },
    {
      "cell_type": "code",
      "source": [
        "target = ['M_USD']\n",
        "features = ['M_of_gov','M_of_GDP']\n",
        "\n",
        "X_train = train[features]\n",
        "y_train = train[target]\n",
        "\n",
        "X_test = test[features]\n",
        "y_test = test[target]"
      ],
      "metadata": {
        "id": "ycOs9_3kC8s0"
      },
      "execution_count": 47,
      "outputs": []
    },
    {
      "cell_type": "code",
      "source": [
        "from sklearn.metrics import accuracy_score\n",
        "from sklearn.model_selection import GridSearchCV\n",
        "\n",
        "# GridSearchCV의 param_grid 설정\n",
        "params = {\n",
        "    'max_depth': [2, 3],\n",
        "    'min_samples_split': [2, 3]\n",
        "}\n",
        "\n",
        "dtc = DecisionTreeRegressor()\n",
        "\n",
        "grid_tree = GridSearchCV(dtc, param_grid=params, cv=3, refit=True)\n",
        "grid_tree.fit(X_train, y_train)\n",
        "\n",
        "print('best parameters : ', grid_tree.best_params_)\n",
        "print('best score : ', grid_tree.best_score_)\n",
        "em = grid_tree.best_estimator_\n",
        "pred = em.predict(X_test)\n",
        "r2_score(y_test, pred)"
      ],
      "metadata": {
        "colab": {
          "base_uri": "https://localhost:8080/"
        },
        "id": "RCNSbQGuhbYd",
        "outputId": "455ffe30-051d-47c9-d1ae-d2c1cab97f33"
      },
      "execution_count": 179,
      "outputs": [
        {
          "output_type": "stream",
          "name": "stdout",
          "text": [
            "best parameters :  {'max_depth': 2, 'min_samples_split': 2}\n",
            "best score :  0.08035633219499612\n"
          ]
        },
        {
          "output_type": "execute_result",
          "data": {
            "text/plain": [
              "0.08448189345053425"
            ]
          },
          "metadata": {},
          "execution_count": 179
        }
      ]
    },
    {
      "cell_type": "markdown",
      "source": [
        "\n",
        "\n",
        "> XGBRegressor 학습\n",
        "\n"
      ],
      "metadata": {
        "id": "zX_FpKF6eMaE"
      }
    },
    {
      "cell_type": "code",
      "source": [
        "from xgboost import XGBRegressor\n",
        "boosting = XGBRegressor(objective='reg:squarederror',n_estimators=50, learning_rate=0.2, max_depth=3)\n",
        "boosting.fit(X_train, y_train)\n",
        "print(boosting.score(X_train,y_train))"
      ],
      "metadata": {
        "colab": {
          "base_uri": "https://localhost:8080/"
        },
        "id": "COaqQnfve9p4",
        "outputId": "5e59fcac-5663-42d9-f3a2-f542f2be2f85"
      },
      "execution_count": 176,
      "outputs": [
        {
          "output_type": "stream",
          "name": "stdout",
          "text": [
            "0.7528888467621526\n"
          ]
        }
      ]
    },
    {
      "cell_type": "code",
      "source": [
        "#하이퍼파라미터 튜닝\n",
        "from sklearn.model_selection import GridSearchCV\n",
        "def hyperParameterTuning(X_train, y_train):\n",
        "    param_tuning = {\n",
        "        'learning_rate': [0.01, 0.1],\n",
        "        'max_depth': [3, 5, 7],\n",
        "        'colsample_bytree': [0.5, 0.7],\n",
        "        'n_estimators' : [50, 100, 200],\n",
        "        'objective': ['reg:squarederror']\n",
        "    }\n",
        "\n",
        "    xgb_model = XGBRegressor()\n",
        "\n",
        "    gsearch = GridSearchCV(estimator = xgb_model,\n",
        "                           param_grid = param_tuning,                        \n",
        "                           scoring = 'neg_mean_absolute_error', #MAE\n",
        "                           #scoring = 'neg_mean_squared_error',  #MSE\n",
        "                           cv = 5,\n",
        "                           n_jobs = -1,\n",
        "                           verbose = 1)\n",
        "\n",
        "    gsearch.fit(X_train,y_train)\n",
        "\n",
        "    return gsearch.best_params_\n",
        "  \n",
        "hyperParameterTuning(X_train, y_train)"
      ],
      "metadata": {
        "colab": {
          "base_uri": "https://localhost:8080/"
        },
        "id": "reVLw54Lfn5d",
        "outputId": "32aa1338-dcd1-4849-e387-14f39f1855ab"
      },
      "execution_count": 177,
      "outputs": [
        {
          "output_type": "stream",
          "name": "stdout",
          "text": [
            "Fitting 5 folds for each of 36 candidates, totalling 180 fits\n"
          ]
        },
        {
          "output_type": "execute_result",
          "data": {
            "text/plain": [
              "{'colsample_bytree': 0.5,\n",
              " 'learning_rate': 0.01,\n",
              " 'max_depth': 7,\n",
              " 'n_estimators': 50,\n",
              " 'objective': 'reg:squarederror'}"
            ]
          },
          "metadata": {},
          "execution_count": 177
        }
      ]
    },
    {
      "cell_type": "code",
      "source": [
        "#하이퍼파라미터 튜닝 후 모델\n",
        "from xgboost import XGBRegressor\n",
        "boosting = XGBRegressor(\n",
        "    objective='reg:squarederror',\n",
        "    n_estimators=200, \n",
        "    learning_rate=0.1, \n",
        "    max_depth=7,\n",
        "    colsample_bytree=0.7)\n",
        "boosting.fit(X_train, y_train)\n",
        "print(boosting.score(X_train,y_train))"
      ],
      "metadata": {
        "colab": {
          "base_uri": "https://localhost:8080/"
        },
        "id": "BhDAeFFagJiu",
        "outputId": "df0a3f9e-3c09-42a6-cf8a-07b4a5d956e7"
      },
      "execution_count": 180,
      "outputs": [
        {
          "output_type": "stream",
          "name": "stdout",
          "text": [
            "0.9822928299494501\n"
          ]
        }
      ]
    },
    {
      "cell_type": "code",
      "source": [
        "#테스트 테이터 스코어\n",
        "y_pred = boosting.predict(X_test)\n",
        "MAE=mean_absolute_error(y_test, y_pred)\n",
        "MSE=mean_squared_error(y_test, y_pred)\n",
        "RMSE=np.sqrt(MSE)\n",
        "R2= r2_score(y_test, y_pred)\n",
        "print(MAE, MSE, RMSE, R2)"
      ],
      "metadata": {
        "colab": {
          "base_uri": "https://localhost:8080/"
        },
        "id": "9vbjIF6XgLrv",
        "outputId": "dc1eeb06-b179-4e82-d54c-57c1424fd3a7"
      },
      "execution_count": 181,
      "outputs": [
        {
          "output_type": "stream",
          "name": "stdout",
          "text": [
            "11511621855.084803 3.17779356358649e+21 56371921765.95091 -1.3116378337319663\n"
          ]
        }
      ]
    },
    {
      "cell_type": "markdown",
      "source": [
        "\n",
        "\n",
        "> 실제값과 예측값를 그래프로 표현\n",
        "\n"
      ],
      "metadata": {
        "id": "dHc9pcBieTYi"
      }
    },
    {
      "cell_type": "code",
      "source": [
        "#시각화 \n",
        "x_ax = range(len(y_test))\n",
        "plt.plot(x_ax, y_test, label=\"original\",color='Green')\n",
        "plt.plot(x_ax, y_pred, label=\"predicted\",color='red')\n",
        "plt.legend()\n",
        "plt.show()"
      ],
      "metadata": {
        "colab": {
          "base_uri": "https://localhost:8080/",
          "height": 461
        },
        "id": "Xneq_XuQs0T6",
        "outputId": "c94a6f4c-aeee-4f1d-f67f-f912892688da"
      },
      "execution_count": 182,
      "outputs": [
        {
          "output_type": "display_data",
          "data": {
            "text/plain": [
              "<Figure size 748.8x514.8 with 1 Axes>"
            ],
            "image/png": "[encoded data removed]"
          },
          "metadata": {}
        }
      ]
    },
    {
      "cell_type": "markdown",
      "source": [
        "#6) 머신러닝 모델 해석"
      ],
      "metadata": {
        "id": "C13O3acmbs-h"
      }
    },
    {
      "cell_type": "markdown",
      "source": [
        "\n",
        "\n",
        "> PDP\n",
        "\n"
      ],
      "metadata": {
        "id": "Fx8ah5W_enKH"
      }
    },
    {
      "cell_type": "code",
      "source": [
        "#주요 특성에 대한 PDP plots 그리기\n",
        "from pdpbox.pdp import pdp_isolate, pdp_plot\n",
        "for i in ['M_of_gov','M_of_GDP']:\n",
        "    feature = i\n",
        "    \n",
        "    isolated = pdp_isolate(\n",
        "      model=boosting, \n",
        "      dataset=X_train, \n",
        "      model_features=X_train.columns, \n",
        "      feature=feature\n",
        ")\n",
        "    pdp_plot(isolated, feature_name=feature);\n",
        "    plt.show();"
      ],
      "metadata": {
        "colab": {
          "base_uri": "https://localhost:8080/",
          "height": 1000
        },
        "id": "Rbw9h6w8b6QU",
        "outputId": "435b18bd-607c-4af6-f5d9-5b7d96242a6a"
      },
      "execution_count": null,
      "outputs": [
        {
          "output_type": "stream",
          "name": "stderr",
          "text": [
            "findfont: Font family ['Arial'] not found. Falling back to DejaVu Sans.\n",
            "findfont: Font family ['Arial'] not found. Falling back to DejaVu Sans.\n",
            "findfont: Font family ['Arial'] not found. Falling back to DejaVu Sans.\n",
            "findfont: Font family ['Arial'] not found. Falling back to DejaVu Sans.\n"
          ]
        },
        {
          "output_type": "display_data",
          "data": {
            "text/plain": [
              "<Figure size 1080x684 with 2 Axes>"
            ],
            "image/png": "[encoded data removed]"
          },
          "metadata": {}
        },
        {
          "output_type": "display_data",
          "data": {
            "text/plain": [
              "<Figure size 1080x684 with 2 Axes>"
            ],
            "image/png": "[encoded data removed]"
          },
          "metadata": {}
        }
      ]
    },
    {
      "cell_type": "markdown",
      "source": [
        "\n",
        "\n",
        "> SHAP\n"
      ],
      "metadata": {
        "id": "u3X90nhaexHi"
      }
    },
    {
      "cell_type": "code",
      "source": [
        "import shap\n",
        "explainer = shap.TreeExplainer(model)\n",
        "# 100개 테스트 샘플에 대해서 각 특성들의 영향을 봅니다. 샘플 수를 너무 크게 잢으면 계산이 오래걸리니 주의하세요.\n",
        "shap_values = explainer.shap_values(X_test.iloc[:100])\n",
        "shap.force_plot(explainer.expected_value, shap_values, X_test.iloc[:100])\n"
      ],
      "metadata": {
        "colab": {
          "base_uri": "https://localhost:8080/",
          "height": 69
        },
        "id": "wl83QPnjDm2G",
        "outputId": "9fe3d6cb-aaa5-4f6e-b5cc-0d5676076ded"
      },
      "execution_count": null,
      "outputs": [
        {
          "output_type": "execute_result",
          "data": {
            "text/plain": [
              "<shap.plots._force.AdditiveForceArrayVisualizer at 0x7fafdc3fee90>"
            ],
            "text/html": [
              "\n",
              "<div id='iK8LPQIE4LLFLJ7ALHWOD'>\n",
              "<div style='color: #900; text-align: center;'>\n",
              "  <b>Visualization omitted, Javascript library not loaded!</b><br>\n",
              "  Have you run `initjs()` in this notebook? If this notebook was from another\n",
              "  user you must also trust this notebook (File -> Trust notebook). If you are viewing\n",
              "  this notebook on github the Javascript has been stripped for security. If you are using\n",
              "  JupyterLab this error is because a JupyterLab extension has not yet been written.\n",
              "</div></div>\n",
              " <script>\n",
              "   if (window.SHAP) SHAP.ReactDom.render(\n",
              "    SHAP.React.createElement(SHAP.AdditiveForceArrayVisualizer, {\"outNames\": [\"f(x)\"], \"baseValue\": 6845732322.222971, \"link\": \"identity\", \"featureNames\": [\"M_of_gov\", \"M_of_GDP\"], \"explanations\": [{\"outValue\": 391388260.8229866, \"simIndex\": 15.0, \"features\": {\"0\": {\"effect\": 3963208995.362662, \"value\": 2.79824561403509}, \"1\": {\"effect\": -10417553056.762646, \"value\": 0.383913656735458}}}, {\"outValue\": 4342157441.370994, \"simIndex\": 80.0, \"features\": {\"0\": {\"effect\": 1269445738.8257282, \"value\": 6.17026954218999}, \"1\": {\"effect\": -3773020619.677706, \"value\": 1.27948576994151}}}, {\"outValue\": 6610131.3058748245, \"simIndex\": 46.0, \"features\": {\"0\": {\"effect\": -1830743738.3243513, \"value\": 0.0}, \"1\": {\"effect\": -5008378452.592745, \"value\": 0.0}}}, {\"outValue\": 15269885490.52186, \"simIndex\": 91.0, \"features\": {\"0\": {\"effect\": 2330640166.746438, \"value\": 12.9677696230221}, \"1\": {\"effect\": 6093513001.552451, \"value\": 2.47295558071308}}}, {\"outValue\": 237402257.32667732, \"simIndex\": 27.0, \"features\": {\"0\": {\"effect\": 85834342.27375717, \"value\": 2.28861713555174}, \"1\": {\"effect\": -6694164407.170051, \"value\": 0.641960495729851}}}, {\"outValue\": 6610131.3058748245, \"simIndex\": 47.0, \"features\": {\"0\": {\"effect\": -1830743738.3243513, \"value\": 0.0}, \"1\": {\"effect\": -5008378452.592745, \"value\": 0.0}}}, {\"outValue\": 6610131.3058748245, \"simIndex\": 48.0, \"features\": {\"0\": {\"effect\": -1830743738.3243513, \"value\": 0.0}, \"1\": {\"effect\": -5008378452.592745, \"value\": 0.0}}}, {\"outValue\": 6610131.3058748245, \"simIndex\": 45.0, \"features\": {\"0\": {\"effect\": -1830743738.3243513, \"value\": 0.0}, \"1\": {\"effect\": -5008378452.592745, \"value\": 0.0}}}, {\"outValue\": 10294539161.118942, \"simIndex\": 16.0, \"features\": {\"0\": {\"effect\": 4166413008.2233777, \"value\": 3.66772504203208}, \"1\": {\"effect\": -717606169.3274074, \"value\": 1.50347763554507}}}, {\"outValue\": 7854301141.181364, \"simIndex\": 7.0, \"features\": {\"0\": {\"effect\": 6119834265.96844, \"value\": 3.00147268139019}, \"1\": {\"effect\": -5111265447.010047, \"value\": 1.47595659708976}}}, {\"outValue\": 15168126011.561007, \"simIndex\": 94.0, \"features\": {\"0\": {\"effect\": -3054156453.851782, \"value\": 14.5894266540312}, \"1\": {\"effect\": 11376550143.189817, \"value\": 5.50902752450181}}}, {\"outValue\": 6610131.3058748245, \"simIndex\": 49.0, \"features\": {\"0\": {\"effect\": -1830743738.3243513, \"value\": 0.0}, \"1\": {\"effect\": -5008378452.592745, \"value\": 0.0}}}, {\"outValue\": 809007042.4116983, \"simIndex\": 70.0, \"features\": {\"0\": {\"effect\": -1349721279.3604734, \"value\": 4.29066343322363}, \"1\": {\"effect\": -4687004000.450799, \"value\": 1.05681996600427}}}, {\"outValue\": 6610131.3058748245, \"simIndex\": 44.0, \"features\": {\"0\": {\"effect\": -1830743738.3243513, \"value\": 0.0}, \"1\": {\"effect\": -5008378452.592745, \"value\": 0.0}}}, {\"outValue\": 1325505378.0356865, \"simIndex\": 24.0, \"features\": {\"0\": {\"effect\": 426917167.6233034, \"value\": 2.00101703534198}, \"1\": {\"effect\": -5947144111.810588, \"value\": 0.389122470657362}}}, {\"outValue\": 6610131.3058748245, \"simIndex\": 50.0, \"features\": {\"0\": {\"effect\": -1830743738.3243513, \"value\": 0.0}, \"1\": {\"effect\": -5008378452.592745, \"value\": 0.0}}}, {\"outValue\": 1368373981.112957, \"simIndex\": 92.0, \"features\": {\"0\": {\"effect\": -8797812493.059181, \"value\": 15.1752378658316}, \"1\": {\"effect\": 3320454151.9491677, \"value\": 3.39622641509434}}}, {\"outValue\": 282532136612.3283, \"simIndex\": 98.0, \"features\": {\"0\": {\"effect\": 168931705380.5628, \"value\": 12.4538432491225}, \"1\": {\"effect\": 106754698909.54257, \"value\": 5.41025103617458}}}, {\"outValue\": 12070853860.503403, \"simIndex\": 6.0, \"features\": {\"0\": {\"effect\": 10711860924.06501, \"value\": 2.63761086934857}, \"1\": {\"effect\": -5486739385.784577, \"value\": 1.07915953207208}}}, {\"outValue\": 6610131.3058748245, \"simIndex\": 43.0, \"features\": {\"0\": {\"effect\": -1830743738.3243513, \"value\": 0.0}, \"1\": {\"effect\": -5008378452.592745, \"value\": 0.0}}}, {\"outValue\": 6610131.3058748245, \"simIndex\": 51.0, \"features\": {\"0\": {\"effect\": -1830743738.3243513, \"value\": 0.0}, \"1\": {\"effect\": -5008378452.592745, \"value\": 0.0}}}, {\"outValue\": 6610131.3058748245, \"simIndex\": 42.0, \"features\": {\"0\": {\"effect\": -1830743738.3243513, \"value\": 0.0}, \"1\": {\"effect\": -5008378452.592745, \"value\": 0.0}}}, {\"outValue\": 796464978.7258072, \"simIndex\": 69.0, \"features\": {\"0\": {\"effect\": -1523833631.6254048, \"value\": 1.51395248655807}, \"1\": {\"effect\": -4525433711.871758, \"value\": 0.512936297785713}}}, {\"outValue\": 6610131.3058748245, \"simIndex\": 52.0, \"features\": {\"0\": {\"effect\": -1830743738.3243513, \"value\": 0.0}, \"1\": {\"effect\": -5008378452.592745, \"value\": 0.0}}}, {\"outValue\": 6610131.3058748245, \"simIndex\": 41.0, \"features\": {\"0\": {\"effect\": -1830743738.3243513, \"value\": 0.0}, \"1\": {\"effect\": -5008378452.592745, \"value\": 0.0}}}, {\"outValue\": 6610131.3058748245, \"simIndex\": 53.0, \"features\": {\"0\": {\"effect\": -1830743738.3243513, \"value\": 0.0}, \"1\": {\"effect\": -5008378452.592745, \"value\": 0.0}}}, {\"outValue\": 6610131.3058748245, \"simIndex\": 40.0, \"features\": {\"0\": {\"effect\": -1830743738.3243513, \"value\": 0.0}, \"1\": {\"effect\": -5008378452.592745, \"value\": 0.0}}}, {\"outValue\": 44480506371.40766, \"simIndex\": 95.0, \"features\": {\"0\": {\"effect\": -14931688323.282377, \"value\": 13.5083280624078}, \"1\": {\"effect\": 52566462372.46707, \"value\": 3.41775933255807}}}, {\"outValue\": 760441099.080265, \"simIndex\": 86.0, \"features\": {\"0\": {\"effect\": -2438795808.1529093, \"value\": 4.48966307075897}, \"1\": {\"effect\": -3646495414.989796, \"value\": 1.36968441109766}}}, {\"outValue\": 12033155285.452389, \"simIndex\": 17.0, \"features\": {\"0\": {\"effect\": 4770153957.961499, \"value\": 5.55361707116895}, \"1\": {\"effect\": 417269005.2679175, \"value\": 1.96227204996962}}}, {\"outValue\": 6610131.3058748245, \"simIndex\": 54.0, \"features\": {\"0\": {\"effect\": -1830743738.3243513, \"value\": 0.0}, \"1\": {\"effect\": -5008378452.592745, \"value\": 0.0}}}, {\"outValue\": 2501764657.719061, \"simIndex\": 76.0, \"features\": {\"0\": {\"effect\": 502203588.7880628, \"value\": 1.69410567116262}, \"1\": {\"effect\": -4846171253.291973, \"value\": 0.493375226495272}}}, {\"outValue\": 716669065.6866541, \"simIndex\": 25.0, \"features\": {\"0\": {\"effect\": 42875069.93152058, \"value\": 4.95811846491353}, \"1\": {\"effect\": -6171938326.467837, \"value\": 1.41333070740643}}}, {\"outValue\": 65993036.75739479, \"simIndex\": 83.0, \"features\": {\"0\": {\"effect\": -4406700772.539737, \"value\": 0.0}, \"1\": {\"effect\": -2373038512.9258394, \"value\": 2.72837221377968}}}, {\"outValue\": 285774654.18224525, \"simIndex\": 73.0, \"features\": {\"0\": {\"effect\": -1946659363.9730048, \"value\": 1.22252076209086}, \"1\": {\"effect\": -4613298304.06772, \"value\": 0.514494537243317}}}, {\"outValue\": 6610131.3058748245, \"simIndex\": 39.0, \"features\": {\"0\": {\"effect\": -1830743738.3243513, \"value\": 0.0}, \"1\": {\"effect\": -5008378452.592745, \"value\": 0.0}}}, {\"outValue\": 6610131.3058748245, \"simIndex\": 55.0, \"features\": {\"0\": {\"effect\": -1830743738.3243513, \"value\": 0.0}, \"1\": {\"effect\": -5008378452.592745, \"value\": 0.0}}}, {\"outValue\": 6610131.3058748245, \"simIndex\": 38.0, \"features\": {\"0\": {\"effect\": -1830743738.3243513, \"value\": 0.0}, \"1\": {\"effect\": -5008378452.592745, \"value\": 0.0}}}, {\"outValue\": 10825249087.871887, \"simIndex\": 3.0, \"features\": {\"0\": {\"effect\": 7358261635.967209, \"value\": 3.09183626590711}, \"1\": {\"effect\": -3378744870.318293, \"value\": 1.48985108130425}}}, {\"outValue\": 317698937131.09546, \"simIndex\": 99.0, \"features\": {\"0\": {\"effect\": 153174009932.81064, \"value\": 12.0194713616305}, \"1\": {\"effect\": 157679194876.06186, \"value\": 4.54092330961466}}}, {\"outValue\": 6610131.3058748245, \"simIndex\": 56.0, \"features\": {\"0\": {\"effect\": -1830743738.3243513, \"value\": 0.0}, \"1\": {\"effect\": -5008378452.592745, \"value\": 0.0}}}, {\"outValue\": 4092185347.2573404, \"simIndex\": 82.0, \"features\": {\"0\": {\"effect\": 128752506.52052195, \"value\": 5.64603584596881}, \"1\": {\"effect\": -2882299481.4861526, \"value\": 1.80524172597542}}}, {\"outValue\": 8492546783.990983, \"simIndex\": 21.0, \"features\": {\"0\": {\"effect\": 426411896.4770566, \"value\": 9.27262106429304}, \"1\": {\"effect\": 1220402565.2909555, \"value\": 2.61816761903533}}}, {\"outValue\": 4358065145.247854, \"simIndex\": 9.0, \"features\": {\"0\": {\"effect\": 3934358215.9368725, \"value\": 4.68975242870574}, \"1\": {\"effect\": -6422025392.911989, \"value\": 1.41998694334012}}}, {\"outValue\": 6610131.3058748245, \"simIndex\": 37.0, \"features\": {\"0\": {\"effect\": -1830743738.3243513, \"value\": 0.0}, \"1\": {\"effect\": -5008378452.592745, \"value\": 0.0}}}, {\"outValue\": 737951122.1476974, \"simIndex\": 71.0, \"features\": {\"0\": {\"effect\": -1711966324.872807, \"value\": 4.0770585283031}, \"1\": {\"effect\": -4395814875.202467, \"value\": 1.6279329716805}}}, {\"outValue\": 6610131.3058748245, \"simIndex\": 57.0, \"features\": {\"0\": {\"effect\": -1830743738.3243513, \"value\": 0.0}, \"1\": {\"effect\": -5008378452.592745, \"value\": 0.0}}}, {\"outValue\": 507086203.20605946, \"simIndex\": 22.0, \"features\": {\"0\": {\"effect\": 780135798.1293262, \"value\": 4.93158026676348}, \"1\": {\"effect\": -7118781917.146237, \"value\": 0.702056157787745}}}, {\"outValue\": 2171831504.9457855, \"simIndex\": 75.0, \"features\": {\"0\": {\"effect\": 211393908.9032051, \"value\": 1.8099570358652}, \"1\": {\"effect\": -4885294726.18039, \"value\": 0.495064413696788}}}, {\"outValue\": 6587575980.799684, \"simIndex\": 20.0, \"features\": {\"0\": {\"effect\": -40455792.84111336, \"value\": 5.88400843561548}, \"1\": {\"effect\": -217700548.58217376, \"value\": 2.00944779894555}}}, {\"outValue\": 1675056238.2051983, \"simIndex\": 77.0, \"features\": {\"0\": {\"effect\": -263294057.03148258, \"value\": 5.39701455092825}, \"1\": {\"effect\": -4907382026.98629, \"value\": 1.49929579850642}}}, {\"outValue\": 4334042659.111781, \"simIndex\": 10.0, \"features\": {\"0\": {\"effect\": 4269619397.598996, \"value\": 2.53951800984711}, \"1\": {\"effect\": -6781309060.710186, \"value\": 1.0875152363104}}}, {\"outValue\": 6610131.3058748245, \"simIndex\": 36.0, \"features\": {\"0\": {\"effect\": -1830743738.3243513, \"value\": 0.0}, \"1\": {\"effect\": -5008378452.592745, \"value\": 0.0}}}, {\"outValue\": 722553455.9855604, \"simIndex\": 72.0, \"features\": {\"0\": {\"effect\": -1801675535.6671326, \"value\": 4.24378498276555}, \"1\": {\"effect\": -4321503330.570278, \"value\": 1.34651599128914}}}, {\"outValue\": 6610131.3058748245, \"simIndex\": 58.0, \"features\": {\"0\": {\"effect\": -1830743738.3243513, \"value\": 0.0}, \"1\": {\"effect\": -5008378452.592745, \"value\": 0.0}}}, {\"outValue\": 36436919519.04118, \"simIndex\": 96.0, \"features\": {\"0\": {\"effect\": -1071927351.9950978, \"value\": 9.10796530191292}, \"1\": {\"effect\": 30663114548.813313, \"value\": 3.68807106615083}}}, {\"outValue\": 6610131.3058748245, \"simIndex\": 35.0, \"features\": {\"0\": {\"effect\": -1830743738.3243513, \"value\": 0.0}, \"1\": {\"effect\": -5008378452.592745, \"value\": 0.0}}}, {\"outValue\": 6610131.3058748245, \"simIndex\": 59.0, \"features\": {\"0\": {\"effect\": -1830743738.3243513, \"value\": 0.0}, \"1\": {\"effect\": -5008378452.592745, \"value\": 0.0}}}, {\"outValue\": 33049124389.62661, \"simIndex\": 1.0, \"features\": {\"0\": {\"effect\": 20069078424.081615, \"value\": 2.7061078941868}, \"1\": {\"effect\": 6134313643.322022, \"value\": 1.3165669784612}}}, {\"outValue\": 6106548459.044663, \"simIndex\": 19.0, \"features\": {\"0\": {\"effect\": -500204523.7970156, \"value\": 4.64187496520626}, \"1\": {\"effect\": -238979339.38129216, \"value\": 2.35078288371489}}}, {\"outValue\": 6610131.3058748245, \"simIndex\": 34.0, \"features\": {\"0\": {\"effect\": -1830743738.3243513, \"value\": 0.0}, \"1\": {\"effect\": -5008378452.592745, \"value\": 0.0}}}, {\"outValue\": 6610131.3058748245, \"simIndex\": 60.0, \"features\": {\"0\": {\"effect\": -1830743738.3243513, \"value\": 0.0}, \"1\": {\"effect\": -5008378452.592745, \"value\": 0.0}}}, {\"outValue\": 4748934202.443499, \"simIndex\": 81.0, \"features\": {\"0\": {\"effect\": 1109146371.3275654, \"value\": 2.24552080186042}, \"1\": {\"effect\": -3205944491.107038, \"value\": 1.12864547726941}}}, {\"outValue\": 6610131.3058748245, \"simIndex\": 33.0, \"features\": {\"0\": {\"effect\": -1830743738.3243513, \"value\": 0.0}, \"1\": {\"effect\": -5008378452.592745, \"value\": 0.0}}}, {\"outValue\": 6610131.3058748245, \"simIndex\": 61.0, \"features\": {\"0\": {\"effect\": -1830743738.3243513, \"value\": 0.0}, \"1\": {\"effect\": -5008378452.592745, \"value\": 0.0}}}, {\"outValue\": 6610131.3058748245, \"simIndex\": 32.0, \"features\": {\"0\": {\"effect\": -1830743738.3243513, \"value\": 0.0}, \"1\": {\"effect\": -5008378452.592745, \"value\": 0.0}}}, {\"outValue\": 1488698888.7856245, \"simIndex\": 79.0, \"features\": {\"0\": {\"effect\": -800645382.202185, \"value\": 3.80091657853412}, \"1\": {\"effect\": -4556388051.235162, \"value\": 1.24670728942184}}}, {\"outValue\": 6610131.3058748245, \"simIndex\": 62.0, \"features\": {\"0\": {\"effect\": -1830743738.3243513, \"value\": 0.0}, \"1\": {\"effect\": -5008378452.592745, \"value\": 0.0}}}, {\"outValue\": 21315548979.60469, \"simIndex\": 2.0, \"features\": {\"0\": {\"effect\": 14936402741.01268, \"value\": 9.4838621056363}, \"1\": {\"effect\": -466586083.63095826, \"value\": 2.57055243515557}}}, {\"outValue\": 433428450.90155506, \"simIndex\": 67.0, \"features\": {\"0\": {\"effect\": -1351787476.8665116, \"value\": 1.41429458491449}, \"1\": {\"effect\": -5060516394.454905, \"value\": 0.637730517559438}}}, {\"outValue\": 11374556786.735477, \"simIndex\": 4.0, \"features\": {\"0\": {\"effect\": 8865584691.462374, \"value\": 2.74757242596902}, \"1\": {\"effect\": -4336760226.949867, \"value\": 1.11808087955152}}}, {\"outValue\": 6610131.3058748245, \"simIndex\": 31.0, \"features\": {\"0\": {\"effect\": -1830743738.3243513, \"value\": 0.0}, \"1\": {\"effect\": -5008378452.592745, \"value\": 0.0}}}, {\"outValue\": 6610131.3058748245, \"simIndex\": 63.0, \"features\": {\"0\": {\"effect\": -1830743738.3243513, \"value\": 0.0}, \"1\": {\"effect\": -5008378452.592745, \"value\": 0.0}}}, {\"outValue\": 284366092.3690672, \"simIndex\": 12.0, \"features\": {\"0\": {\"effect\": 2886113638.8312387, \"value\": 2.52956636005256}, \"1\": {\"effect\": -9447479868.685143, \"value\": 0.234862058929382}}}, {\"outValue\": 453601523.6281376, \"simIndex\": 84.0, \"features\": {\"0\": {\"effect\": -2326557529.864561, \"value\": 4.0613414223121}, \"1\": {\"effect\": -4065573268.730273, \"value\": 1.31407969396345}}}, {\"outValue\": 5499220509.777072, \"simIndex\": 11.0, \"features\": {\"0\": {\"effect\": 3856492076.1739864, \"value\": 2.46868659247346}, \"1\": {\"effect\": -5203003888.619885, \"value\": 1.415055840779}}}, {\"outValue\": 6610131.3058748245, \"simIndex\": 30.0, \"features\": {\"0\": {\"effect\": -1830743738.3243513, \"value\": 0.0}, \"1\": {\"effect\": -5008378452.592745, \"value\": 0.0}}}, {\"outValue\": 4212350801.6795635, \"simIndex\": 89.0, \"features\": {\"0\": {\"effect\": -1451371957.7466373, \"value\": 5.9147596561327}, \"1\": {\"effect\": -1182009562.7967699, \"value\": 2.00715069627547}}}, {\"outValue\": 6146729541.606139, \"simIndex\": 18.0, \"features\": {\"0\": {\"effect\": -962681003.2139037, \"value\": 6.15618661257606}, \"1\": {\"effect\": 263678222.59707156, \"value\": 2.35188715281228}}}, {\"outValue\": 6834035388.249991, \"simIndex\": 5.0, \"features\": {\"0\": {\"effect\": 7549046855.255729, \"value\": 2.6131760091538}, \"1\": {\"effect\": -7560743789.228708, \"value\": 1.07419344292801}}}, {\"outValue\": 1332837043.4537868, \"simIndex\": 68.0, \"features\": {\"0\": {\"effect\": -1284397586.9248843, \"value\": 3.99197769786721}, \"1\": {\"effect\": -4228497691.8442993, \"value\": 1.34599858235856}}}, {\"outValue\": 600262708.3270445, \"simIndex\": 23.0, \"features\": {\"0\": {\"effect\": 1259196844.656575, \"value\": 3.5500568255017}, \"1\": {\"effect\": -7504666458.552502, \"value\": 0.6239720195871}}}, {\"outValue\": 6610131.3058748245, \"simIndex\": 64.0, \"features\": {\"0\": {\"effect\": -1830743738.3243513, \"value\": 0.0}, \"1\": {\"effect\": -5008378452.592745, \"value\": 0.0}}}, {\"outValue\": 6610131.3058748245, \"simIndex\": 29.0, \"features\": {\"0\": {\"effect\": -1830743738.3243513, \"value\": 0.0}, \"1\": {\"effect\": -5008378452.592745, \"value\": 0.0}}}, {\"outValue\": 6610131.3058748245, \"simIndex\": 65.0, \"features\": {\"0\": {\"effect\": -1830743738.3243513, \"value\": 0.0}, \"1\": {\"effect\": -5008378452.592745, \"value\": 0.0}}}, {\"outValue\": 102125055288.92357, \"simIndex\": 97.0, \"features\": {\"0\": {\"effect\": 38782660586.45505, \"value\": 12.249043287327}, \"1\": {\"effect\": 56496662380.245544, \"value\": 3.41712762358197}}}, {\"outValue\": 8099421537.148488, \"simIndex\": 8.0, \"features\": {\"0\": {\"effect\": 5787438208.774741, \"value\": 3.24851042701092}, \"1\": {\"effect\": -4533748993.849224, \"value\": 1.38226776000155}}}, {\"outValue\": 1925268765.244482, \"simIndex\": 13.0, \"features\": {\"0\": {\"effect\": 3147018111.2349715, \"value\": 3.17343105817682}, \"1\": {\"effect\": -8067481668.213461, \"value\": 1.06055250928462}}}, {\"outValue\": 2596805028.2657547, \"simIndex\": 88.0, \"features\": {\"0\": {\"effect\": -2036174725.5098479, \"value\": 5.19327660291516}, \"1\": {\"effect\": -2212752568.447368, \"value\": 2.75021826236583}}}, {\"outValue\": 4066955052.2646046, \"simIndex\": 93.0, \"features\": {\"0\": {\"effect\": -4353481955.607236, \"value\": 13.8673058776832}, \"1\": {\"effect\": 1574704685.6488695, \"value\": 3.26060835702917}}}, {\"outValue\": 391598080184.96796, \"simIndex\": 100.0, \"features\": {\"0\": {\"effect\": 201179414519.91382, \"value\": 12.0250725449374}, \"1\": {\"effect\": 183572933342.8312, \"value\": 4.45523942155109}}}, {\"outValue\": 20070504118.76368, \"simIndex\": 90.0, \"features\": {\"0\": {\"effect\": 7965767364.041291, \"value\": 9.00417638623643}, \"1\": {\"effect\": 5259004432.499417, \"value\": 2.68249827738951}}}, {\"outValue\": 291125708.17034817, \"simIndex\": 66.0, \"features\": {\"0\": {\"effect\": -1363771591.8370523, \"value\": 4.35924523179208}, \"1\": {\"effect\": -5190835022.21557, \"value\": 0.725001628386087}}}, {\"outValue\": 204925219.1471634, \"simIndex\": 14.0, \"features\": {\"0\": {\"effect\": 3841154682.223802, \"value\": 2.82685323648793}, \"1\": {\"effect\": -10481961785.29961, \"value\": 0.483220755707797}}}, {\"outValue\": 1041014288.004427, \"simIndex\": 78.0, \"features\": {\"0\": {\"effect\": -735849260.8861816, \"value\": 5.38717448245134}, \"1\": {\"effect\": -5068868773.332362, \"value\": 1.37536237637344}}}, {\"outValue\": 855611369.7869577, \"simIndex\": 87.0, \"features\": {\"0\": {\"effect\": -2810163590.7198124, \"value\": 4.38249580064535}, \"1\": {\"effect\": -3179957361.716201, \"value\": 0.961656696108958}}}, {\"outValue\": 924359349.6518707, \"simIndex\": 85.0, \"features\": {\"0\": {\"effect\": -2239238711.9874935, \"value\": 6.74765347824134}, \"1\": {\"effect\": -3682134260.5836062, \"value\": 1.31763957000893}}}, {\"outValue\": 784809067.5832844, \"simIndex\": 26.0, \"features\": {\"0\": {\"effect\": 403118498.81615585, \"value\": 3.58383011499448}, \"1\": {\"effect\": -6464041753.455842, \"value\": 0.717115235195965}}}, {\"outValue\": 2982198002.7606277, \"simIndex\": 74.0, \"features\": {\"0\": {\"effect\": 276247527.5097861, \"value\": 1.71967310561794}, \"1\": {\"effect\": -4139781846.9721293, \"value\": 0.893042950353347}}}, {\"outValue\": 6610131.3058748245, \"simIndex\": 28.0, \"features\": {\"0\": {\"effect\": -1830743738.3243513, \"value\": 0.0}, \"1\": {\"effect\": -5008378452.592745, \"value\": 0.0}}}], \"plot_cmap\": \"RdBu\", \"ordering_keys\": null, \"ordering_keys_time_format\": null}),\n",
              "    document.getElementById('iK8LPQIE4LLFLJ7ALHWOD')\n",
              "  );\n",
              "</script>"
            ]
          },
          "metadata": {},
          "execution_count": 57
        }
      ]
    },
    {
      "cell_type": "code",
      "source": [
        "shap_values = explainer.shap_values(X_test.iloc[:300])\n",
        "shap.summary_plot(shap_values, X_test.iloc[:300])"
      ],
      "metadata": {
        "colab": {
          "base_uri": "https://localhost:8080/",
          "height": 196
        },
        "id": "5UCjeUaLEXBY",
        "outputId": "24a4ffb9-7cfd-499d-e7c8-9e54fbdb8ffe"
      },
      "execution_count": null,
      "outputs": [
        {
          "output_type": "display_data",
          "data": {
            "text/plain": [
              "<Figure size 576x165.6 with 2 Axes>"
            ],
            "image/png": "[encoded data removed]"
          },
          "metadata": {}
        }
      ]
    },
    {
      "cell_type": "code",
      "source": [
        "shap.summary_plot(shap_values, X_test.iloc[:300], plot_type=\"violin\")"
      ],
      "metadata": {
        "colab": {
          "base_uri": "https://localhost:8080/",
          "height": 196
        },
        "id": "leOUw15BEhtb",
        "outputId": "a37bacdc-b815-4011-8aaf-683ebb969f30"
      },
      "execution_count": null,
      "outputs": [
        {
          "output_type": "display_data",
          "data": {
            "text/plain": [
              "<Figure size 576x165.6 with 2 Axes>"
            ],
            "image/png": "[encoded data removed]"
          },
          "metadata": {}
        }
      ]
    },
    {
      "cell_type": "code",
      "source": [
        "shap.summary_plot(shap_values, X_test.iloc[:300], plot_type=\"bar\")"
      ],
      "metadata": {
        "colab": {
          "base_uri": "https://localhost:8080/",
          "height": 192
        },
        "id": "rxEGIZRmElA3",
        "outputId": "2559b885-11cc-423e-c50e-ca94599afcdf"
      },
      "execution_count": null,
      "outputs": [
        {
          "output_type": "display_data",
          "data": {
            "text/plain": [
              "<Figure size 576x165.6 with 1 Axes>"
            ],
            "image/png": "[encoded data removed]"
          },
          "metadata": {}
        }
      ]
    },
    {
      "cell_type": "markdown",
      "source": [
        "\n",
        "\n",
        "---\n",
        "\n",
        "\n",
        "\n",
        "---\n",
        "# 종합 결론\n",
        "\n",
        "귀무가설 'gdp대비 국방비 비율(M_of_GDP)과 국가지출 대비 국방비 비율(M_of_gov)로 국방비의 규모에 크게 영향을 미치고 있다.'이다.\n",
        "\n",
        "gdp대비 국방비 비율(M_of_GDP)과 국가지출 대비 국방비 비율(M_of_gov)은  국방비에 영향을 주지 않는다.\n",
        "\n",
        "비율이 아닌 GDP,국가지출의 데이터가 필요하다.\n",
        "\n",
        "모델 성능이 매우 좋지 않다.\n",
        "\n",
        "\n",
        "> ## *데이터가 부족했고 독립변수 설정과 가설에 문제가 있었던 거 같다.*\n",
        "  \n",
        "\n",
        "\n",
        "\n",
        "\n",
        "\n",
        "\n",
        "\n",
        "---\n",
        "\n",
        "\n",
        "\n",
        "---\n",
        "\n",
        "\n",
        "\n",
        "\n",
        "\n"
      ],
      "metadata": {
        "id": "qKBRkWlvQZvf"
      }
    }
  ]
}